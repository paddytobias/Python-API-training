{
 "cells": [
  {
   "cell_type": "markdown",
   "metadata": {
    "collapsed": true
   },
   "source": [
    "# Python course for AV/Networks group\n",
    "---------\n",
    "\n",
    "By Dr Paddy Tobias\n",
    "\n",
    "[@tobias_paddy](https://twitter.com/tobias_paddy)"
   ]
  },
  {
   "cell_type": "markdown",
   "metadata": {},
   "source": [
    "\n",
    "**First half - Python basics**\n",
    "* [Basics, booleans and data types](#Python-basics)\n",
    "* [Dataframes](#A-quick-introduction-to-dataframes)\n",
    "* [Slicing and Dicing](#Slicing-and-dicing)\n",
    "* [Formatting Strings](#Formatting-strings)\n",
    "* [Tuples, Lists and Dictionaries](#Tuples,-Lists-and-Dictionaries)\n",
    "* [For loops](#For-loops)\n",
    "* [If statements](#If-statements)\n",
    "* [Error handling](##Error-handling)\n",
    "\n",
    "**Second half - API calls**\n",
    "* [Calling Restful APIs with Python](#Calling-Restful-APIs-with-Python)\n"
   ]
  },
  {
   "cell_type": "markdown",
   "metadata": {
    "collapsed": true
   },
   "source": [
    "## Introduction\n",
    "-----------"
   ]
  },
  {
   "cell_type": "markdown",
   "metadata": {},
   "source": [
    "Why program? Computers do somethings really well:\n",
    "* Take input\n",
    "* Give output\n",
    "* Make calculations\n",
    "* Apply conditions and make (logical) choices\n",
    "* Do repeated tasks\n"
   ]
  },
  {
   "cell_type": "markdown",
   "metadata": {},
   "source": [
    "## Python basics\n",
    "\n",
    "Borrowed from [http://swcarpentry.github.io/python-novice-inflammation/01-numpy/index.html](http://swcarpentry.github.io/python-novice-inflammation/01-numpy/index.html)"
   ]
  },
  {
   "cell_type": "code",
   "execution_count": 1,
   "metadata": {},
   "outputs": [
    {
     "data": {
      "text/plain": [
       "23"
      ]
     },
     "execution_count": 1,
     "metadata": {},
     "output_type": "execute_result"
    }
   ],
   "source": [
    "3 + 5 * 4"
   ]
  },
  {
   "cell_type": "code",
   "execution_count": 1,
   "metadata": {},
   "outputs": [
    {
     "data": {
      "text/plain": [
       "32"
      ]
     },
     "execution_count": 1,
     "metadata": {},
     "output_type": "execute_result"
    }
   ],
   "source": [
    "(3 + 5) * 4"
   ]
  },
  {
   "cell_type": "code",
   "execution_count": 4,
   "metadata": {},
   "outputs": [
    {
     "data": {
      "text/plain": [
       "25"
      ]
     },
     "execution_count": 4,
     "metadata": {},
     "output_type": "execute_result"
    }
   ],
   "source": [
    "## exponentiation\n",
    "5 ** 2 "
   ]
  },
  {
   "cell_type": "code",
   "execution_count": 6,
   "metadata": {},
   "outputs": [
    {
     "data": {
      "text/plain": [
       "2.5"
      ]
     },
     "execution_count": 6,
     "metadata": {},
     "output_type": "execute_result"
    }
   ],
   "source": [
    "## division\n",
    "15 / 6"
   ]
  },
  {
   "cell_type": "code",
   "execution_count": 7,
   "metadata": {},
   "outputs": [
    {
     "data": {
      "text/plain": [
       "2"
      ]
     },
     "execution_count": 7,
     "metadata": {},
     "output_type": "execute_result"
    }
   ],
   "source": [
    "## floor division\n",
    "15 // 6"
   ]
  },
  {
   "cell_type": "code",
   "execution_count": 14,
   "metadata": {},
   "outputs": [
    {
     "data": {
      "text/plain": [
       "3"
      ]
     },
     "execution_count": 14,
     "metadata": {},
     "output_type": "execute_result"
    }
   ],
   "source": [
    "## gives us the remainder after the division\n",
    "\n",
    "15 % 6"
   ]
  },
  {
   "cell_type": "markdown",
   "metadata": {},
   "source": [
    "### Boolean expressions"
   ]
  },
  {
   "cell_type": "code",
   "execution_count": 13,
   "metadata": {},
   "outputs": [
    {
     "data": {
      "text/plain": [
       "True"
      ]
     },
     "execution_count": 13,
     "metadata": {},
     "output_type": "execute_result"
    }
   ],
   "source": [
    "## and\n",
    "True and True == True"
   ]
  },
  {
   "cell_type": "code",
   "execution_count": 17,
   "metadata": {},
   "outputs": [
    {
     "data": {
      "text/plain": [
       "False"
      ]
     },
     "execution_count": 17,
     "metadata": {},
     "output_type": "execute_result"
    }
   ],
   "source": [
    "True and False == True"
   ]
  },
  {
   "cell_type": "code",
   "execution_count": 19,
   "metadata": {},
   "outputs": [
    {
     "data": {
      "text/plain": [
       "True"
      ]
     },
     "execution_count": 19,
     "metadata": {},
     "output_type": "execute_result"
    }
   ],
   "source": [
    "## or\n",
    "True or False != True"
   ]
  },
  {
   "cell_type": "code",
   "execution_count": 20,
   "metadata": {},
   "outputs": [
    {
     "data": {
      "text/plain": [
       "True"
      ]
     },
     "execution_count": 20,
     "metadata": {},
     "output_type": "execute_result"
    }
   ],
   "source": [
    "True or False == True"
   ]
  },
  {
   "cell_type": "code",
   "execution_count": 23,
   "metadata": {},
   "outputs": [
    {
     "data": {
      "text/plain": [
       "True"
      ]
     },
     "execution_count": 23,
     "metadata": {},
     "output_type": "execute_result"
    }
   ],
   "source": [
    "## not\n",
    "not True == False"
   ]
  },
  {
   "cell_type": "code",
   "execution_count": 26,
   "metadata": {},
   "outputs": [
    {
     "data": {
      "text/plain": [
       "True"
      ]
     },
     "execution_count": 26,
     "metadata": {},
     "output_type": "execute_result"
    }
   ],
   "source": [
    "n = 1\n",
    "n == 2 or 2 < 3\n"
   ]
  },
  {
   "cell_type": "code",
   "execution_count": 31,
   "metadata": {},
   "outputs": [
    {
     "data": {
      "text/plain": [
       "True"
      ]
     },
     "execution_count": 31,
     "metadata": {},
     "output_type": "execute_result"
    }
   ],
   "source": [
    "not (n == 2 and 2 < 3)\n"
   ]
  },
  {
   "cell_type": "markdown",
   "metadata": {},
   "source": [
    "### Data types"
   ]
  },
  {
   "cell_type": "markdown",
   "metadata": {},
   "source": [
    "* integers\n",
    "* floating point numbers\n",
    "* strings"
   ]
  },
  {
   "cell_type": "code",
   "execution_count": 3,
   "metadata": {
    "collapsed": true
   },
   "outputs": [],
   "source": [
    "weight_kg = 60.0"
   ]
  },
  {
   "cell_type": "code",
   "execution_count": 4,
   "metadata": {
    "collapsed": true
   },
   "outputs": [],
   "source": [
    "weight_kg_text=\"weight in kilograms:\""
   ]
  },
  {
   "cell_type": "code",
   "execution_count": 5,
   "metadata": {},
   "outputs": [
    {
     "name": "stdout",
     "output_type": "stream",
     "text": [
      "weight in kilograms: 60.0\n"
     ]
    }
   ],
   "source": [
    "print(weight_kg_text, weight_kg)"
   ]
  },
  {
   "cell_type": "code",
   "execution_count": 6,
   "metadata": {},
   "outputs": [
    {
     "name": "stdout",
     "output_type": "stream",
     "text": [
      "weight in pounds: 132.0\n"
     ]
    }
   ],
   "source": [
    "print('weight in pounds:', 2.2 * weight_kg)"
   ]
  },
  {
   "cell_type": "code",
   "execution_count": 7,
   "metadata": {},
   "outputs": [
    {
     "name": "stdout",
     "output_type": "stream",
     "text": [
      "weight in kilograms is now: 65.0\n"
     ]
    }
   ],
   "source": [
    "weight_kg = 65.0\n",
    "print('weight in kilograms is now:', weight_kg)"
   ]
  },
  {
   "cell_type": "code",
   "execution_count": 8,
   "metadata": {},
   "outputs": [
    {
     "data": {
      "text/plain": [
       "float"
      ]
     },
     "execution_count": 8,
     "metadata": {},
     "output_type": "execute_result"
    }
   ],
   "source": [
    "## determining type\n",
    "\n",
    "type(weight_kg)"
   ]
  },
  {
   "cell_type": "markdown",
   "metadata": {},
   "source": [
    "### Formatting strings"
   ]
  },
  {
   "cell_type": "code",
   "execution_count": 50,
   "metadata": {},
   "outputs": [
    {
     "data": {
      "text/plain": [
       "'Hello, world'"
      ]
     },
     "execution_count": 50,
     "metadata": {},
     "output_type": "execute_result"
    }
   ],
   "source": [
    "## using the string operater '%'\n",
    "\"%s, %s\" % (\"Hello\", \"world\")"
   ]
  },
  {
   "cell_type": "code",
   "execution_count": 51,
   "metadata": {
    "scrolled": true
   },
   "outputs": [
    {
     "data": {
      "text/plain": [
       "'My age is 57'"
      ]
     },
     "execution_count": 51,
     "metadata": {},
     "output_type": "execute_result"
    }
   ],
   "source": [
    "\"%s %d\" % (\"My age is\", 57)"
   ]
  },
  {
   "cell_type": "code",
   "execution_count": 53,
   "metadata": {},
   "outputs": [
    {
     "ename": "TypeError",
     "evalue": "not all arguments converted during string formatting",
     "output_type": "error",
     "traceback": [
      "\u001b[1;31m---------------------------------------------------------------------------\u001b[0m",
      "\u001b[1;31mTypeError\u001b[0m                                 Traceback (most recent call last)",
      "\u001b[1;32m<ipython-input-53-1ec32aaf9d83>\u001b[0m in \u001b[0;36m<module>\u001b[1;34m()\u001b[0m\n\u001b[0;32m      1\u001b[0m \u001b[1;31m## try this\u001b[0m\u001b[1;33m\u001b[0m\u001b[1;33m\u001b[0m\u001b[0m\n\u001b[1;32m----> 2\u001b[1;33m \u001b[1;34m\"%s %d\"\u001b[0m \u001b[1;33m%\u001b[0m \u001b[1;33m(\u001b[0m\u001b[1;34m\"My age is\"\u001b[0m\u001b[1;33m,\u001b[0m \u001b[1;36m57\u001b[0m\u001b[1;33m,\u001b[0m \u001b[1;36m44\u001b[0m\u001b[1;33m)\u001b[0m\u001b[1;33m\u001b[0m\u001b[0m\n\u001b[0m\u001b[0;32m      3\u001b[0m \u001b[1;31m# ... why did this fail?\u001b[0m\u001b[1;33m\u001b[0m\u001b[1;33m\u001b[0m\u001b[0m\n",
      "\u001b[1;31mTypeError\u001b[0m: not all arguments converted during string formatting"
     ]
    }
   ],
   "source": [
    "## try this\n",
    "\"%s %d\" % (\"My age is\", 57, 44)\n",
    "# ... why did this fail?"
   ]
  },
  {
   "cell_type": "code",
   "execution_count": 54,
   "metadata": {},
   "outputs": [
    {
     "data": {
      "text/plain": [
       "'Hello Paddy, today is Monday'"
      ]
     },
     "execution_count": 54,
     "metadata": {},
     "output_type": "execute_result"
    }
   ],
   "source": [
    "import datetime as dt\n",
    "\n",
    "user = \"Paddy\"\n",
    "today = dt.datetime.today().strftime('%A') ## the code to get the day today\n",
    "\n",
    "## print string\n",
    "\"Hello {0}, today is {1}\".format(user, today)\n"
   ]
  },
  {
   "cell_type": "code",
   "execution_count": 55,
   "metadata": {},
   "outputs": [
    {
     "data": {
      "text/plain": [
       "'Hello Paddy, today is Monday'"
      ]
     },
     "execution_count": 55,
     "metadata": {},
     "output_type": "execute_result"
    }
   ],
   "source": [
    "string = \"Hello {0}, today is {1}\"\n",
    "\n",
    "string.format(user, today)\n"
   ]
  },
  {
   "cell_type": "markdown",
   "metadata": {},
   "source": [
    "## A quick introduction to dataframes"
   ]
  },
  {
   "cell_type": "code",
   "execution_count": 1,
   "metadata": {
    "collapsed": true
   },
   "outputs": [],
   "source": [
    "import pandas as pd"
   ]
  },
  {
   "cell_type": "code",
   "execution_count": 2,
   "metadata": {},
   "outputs": [
    {
     "data": {
      "text/html": [
       "<div>\n",
       "<style>\n",
       "    .dataframe thead tr:only-child th {\n",
       "        text-align: right;\n",
       "    }\n",
       "\n",
       "    .dataframe thead th {\n",
       "        text-align: left;\n",
       "    }\n",
       "\n",
       "    .dataframe tbody tr th {\n",
       "        vertical-align: top;\n",
       "    }\n",
       "</style>\n",
       "<table border=\"1\" class=\"dataframe\">\n",
       "  <thead>\n",
       "    <tr style=\"text-align: right;\">\n",
       "      <th></th>\n",
       "      <th>0</th>\n",
       "      <th>0.1</th>\n",
       "      <th>1</th>\n",
       "      <th>3</th>\n",
       "      <th>1.1</th>\n",
       "      <th>2</th>\n",
       "      <th>4</th>\n",
       "      <th>7</th>\n",
       "      <th>8</th>\n",
       "      <th>3.1</th>\n",
       "      <th>...</th>\n",
       "      <th>4.3</th>\n",
       "      <th>4.4</th>\n",
       "      <th>5.1</th>\n",
       "      <th>7.6</th>\n",
       "      <th>3.4</th>\n",
       "      <th>4.5</th>\n",
       "      <th>2.1</th>\n",
       "      <th>3.5</th>\n",
       "      <th>0.2</th>\n",
       "      <th>0.3</th>\n",
       "    </tr>\n",
       "  </thead>\n",
       "  <tbody>\n",
       "    <tr>\n",
       "      <th>0</th>\n",
       "      <td>0</td>\n",
       "      <td>1</td>\n",
       "      <td>2</td>\n",
       "      <td>1</td>\n",
       "      <td>2</td>\n",
       "      <td>1</td>\n",
       "      <td>3</td>\n",
       "      <td>2</td>\n",
       "      <td>2</td>\n",
       "      <td>6</td>\n",
       "      <td>...</td>\n",
       "      <td>3</td>\n",
       "      <td>5</td>\n",
       "      <td>4</td>\n",
       "      <td>4</td>\n",
       "      <td>5</td>\n",
       "      <td>5</td>\n",
       "      <td>1</td>\n",
       "      <td>1</td>\n",
       "      <td>0</td>\n",
       "      <td>1</td>\n",
       "    </tr>\n",
       "    <tr>\n",
       "      <th>1</th>\n",
       "      <td>0</td>\n",
       "      <td>1</td>\n",
       "      <td>1</td>\n",
       "      <td>3</td>\n",
       "      <td>3</td>\n",
       "      <td>2</td>\n",
       "      <td>6</td>\n",
       "      <td>2</td>\n",
       "      <td>5</td>\n",
       "      <td>9</td>\n",
       "      <td>...</td>\n",
       "      <td>10</td>\n",
       "      <td>5</td>\n",
       "      <td>4</td>\n",
       "      <td>2</td>\n",
       "      <td>2</td>\n",
       "      <td>3</td>\n",
       "      <td>2</td>\n",
       "      <td>2</td>\n",
       "      <td>1</td>\n",
       "      <td>1</td>\n",
       "    </tr>\n",
       "    <tr>\n",
       "      <th>2</th>\n",
       "      <td>0</td>\n",
       "      <td>0</td>\n",
       "      <td>2</td>\n",
       "      <td>0</td>\n",
       "      <td>4</td>\n",
       "      <td>2</td>\n",
       "      <td>2</td>\n",
       "      <td>1</td>\n",
       "      <td>6</td>\n",
       "      <td>7</td>\n",
       "      <td>...</td>\n",
       "      <td>3</td>\n",
       "      <td>5</td>\n",
       "      <td>6</td>\n",
       "      <td>3</td>\n",
       "      <td>3</td>\n",
       "      <td>4</td>\n",
       "      <td>2</td>\n",
       "      <td>3</td>\n",
       "      <td>2</td>\n",
       "      <td>1</td>\n",
       "    </tr>\n",
       "    <tr>\n",
       "      <th>3</th>\n",
       "      <td>0</td>\n",
       "      <td>1</td>\n",
       "      <td>1</td>\n",
       "      <td>3</td>\n",
       "      <td>3</td>\n",
       "      <td>1</td>\n",
       "      <td>3</td>\n",
       "      <td>5</td>\n",
       "      <td>2</td>\n",
       "      <td>4</td>\n",
       "      <td>...</td>\n",
       "      <td>9</td>\n",
       "      <td>6</td>\n",
       "      <td>3</td>\n",
       "      <td>2</td>\n",
       "      <td>2</td>\n",
       "      <td>4</td>\n",
       "      <td>2</td>\n",
       "      <td>0</td>\n",
       "      <td>1</td>\n",
       "      <td>1</td>\n",
       "    </tr>\n",
       "    <tr>\n",
       "      <th>4</th>\n",
       "      <td>0</td>\n",
       "      <td>0</td>\n",
       "      <td>1</td>\n",
       "      <td>2</td>\n",
       "      <td>2</td>\n",
       "      <td>4</td>\n",
       "      <td>2</td>\n",
       "      <td>1</td>\n",
       "      <td>6</td>\n",
       "      <td>4</td>\n",
       "      <td>...</td>\n",
       "      <td>8</td>\n",
       "      <td>4</td>\n",
       "      <td>7</td>\n",
       "      <td>3</td>\n",
       "      <td>5</td>\n",
       "      <td>4</td>\n",
       "      <td>4</td>\n",
       "      <td>3</td>\n",
       "      <td>2</td>\n",
       "      <td>1</td>\n",
       "    </tr>\n",
       "    <tr>\n",
       "      <th>5</th>\n",
       "      <td>0</td>\n",
       "      <td>0</td>\n",
       "      <td>2</td>\n",
       "      <td>2</td>\n",
       "      <td>4</td>\n",
       "      <td>2</td>\n",
       "      <td>2</td>\n",
       "      <td>5</td>\n",
       "      <td>5</td>\n",
       "      <td>8</td>\n",
       "      <td>...</td>\n",
       "      <td>8</td>\n",
       "      <td>8</td>\n",
       "      <td>4</td>\n",
       "      <td>2</td>\n",
       "      <td>3</td>\n",
       "      <td>5</td>\n",
       "      <td>4</td>\n",
       "      <td>1</td>\n",
       "      <td>1</td>\n",
       "      <td>1</td>\n",
       "    </tr>\n",
       "    <tr>\n",
       "      <th>6</th>\n",
       "      <td>0</td>\n",
       "      <td>0</td>\n",
       "      <td>1</td>\n",
       "      <td>2</td>\n",
       "      <td>3</td>\n",
       "      <td>1</td>\n",
       "      <td>2</td>\n",
       "      <td>3</td>\n",
       "      <td>5</td>\n",
       "      <td>3</td>\n",
       "      <td>...</td>\n",
       "      <td>4</td>\n",
       "      <td>9</td>\n",
       "      <td>3</td>\n",
       "      <td>5</td>\n",
       "      <td>2</td>\n",
       "      <td>5</td>\n",
       "      <td>3</td>\n",
       "      <td>2</td>\n",
       "      <td>2</td>\n",
       "      <td>1</td>\n",
       "    </tr>\n",
       "    <tr>\n",
       "      <th>7</th>\n",
       "      <td>0</td>\n",
       "      <td>0</td>\n",
       "      <td>0</td>\n",
       "      <td>3</td>\n",
       "      <td>1</td>\n",
       "      <td>5</td>\n",
       "      <td>6</td>\n",
       "      <td>5</td>\n",
       "      <td>5</td>\n",
       "      <td>8</td>\n",
       "      <td>...</td>\n",
       "      <td>4</td>\n",
       "      <td>6</td>\n",
       "      <td>4</td>\n",
       "      <td>7</td>\n",
       "      <td>6</td>\n",
       "      <td>3</td>\n",
       "      <td>2</td>\n",
       "      <td>1</td>\n",
       "      <td>0</td>\n",
       "      <td>0</td>\n",
       "    </tr>\n",
       "    <tr>\n",
       "      <th>8</th>\n",
       "      <td>0</td>\n",
       "      <td>1</td>\n",
       "      <td>1</td>\n",
       "      <td>2</td>\n",
       "      <td>1</td>\n",
       "      <td>3</td>\n",
       "      <td>5</td>\n",
       "      <td>3</td>\n",
       "      <td>5</td>\n",
       "      <td>8</td>\n",
       "      <td>...</td>\n",
       "      <td>2</td>\n",
       "      <td>5</td>\n",
       "      <td>4</td>\n",
       "      <td>5</td>\n",
       "      <td>1</td>\n",
       "      <td>4</td>\n",
       "      <td>1</td>\n",
       "      <td>2</td>\n",
       "      <td>0</td>\n",
       "      <td>0</td>\n",
       "    </tr>\n",
       "    <tr>\n",
       "      <th>9</th>\n",
       "      <td>0</td>\n",
       "      <td>1</td>\n",
       "      <td>0</td>\n",
       "      <td>0</td>\n",
       "      <td>4</td>\n",
       "      <td>3</td>\n",
       "      <td>3</td>\n",
       "      <td>5</td>\n",
       "      <td>5</td>\n",
       "      <td>4</td>\n",
       "      <td>...</td>\n",
       "      <td>4</td>\n",
       "      <td>3</td>\n",
       "      <td>4</td>\n",
       "      <td>5</td>\n",
       "      <td>5</td>\n",
       "      <td>3</td>\n",
       "      <td>3</td>\n",
       "      <td>2</td>\n",
       "      <td>2</td>\n",
       "      <td>1</td>\n",
       "    </tr>\n",
       "    <tr>\n",
       "      <th>10</th>\n",
       "      <td>0</td>\n",
       "      <td>1</td>\n",
       "      <td>0</td>\n",
       "      <td>0</td>\n",
       "      <td>3</td>\n",
       "      <td>4</td>\n",
       "      <td>2</td>\n",
       "      <td>7</td>\n",
       "      <td>8</td>\n",
       "      <td>5</td>\n",
       "      <td>...</td>\n",
       "      <td>8</td>\n",
       "      <td>3</td>\n",
       "      <td>5</td>\n",
       "      <td>4</td>\n",
       "      <td>5</td>\n",
       "      <td>5</td>\n",
       "      <td>4</td>\n",
       "      <td>0</td>\n",
       "      <td>1</td>\n",
       "      <td>1</td>\n",
       "    </tr>\n",
       "    <tr>\n",
       "      <th>11</th>\n",
       "      <td>0</td>\n",
       "      <td>0</td>\n",
       "      <td>2</td>\n",
       "      <td>1</td>\n",
       "      <td>4</td>\n",
       "      <td>3</td>\n",
       "      <td>6</td>\n",
       "      <td>4</td>\n",
       "      <td>6</td>\n",
       "      <td>7</td>\n",
       "      <td>...</td>\n",
       "      <td>5</td>\n",
       "      <td>4</td>\n",
       "      <td>7</td>\n",
       "      <td>3</td>\n",
       "      <td>5</td>\n",
       "      <td>4</td>\n",
       "      <td>2</td>\n",
       "      <td>3</td>\n",
       "      <td>0</td>\n",
       "      <td>1</td>\n",
       "    </tr>\n",
       "    <tr>\n",
       "      <th>12</th>\n",
       "      <td>0</td>\n",
       "      <td>0</td>\n",
       "      <td>0</td>\n",
       "      <td>0</td>\n",
       "      <td>1</td>\n",
       "      <td>3</td>\n",
       "      <td>1</td>\n",
       "      <td>6</td>\n",
       "      <td>6</td>\n",
       "      <td>5</td>\n",
       "      <td>...</td>\n",
       "      <td>5</td>\n",
       "      <td>8</td>\n",
       "      <td>7</td>\n",
       "      <td>4</td>\n",
       "      <td>6</td>\n",
       "      <td>4</td>\n",
       "      <td>1</td>\n",
       "      <td>3</td>\n",
       "      <td>0</td>\n",
       "      <td>0</td>\n",
       "    </tr>\n",
       "    <tr>\n",
       "      <th>13</th>\n",
       "      <td>0</td>\n",
       "      <td>1</td>\n",
       "      <td>2</td>\n",
       "      <td>1</td>\n",
       "      <td>1</td>\n",
       "      <td>1</td>\n",
       "      <td>4</td>\n",
       "      <td>1</td>\n",
       "      <td>5</td>\n",
       "      <td>2</td>\n",
       "      <td>...</td>\n",
       "      <td>8</td>\n",
       "      <td>2</td>\n",
       "      <td>5</td>\n",
       "      <td>1</td>\n",
       "      <td>3</td>\n",
       "      <td>4</td>\n",
       "      <td>2</td>\n",
       "      <td>0</td>\n",
       "      <td>2</td>\n",
       "      <td>0</td>\n",
       "    </tr>\n",
       "    <tr>\n",
       "      <th>14</th>\n",
       "      <td>0</td>\n",
       "      <td>1</td>\n",
       "      <td>1</td>\n",
       "      <td>0</td>\n",
       "      <td>1</td>\n",
       "      <td>2</td>\n",
       "      <td>4</td>\n",
       "      <td>3</td>\n",
       "      <td>6</td>\n",
       "      <td>4</td>\n",
       "      <td>...</td>\n",
       "      <td>10</td>\n",
       "      <td>9</td>\n",
       "      <td>5</td>\n",
       "      <td>6</td>\n",
       "      <td>5</td>\n",
       "      <td>3</td>\n",
       "      <td>4</td>\n",
       "      <td>2</td>\n",
       "      <td>2</td>\n",
       "      <td>0</td>\n",
       "    </tr>\n",
       "    <tr>\n",
       "      <th>15</th>\n",
       "      <td>0</td>\n",
       "      <td>0</td>\n",
       "      <td>0</td>\n",
       "      <td>0</td>\n",
       "      <td>2</td>\n",
       "      <td>3</td>\n",
       "      <td>6</td>\n",
       "      <td>5</td>\n",
       "      <td>7</td>\n",
       "      <td>4</td>\n",
       "      <td>...</td>\n",
       "      <td>9</td>\n",
       "      <td>8</td>\n",
       "      <td>7</td>\n",
       "      <td>5</td>\n",
       "      <td>3</td>\n",
       "      <td>1</td>\n",
       "      <td>4</td>\n",
       "      <td>0</td>\n",
       "      <td>2</td>\n",
       "      <td>1</td>\n",
       "    </tr>\n",
       "    <tr>\n",
       "      <th>16</th>\n",
       "      <td>0</td>\n",
       "      <td>0</td>\n",
       "      <td>0</td>\n",
       "      <td>1</td>\n",
       "      <td>2</td>\n",
       "      <td>1</td>\n",
       "      <td>4</td>\n",
       "      <td>3</td>\n",
       "      <td>6</td>\n",
       "      <td>7</td>\n",
       "      <td>...</td>\n",
       "      <td>2</td>\n",
       "      <td>3</td>\n",
       "      <td>6</td>\n",
       "      <td>5</td>\n",
       "      <td>4</td>\n",
       "      <td>2</td>\n",
       "      <td>3</td>\n",
       "      <td>0</td>\n",
       "      <td>1</td>\n",
       "      <td>0</td>\n",
       "    </tr>\n",
       "    <tr>\n",
       "      <th>17</th>\n",
       "      <td>0</td>\n",
       "      <td>0</td>\n",
       "      <td>2</td>\n",
       "      <td>1</td>\n",
       "      <td>2</td>\n",
       "      <td>5</td>\n",
       "      <td>4</td>\n",
       "      <td>2</td>\n",
       "      <td>7</td>\n",
       "      <td>8</td>\n",
       "      <td>...</td>\n",
       "      <td>6</td>\n",
       "      <td>9</td>\n",
       "      <td>2</td>\n",
       "      <td>1</td>\n",
       "      <td>1</td>\n",
       "      <td>2</td>\n",
       "      <td>2</td>\n",
       "      <td>0</td>\n",
       "      <td>1</td>\n",
       "      <td>0</td>\n",
       "    </tr>\n",
       "    <tr>\n",
       "      <th>18</th>\n",
       "      <td>0</td>\n",
       "      <td>1</td>\n",
       "      <td>2</td>\n",
       "      <td>0</td>\n",
       "      <td>1</td>\n",
       "      <td>4</td>\n",
       "      <td>3</td>\n",
       "      <td>2</td>\n",
       "      <td>2</td>\n",
       "      <td>7</td>\n",
       "      <td>...</td>\n",
       "      <td>6</td>\n",
       "      <td>6</td>\n",
       "      <td>6</td>\n",
       "      <td>1</td>\n",
       "      <td>1</td>\n",
       "      <td>2</td>\n",
       "      <td>4</td>\n",
       "      <td>3</td>\n",
       "      <td>1</td>\n",
       "      <td>1</td>\n",
       "    </tr>\n",
       "    <tr>\n",
       "      <th>19</th>\n",
       "      <td>0</td>\n",
       "      <td>1</td>\n",
       "      <td>1</td>\n",
       "      <td>3</td>\n",
       "      <td>1</td>\n",
       "      <td>4</td>\n",
       "      <td>4</td>\n",
       "      <td>1</td>\n",
       "      <td>8</td>\n",
       "      <td>2</td>\n",
       "      <td>...</td>\n",
       "      <td>3</td>\n",
       "      <td>2</td>\n",
       "      <td>4</td>\n",
       "      <td>3</td>\n",
       "      <td>1</td>\n",
       "      <td>5</td>\n",
       "      <td>4</td>\n",
       "      <td>2</td>\n",
       "      <td>2</td>\n",
       "      <td>0</td>\n",
       "    </tr>\n",
       "    <tr>\n",
       "      <th>20</th>\n",
       "      <td>0</td>\n",
       "      <td>0</td>\n",
       "      <td>2</td>\n",
       "      <td>3</td>\n",
       "      <td>2</td>\n",
       "      <td>3</td>\n",
       "      <td>2</td>\n",
       "      <td>6</td>\n",
       "      <td>3</td>\n",
       "      <td>8</td>\n",
       "      <td>...</td>\n",
       "      <td>8</td>\n",
       "      <td>5</td>\n",
       "      <td>6</td>\n",
       "      <td>6</td>\n",
       "      <td>1</td>\n",
       "      <td>4</td>\n",
       "      <td>3</td>\n",
       "      <td>0</td>\n",
       "      <td>2</td>\n",
       "      <td>0</td>\n",
       "    </tr>\n",
       "    <tr>\n",
       "      <th>21</th>\n",
       "      <td>0</td>\n",
       "      <td>0</td>\n",
       "      <td>0</td>\n",
       "      <td>3</td>\n",
       "      <td>4</td>\n",
       "      <td>5</td>\n",
       "      <td>1</td>\n",
       "      <td>7</td>\n",
       "      <td>7</td>\n",
       "      <td>8</td>\n",
       "      <td>...</td>\n",
       "      <td>4</td>\n",
       "      <td>4</td>\n",
       "      <td>8</td>\n",
       "      <td>2</td>\n",
       "      <td>6</td>\n",
       "      <td>5</td>\n",
       "      <td>1</td>\n",
       "      <td>0</td>\n",
       "      <td>1</td>\n",
       "      <td>0</td>\n",
       "    </tr>\n",
       "    <tr>\n",
       "      <th>22</th>\n",
       "      <td>0</td>\n",
       "      <td>1</td>\n",
       "      <td>1</td>\n",
       "      <td>1</td>\n",
       "      <td>1</td>\n",
       "      <td>3</td>\n",
       "      <td>3</td>\n",
       "      <td>2</td>\n",
       "      <td>6</td>\n",
       "      <td>3</td>\n",
       "      <td>...</td>\n",
       "      <td>5</td>\n",
       "      <td>3</td>\n",
       "      <td>5</td>\n",
       "      <td>1</td>\n",
       "      <td>1</td>\n",
       "      <td>4</td>\n",
       "      <td>4</td>\n",
       "      <td>1</td>\n",
       "      <td>2</td>\n",
       "      <td>0</td>\n",
       "    </tr>\n",
       "    <tr>\n",
       "      <th>23</th>\n",
       "      <td>0</td>\n",
       "      <td>1</td>\n",
       "      <td>1</td>\n",
       "      <td>1</td>\n",
       "      <td>2</td>\n",
       "      <td>3</td>\n",
       "      <td>5</td>\n",
       "      <td>3</td>\n",
       "      <td>6</td>\n",
       "      <td>3</td>\n",
       "      <td>...</td>\n",
       "      <td>5</td>\n",
       "      <td>5</td>\n",
       "      <td>6</td>\n",
       "      <td>1</td>\n",
       "      <td>1</td>\n",
       "      <td>1</td>\n",
       "      <td>1</td>\n",
       "      <td>0</td>\n",
       "      <td>2</td>\n",
       "      <td>1</td>\n",
       "    </tr>\n",
       "    <tr>\n",
       "      <th>24</th>\n",
       "      <td>0</td>\n",
       "      <td>0</td>\n",
       "      <td>2</td>\n",
       "      <td>1</td>\n",
       "      <td>3</td>\n",
       "      <td>3</td>\n",
       "      <td>2</td>\n",
       "      <td>7</td>\n",
       "      <td>4</td>\n",
       "      <td>4</td>\n",
       "      <td>...</td>\n",
       "      <td>8</td>\n",
       "      <td>5</td>\n",
       "      <td>7</td>\n",
       "      <td>2</td>\n",
       "      <td>2</td>\n",
       "      <td>4</td>\n",
       "      <td>1</td>\n",
       "      <td>1</td>\n",
       "      <td>1</td>\n",
       "      <td>0</td>\n",
       "    </tr>\n",
       "    <tr>\n",
       "      <th>25</th>\n",
       "      <td>0</td>\n",
       "      <td>0</td>\n",
       "      <td>1</td>\n",
       "      <td>2</td>\n",
       "      <td>4</td>\n",
       "      <td>2</td>\n",
       "      <td>2</td>\n",
       "      <td>3</td>\n",
       "      <td>5</td>\n",
       "      <td>7</td>\n",
       "      <td>...</td>\n",
       "      <td>7</td>\n",
       "      <td>4</td>\n",
       "      <td>8</td>\n",
       "      <td>2</td>\n",
       "      <td>2</td>\n",
       "      <td>1</td>\n",
       "      <td>3</td>\n",
       "      <td>0</td>\n",
       "      <td>1</td>\n",
       "      <td>1</td>\n",
       "    </tr>\n",
       "    <tr>\n",
       "      <th>26</th>\n",
       "      <td>0</td>\n",
       "      <td>0</td>\n",
       "      <td>1</td>\n",
       "      <td>1</td>\n",
       "      <td>1</td>\n",
       "      <td>5</td>\n",
       "      <td>1</td>\n",
       "      <td>5</td>\n",
       "      <td>2</td>\n",
       "      <td>2</td>\n",
       "      <td>...</td>\n",
       "      <td>9</td>\n",
       "      <td>4</td>\n",
       "      <td>5</td>\n",
       "      <td>3</td>\n",
       "      <td>2</td>\n",
       "      <td>5</td>\n",
       "      <td>4</td>\n",
       "      <td>3</td>\n",
       "      <td>2</td>\n",
       "      <td>1</td>\n",
       "    </tr>\n",
       "    <tr>\n",
       "      <th>27</th>\n",
       "      <td>0</td>\n",
       "      <td>0</td>\n",
       "      <td>2</td>\n",
       "      <td>2</td>\n",
       "      <td>3</td>\n",
       "      <td>4</td>\n",
       "      <td>6</td>\n",
       "      <td>3</td>\n",
       "      <td>7</td>\n",
       "      <td>6</td>\n",
       "      <td>...</td>\n",
       "      <td>7</td>\n",
       "      <td>7</td>\n",
       "      <td>8</td>\n",
       "      <td>3</td>\n",
       "      <td>5</td>\n",
       "      <td>4</td>\n",
       "      <td>1</td>\n",
       "      <td>3</td>\n",
       "      <td>1</td>\n",
       "      <td>0</td>\n",
       "    </tr>\n",
       "    <tr>\n",
       "      <th>28</th>\n",
       "      <td>0</td>\n",
       "      <td>0</td>\n",
       "      <td>0</td>\n",
       "      <td>1</td>\n",
       "      <td>4</td>\n",
       "      <td>4</td>\n",
       "      <td>6</td>\n",
       "      <td>3</td>\n",
       "      <td>8</td>\n",
       "      <td>6</td>\n",
       "      <td>...</td>\n",
       "      <td>6</td>\n",
       "      <td>9</td>\n",
       "      <td>5</td>\n",
       "      <td>5</td>\n",
       "      <td>2</td>\n",
       "      <td>5</td>\n",
       "      <td>2</td>\n",
       "      <td>1</td>\n",
       "      <td>0</td>\n",
       "      <td>1</td>\n",
       "    </tr>\n",
       "    <tr>\n",
       "      <th>29</th>\n",
       "      <td>0</td>\n",
       "      <td>1</td>\n",
       "      <td>1</td>\n",
       "      <td>0</td>\n",
       "      <td>3</td>\n",
       "      <td>2</td>\n",
       "      <td>4</td>\n",
       "      <td>6</td>\n",
       "      <td>8</td>\n",
       "      <td>6</td>\n",
       "      <td>...</td>\n",
       "      <td>10</td>\n",
       "      <td>4</td>\n",
       "      <td>2</td>\n",
       "      <td>6</td>\n",
       "      <td>5</td>\n",
       "      <td>5</td>\n",
       "      <td>2</td>\n",
       "      <td>3</td>\n",
       "      <td>2</td>\n",
       "      <td>1</td>\n",
       "    </tr>\n",
       "    <tr>\n",
       "      <th>30</th>\n",
       "      <td>0</td>\n",
       "      <td>0</td>\n",
       "      <td>2</td>\n",
       "      <td>3</td>\n",
       "      <td>3</td>\n",
       "      <td>4</td>\n",
       "      <td>5</td>\n",
       "      <td>3</td>\n",
       "      <td>6</td>\n",
       "      <td>7</td>\n",
       "      <td>...</td>\n",
       "      <td>3</td>\n",
       "      <td>6</td>\n",
       "      <td>6</td>\n",
       "      <td>4</td>\n",
       "      <td>5</td>\n",
       "      <td>2</td>\n",
       "      <td>2</td>\n",
       "      <td>3</td>\n",
       "      <td>0</td>\n",
       "      <td>0</td>\n",
       "    </tr>\n",
       "    <tr>\n",
       "      <th>31</th>\n",
       "      <td>0</td>\n",
       "      <td>1</td>\n",
       "      <td>2</td>\n",
       "      <td>2</td>\n",
       "      <td>2</td>\n",
       "      <td>3</td>\n",
       "      <td>6</td>\n",
       "      <td>6</td>\n",
       "      <td>6</td>\n",
       "      <td>7</td>\n",
       "      <td>...</td>\n",
       "      <td>5</td>\n",
       "      <td>8</td>\n",
       "      <td>5</td>\n",
       "      <td>2</td>\n",
       "      <td>5</td>\n",
       "      <td>5</td>\n",
       "      <td>2</td>\n",
       "      <td>0</td>\n",
       "      <td>2</td>\n",
       "      <td>1</td>\n",
       "    </tr>\n",
       "    <tr>\n",
       "      <th>32</th>\n",
       "      <td>0</td>\n",
       "      <td>0</td>\n",
       "      <td>2</td>\n",
       "      <td>1</td>\n",
       "      <td>3</td>\n",
       "      <td>5</td>\n",
       "      <td>6</td>\n",
       "      <td>7</td>\n",
       "      <td>5</td>\n",
       "      <td>8</td>\n",
       "      <td>...</td>\n",
       "      <td>2</td>\n",
       "      <td>9</td>\n",
       "      <td>7</td>\n",
       "      <td>2</td>\n",
       "      <td>4</td>\n",
       "      <td>2</td>\n",
       "      <td>1</td>\n",
       "      <td>2</td>\n",
       "      <td>1</td>\n",
       "      <td>1</td>\n",
       "    </tr>\n",
       "    <tr>\n",
       "      <th>33</th>\n",
       "      <td>0</td>\n",
       "      <td>0</td>\n",
       "      <td>1</td>\n",
       "      <td>2</td>\n",
       "      <td>4</td>\n",
       "      <td>1</td>\n",
       "      <td>5</td>\n",
       "      <td>5</td>\n",
       "      <td>2</td>\n",
       "      <td>3</td>\n",
       "      <td>...</td>\n",
       "      <td>5</td>\n",
       "      <td>6</td>\n",
       "      <td>6</td>\n",
       "      <td>2</td>\n",
       "      <td>3</td>\n",
       "      <td>5</td>\n",
       "      <td>2</td>\n",
       "      <td>1</td>\n",
       "      <td>1</td>\n",
       "      <td>1</td>\n",
       "    </tr>\n",
       "    <tr>\n",
       "      <th>34</th>\n",
       "      <td>0</td>\n",
       "      <td>0</td>\n",
       "      <td>0</td>\n",
       "      <td>3</td>\n",
       "      <td>1</td>\n",
       "      <td>3</td>\n",
       "      <td>6</td>\n",
       "      <td>4</td>\n",
       "      <td>3</td>\n",
       "      <td>4</td>\n",
       "      <td>...</td>\n",
       "      <td>3</td>\n",
       "      <td>9</td>\n",
       "      <td>5</td>\n",
       "      <td>1</td>\n",
       "      <td>6</td>\n",
       "      <td>5</td>\n",
       "      <td>4</td>\n",
       "      <td>2</td>\n",
       "      <td>2</td>\n",
       "      <td>0</td>\n",
       "    </tr>\n",
       "    <tr>\n",
       "      <th>35</th>\n",
       "      <td>0</td>\n",
       "      <td>1</td>\n",
       "      <td>2</td>\n",
       "      <td>2</td>\n",
       "      <td>2</td>\n",
       "      <td>5</td>\n",
       "      <td>5</td>\n",
       "      <td>1</td>\n",
       "      <td>4</td>\n",
       "      <td>6</td>\n",
       "      <td>...</td>\n",
       "      <td>6</td>\n",
       "      <td>4</td>\n",
       "      <td>5</td>\n",
       "      <td>4</td>\n",
       "      <td>6</td>\n",
       "      <td>3</td>\n",
       "      <td>4</td>\n",
       "      <td>3</td>\n",
       "      <td>2</td>\n",
       "      <td>1</td>\n",
       "    </tr>\n",
       "    <tr>\n",
       "      <th>36</th>\n",
       "      <td>0</td>\n",
       "      <td>1</td>\n",
       "      <td>1</td>\n",
       "      <td>2</td>\n",
       "      <td>3</td>\n",
       "      <td>1</td>\n",
       "      <td>5</td>\n",
       "      <td>1</td>\n",
       "      <td>2</td>\n",
       "      <td>2</td>\n",
       "      <td>...</td>\n",
       "      <td>9</td>\n",
       "      <td>9</td>\n",
       "      <td>5</td>\n",
       "      <td>4</td>\n",
       "      <td>4</td>\n",
       "      <td>2</td>\n",
       "      <td>1</td>\n",
       "      <td>0</td>\n",
       "      <td>1</td>\n",
       "      <td>0</td>\n",
       "    </tr>\n",
       "    <tr>\n",
       "      <th>37</th>\n",
       "      <td>0</td>\n",
       "      <td>1</td>\n",
       "      <td>0</td>\n",
       "      <td>3</td>\n",
       "      <td>2</td>\n",
       "      <td>4</td>\n",
       "      <td>1</td>\n",
       "      <td>1</td>\n",
       "      <td>5</td>\n",
       "      <td>9</td>\n",
       "      <td>...</td>\n",
       "      <td>5</td>\n",
       "      <td>5</td>\n",
       "      <td>2</td>\n",
       "      <td>1</td>\n",
       "      <td>1</td>\n",
       "      <td>1</td>\n",
       "      <td>1</td>\n",
       "      <td>3</td>\n",
       "      <td>0</td>\n",
       "      <td>1</td>\n",
       "    </tr>\n",
       "    <tr>\n",
       "      <th>38</th>\n",
       "      <td>0</td>\n",
       "      <td>1</td>\n",
       "      <td>1</td>\n",
       "      <td>3</td>\n",
       "      <td>1</td>\n",
       "      <td>1</td>\n",
       "      <td>5</td>\n",
       "      <td>5</td>\n",
       "      <td>3</td>\n",
       "      <td>7</td>\n",
       "      <td>...</td>\n",
       "      <td>2</td>\n",
       "      <td>3</td>\n",
       "      <td>6</td>\n",
       "      <td>3</td>\n",
       "      <td>3</td>\n",
       "      <td>5</td>\n",
       "      <td>4</td>\n",
       "      <td>3</td>\n",
       "      <td>2</td>\n",
       "      <td>1</td>\n",
       "    </tr>\n",
       "    <tr>\n",
       "      <th>39</th>\n",
       "      <td>0</td>\n",
       "      <td>0</td>\n",
       "      <td>0</td>\n",
       "      <td>2</td>\n",
       "      <td>2</td>\n",
       "      <td>1</td>\n",
       "      <td>3</td>\n",
       "      <td>4</td>\n",
       "      <td>5</td>\n",
       "      <td>5</td>\n",
       "      <td>...</td>\n",
       "      <td>2</td>\n",
       "      <td>9</td>\n",
       "      <td>6</td>\n",
       "      <td>2</td>\n",
       "      <td>2</td>\n",
       "      <td>5</td>\n",
       "      <td>3</td>\n",
       "      <td>0</td>\n",
       "      <td>0</td>\n",
       "      <td>1</td>\n",
       "    </tr>\n",
       "    <tr>\n",
       "      <th>40</th>\n",
       "      <td>0</td>\n",
       "      <td>0</td>\n",
       "      <td>1</td>\n",
       "      <td>3</td>\n",
       "      <td>3</td>\n",
       "      <td>1</td>\n",
       "      <td>2</td>\n",
       "      <td>1</td>\n",
       "      <td>8</td>\n",
       "      <td>9</td>\n",
       "      <td>...</td>\n",
       "      <td>4</td>\n",
       "      <td>8</td>\n",
       "      <td>2</td>\n",
       "      <td>6</td>\n",
       "      <td>6</td>\n",
       "      <td>4</td>\n",
       "      <td>2</td>\n",
       "      <td>2</td>\n",
       "      <td>0</td>\n",
       "      <td>0</td>\n",
       "    </tr>\n",
       "    <tr>\n",
       "      <th>41</th>\n",
       "      <td>0</td>\n",
       "      <td>1</td>\n",
       "      <td>1</td>\n",
       "      <td>3</td>\n",
       "      <td>4</td>\n",
       "      <td>5</td>\n",
       "      <td>2</td>\n",
       "      <td>1</td>\n",
       "      <td>3</td>\n",
       "      <td>7</td>\n",
       "      <td>...</td>\n",
       "      <td>5</td>\n",
       "      <td>8</td>\n",
       "      <td>5</td>\n",
       "      <td>5</td>\n",
       "      <td>6</td>\n",
       "      <td>1</td>\n",
       "      <td>2</td>\n",
       "      <td>1</td>\n",
       "      <td>2</td>\n",
       "      <td>0</td>\n",
       "    </tr>\n",
       "    <tr>\n",
       "      <th>42</th>\n",
       "      <td>0</td>\n",
       "      <td>0</td>\n",
       "      <td>1</td>\n",
       "      <td>3</td>\n",
       "      <td>1</td>\n",
       "      <td>4</td>\n",
       "      <td>3</td>\n",
       "      <td>6</td>\n",
       "      <td>7</td>\n",
       "      <td>8</td>\n",
       "      <td>...</td>\n",
       "      <td>10</td>\n",
       "      <td>2</td>\n",
       "      <td>5</td>\n",
       "      <td>1</td>\n",
       "      <td>5</td>\n",
       "      <td>4</td>\n",
       "      <td>2</td>\n",
       "      <td>1</td>\n",
       "      <td>0</td>\n",
       "      <td>1</td>\n",
       "    </tr>\n",
       "    <tr>\n",
       "      <th>43</th>\n",
       "      <td>0</td>\n",
       "      <td>1</td>\n",
       "      <td>1</td>\n",
       "      <td>3</td>\n",
       "      <td>3</td>\n",
       "      <td>4</td>\n",
       "      <td>4</td>\n",
       "      <td>6</td>\n",
       "      <td>3</td>\n",
       "      <td>4</td>\n",
       "      <td>...</td>\n",
       "      <td>10</td>\n",
       "      <td>6</td>\n",
       "      <td>8</td>\n",
       "      <td>7</td>\n",
       "      <td>2</td>\n",
       "      <td>5</td>\n",
       "      <td>4</td>\n",
       "      <td>3</td>\n",
       "      <td>1</td>\n",
       "      <td>1</td>\n",
       "    </tr>\n",
       "    <tr>\n",
       "      <th>44</th>\n",
       "      <td>0</td>\n",
       "      <td>1</td>\n",
       "      <td>2</td>\n",
       "      <td>2</td>\n",
       "      <td>4</td>\n",
       "      <td>3</td>\n",
       "      <td>1</td>\n",
       "      <td>4</td>\n",
       "      <td>8</td>\n",
       "      <td>9</td>\n",
       "      <td>...</td>\n",
       "      <td>5</td>\n",
       "      <td>8</td>\n",
       "      <td>4</td>\n",
       "      <td>4</td>\n",
       "      <td>5</td>\n",
       "      <td>2</td>\n",
       "      <td>4</td>\n",
       "      <td>1</td>\n",
       "      <td>1</td>\n",
       "      <td>0</td>\n",
       "    </tr>\n",
       "    <tr>\n",
       "      <th>45</th>\n",
       "      <td>0</td>\n",
       "      <td>0</td>\n",
       "      <td>2</td>\n",
       "      <td>3</td>\n",
       "      <td>4</td>\n",
       "      <td>5</td>\n",
       "      <td>4</td>\n",
       "      <td>6</td>\n",
       "      <td>2</td>\n",
       "      <td>9</td>\n",
       "      <td>...</td>\n",
       "      <td>6</td>\n",
       "      <td>7</td>\n",
       "      <td>6</td>\n",
       "      <td>5</td>\n",
       "      <td>1</td>\n",
       "      <td>3</td>\n",
       "      <td>1</td>\n",
       "      <td>0</td>\n",
       "      <td>0</td>\n",
       "      <td>0</td>\n",
       "    </tr>\n",
       "    <tr>\n",
       "      <th>46</th>\n",
       "      <td>0</td>\n",
       "      <td>1</td>\n",
       "      <td>1</td>\n",
       "      <td>3</td>\n",
       "      <td>1</td>\n",
       "      <td>4</td>\n",
       "      <td>6</td>\n",
       "      <td>2</td>\n",
       "      <td>8</td>\n",
       "      <td>2</td>\n",
       "      <td>...</td>\n",
       "      <td>6</td>\n",
       "      <td>9</td>\n",
       "      <td>5</td>\n",
       "      <td>6</td>\n",
       "      <td>1</td>\n",
       "      <td>1</td>\n",
       "      <td>2</td>\n",
       "      <td>1</td>\n",
       "      <td>2</td>\n",
       "      <td>1</td>\n",
       "    </tr>\n",
       "    <tr>\n",
       "      <th>47</th>\n",
       "      <td>0</td>\n",
       "      <td>0</td>\n",
       "      <td>1</td>\n",
       "      <td>3</td>\n",
       "      <td>2</td>\n",
       "      <td>5</td>\n",
       "      <td>1</td>\n",
       "      <td>2</td>\n",
       "      <td>7</td>\n",
       "      <td>6</td>\n",
       "      <td>...</td>\n",
       "      <td>10</td>\n",
       "      <td>7</td>\n",
       "      <td>6</td>\n",
       "      <td>3</td>\n",
       "      <td>1</td>\n",
       "      <td>5</td>\n",
       "      <td>4</td>\n",
       "      <td>3</td>\n",
       "      <td>0</td>\n",
       "      <td>0</td>\n",
       "    </tr>\n",
       "    <tr>\n",
       "      <th>48</th>\n",
       "      <td>0</td>\n",
       "      <td>0</td>\n",
       "      <td>1</td>\n",
       "      <td>2</td>\n",
       "      <td>3</td>\n",
       "      <td>4</td>\n",
       "      <td>5</td>\n",
       "      <td>7</td>\n",
       "      <td>5</td>\n",
       "      <td>4</td>\n",
       "      <td>...</td>\n",
       "      <td>4</td>\n",
       "      <td>6</td>\n",
       "      <td>2</td>\n",
       "      <td>4</td>\n",
       "      <td>1</td>\n",
       "      <td>4</td>\n",
       "      <td>2</td>\n",
       "      <td>2</td>\n",
       "      <td>2</td>\n",
       "      <td>1</td>\n",
       "    </tr>\n",
       "    <tr>\n",
       "      <th>49</th>\n",
       "      <td>0</td>\n",
       "      <td>1</td>\n",
       "      <td>2</td>\n",
       "      <td>1</td>\n",
       "      <td>1</td>\n",
       "      <td>3</td>\n",
       "      <td>5</td>\n",
       "      <td>3</td>\n",
       "      <td>6</td>\n",
       "      <td>3</td>\n",
       "      <td>...</td>\n",
       "      <td>7</td>\n",
       "      <td>9</td>\n",
       "      <td>3</td>\n",
       "      <td>3</td>\n",
       "      <td>6</td>\n",
       "      <td>3</td>\n",
       "      <td>4</td>\n",
       "      <td>1</td>\n",
       "      <td>2</td>\n",
       "      <td>0</td>\n",
       "    </tr>\n",
       "    <tr>\n",
       "      <th>50</th>\n",
       "      <td>0</td>\n",
       "      <td>1</td>\n",
       "      <td>2</td>\n",
       "      <td>2</td>\n",
       "      <td>3</td>\n",
       "      <td>5</td>\n",
       "      <td>2</td>\n",
       "      <td>4</td>\n",
       "      <td>5</td>\n",
       "      <td>6</td>\n",
       "      <td>...</td>\n",
       "      <td>8</td>\n",
       "      <td>5</td>\n",
       "      <td>4</td>\n",
       "      <td>1</td>\n",
       "      <td>3</td>\n",
       "      <td>2</td>\n",
       "      <td>1</td>\n",
       "      <td>3</td>\n",
       "      <td>1</td>\n",
       "      <td>0</td>\n",
       "    </tr>\n",
       "    <tr>\n",
       "      <th>51</th>\n",
       "      <td>0</td>\n",
       "      <td>0</td>\n",
       "      <td>0</td>\n",
       "      <td>2</td>\n",
       "      <td>4</td>\n",
       "      <td>4</td>\n",
       "      <td>5</td>\n",
       "      <td>3</td>\n",
       "      <td>3</td>\n",
       "      <td>3</td>\n",
       "      <td>...</td>\n",
       "      <td>10</td>\n",
       "      <td>8</td>\n",
       "      <td>7</td>\n",
       "      <td>5</td>\n",
       "      <td>2</td>\n",
       "      <td>2</td>\n",
       "      <td>4</td>\n",
       "      <td>1</td>\n",
       "      <td>2</td>\n",
       "      <td>1</td>\n",
       "    </tr>\n",
       "    <tr>\n",
       "      <th>52</th>\n",
       "      <td>0</td>\n",
       "      <td>0</td>\n",
       "      <td>2</td>\n",
       "      <td>1</td>\n",
       "      <td>1</td>\n",
       "      <td>4</td>\n",
       "      <td>4</td>\n",
       "      <td>7</td>\n",
       "      <td>2</td>\n",
       "      <td>9</td>\n",
       "      <td>...</td>\n",
       "      <td>7</td>\n",
       "      <td>6</td>\n",
       "      <td>5</td>\n",
       "      <td>4</td>\n",
       "      <td>1</td>\n",
       "      <td>4</td>\n",
       "      <td>2</td>\n",
       "      <td>2</td>\n",
       "      <td>2</td>\n",
       "      <td>1</td>\n",
       "    </tr>\n",
       "    <tr>\n",
       "      <th>53</th>\n",
       "      <td>0</td>\n",
       "      <td>1</td>\n",
       "      <td>2</td>\n",
       "      <td>1</td>\n",
       "      <td>1</td>\n",
       "      <td>4</td>\n",
       "      <td>5</td>\n",
       "      <td>4</td>\n",
       "      <td>4</td>\n",
       "      <td>5</td>\n",
       "      <td>...</td>\n",
       "      <td>4</td>\n",
       "      <td>5</td>\n",
       "      <td>5</td>\n",
       "      <td>2</td>\n",
       "      <td>2</td>\n",
       "      <td>5</td>\n",
       "      <td>1</td>\n",
       "      <td>0</td>\n",
       "      <td>0</td>\n",
       "      <td>1</td>\n",
       "    </tr>\n",
       "    <tr>\n",
       "      <th>54</th>\n",
       "      <td>0</td>\n",
       "      <td>0</td>\n",
       "      <td>1</td>\n",
       "      <td>3</td>\n",
       "      <td>2</td>\n",
       "      <td>3</td>\n",
       "      <td>6</td>\n",
       "      <td>4</td>\n",
       "      <td>5</td>\n",
       "      <td>7</td>\n",
       "      <td>...</td>\n",
       "      <td>3</td>\n",
       "      <td>5</td>\n",
       "      <td>3</td>\n",
       "      <td>5</td>\n",
       "      <td>4</td>\n",
       "      <td>5</td>\n",
       "      <td>3</td>\n",
       "      <td>3</td>\n",
       "      <td>0</td>\n",
       "      <td>1</td>\n",
       "    </tr>\n",
       "    <tr>\n",
       "      <th>55</th>\n",
       "      <td>0</td>\n",
       "      <td>1</td>\n",
       "      <td>1</td>\n",
       "      <td>2</td>\n",
       "      <td>2</td>\n",
       "      <td>5</td>\n",
       "      <td>1</td>\n",
       "      <td>7</td>\n",
       "      <td>4</td>\n",
       "      <td>2</td>\n",
       "      <td>...</td>\n",
       "      <td>7</td>\n",
       "      <td>7</td>\n",
       "      <td>5</td>\n",
       "      <td>6</td>\n",
       "      <td>3</td>\n",
       "      <td>4</td>\n",
       "      <td>2</td>\n",
       "      <td>2</td>\n",
       "      <td>1</td>\n",
       "      <td>1</td>\n",
       "    </tr>\n",
       "    <tr>\n",
       "      <th>56</th>\n",
       "      <td>0</td>\n",
       "      <td>1</td>\n",
       "      <td>1</td>\n",
       "      <td>1</td>\n",
       "      <td>4</td>\n",
       "      <td>1</td>\n",
       "      <td>6</td>\n",
       "      <td>4</td>\n",
       "      <td>6</td>\n",
       "      <td>3</td>\n",
       "      <td>...</td>\n",
       "      <td>8</td>\n",
       "      <td>6</td>\n",
       "      <td>6</td>\n",
       "      <td>4</td>\n",
       "      <td>3</td>\n",
       "      <td>5</td>\n",
       "      <td>2</td>\n",
       "      <td>1</td>\n",
       "      <td>1</td>\n",
       "      <td>1</td>\n",
       "    </tr>\n",
       "    <tr>\n",
       "      <th>57</th>\n",
       "      <td>0</td>\n",
       "      <td>0</td>\n",
       "      <td>0</td>\n",
       "      <td>1</td>\n",
       "      <td>4</td>\n",
       "      <td>5</td>\n",
       "      <td>6</td>\n",
       "      <td>3</td>\n",
       "      <td>8</td>\n",
       "      <td>7</td>\n",
       "      <td>...</td>\n",
       "      <td>10</td>\n",
       "      <td>8</td>\n",
       "      <td>8</td>\n",
       "      <td>6</td>\n",
       "      <td>5</td>\n",
       "      <td>5</td>\n",
       "      <td>2</td>\n",
       "      <td>0</td>\n",
       "      <td>2</td>\n",
       "      <td>0</td>\n",
       "    </tr>\n",
       "    <tr>\n",
       "      <th>58</th>\n",
       "      <td>0</td>\n",
       "      <td>0</td>\n",
       "      <td>1</td>\n",
       "      <td>0</td>\n",
       "      <td>3</td>\n",
       "      <td>2</td>\n",
       "      <td>5</td>\n",
       "      <td>4</td>\n",
       "      <td>8</td>\n",
       "      <td>2</td>\n",
       "      <td>...</td>\n",
       "      <td>8</td>\n",
       "      <td>5</td>\n",
       "      <td>3</td>\n",
       "      <td>5</td>\n",
       "      <td>4</td>\n",
       "      <td>1</td>\n",
       "      <td>3</td>\n",
       "      <td>1</td>\n",
       "      <td>1</td>\n",
       "      <td>0</td>\n",
       "    </tr>\n",
       "  </tbody>\n",
       "</table>\n",
       "<p>59 rows × 40 columns</p>\n",
       "</div>"
      ],
      "text/plain": [
       "    0  0.1  1  3  1.1  2  4  7  8  3.1 ...   4.3  4.4  5.1  7.6  3.4  4.5  \\\n",
       "0   0    1  2  1    2  1  3  2  2    6 ...     3    5    4    4    5    5   \n",
       "1   0    1  1  3    3  2  6  2  5    9 ...    10    5    4    2    2    3   \n",
       "2   0    0  2  0    4  2  2  1  6    7 ...     3    5    6    3    3    4   \n",
       "3   0    1  1  3    3  1  3  5  2    4 ...     9    6    3    2    2    4   \n",
       "4   0    0  1  2    2  4  2  1  6    4 ...     8    4    7    3    5    4   \n",
       "5   0    0  2  2    4  2  2  5  5    8 ...     8    8    4    2    3    5   \n",
       "6   0    0  1  2    3  1  2  3  5    3 ...     4    9    3    5    2    5   \n",
       "7   0    0  0  3    1  5  6  5  5    8 ...     4    6    4    7    6    3   \n",
       "8   0    1  1  2    1  3  5  3  5    8 ...     2    5    4    5    1    4   \n",
       "9   0    1  0  0    4  3  3  5  5    4 ...     4    3    4    5    5    3   \n",
       "10  0    1  0  0    3  4  2  7  8    5 ...     8    3    5    4    5    5   \n",
       "11  0    0  2  1    4  3  6  4  6    7 ...     5    4    7    3    5    4   \n",
       "12  0    0  0  0    1  3  1  6  6    5 ...     5    8    7    4    6    4   \n",
       "13  0    1  2  1    1  1  4  1  5    2 ...     8    2    5    1    3    4   \n",
       "14  0    1  1  0    1  2  4  3  6    4 ...    10    9    5    6    5    3   \n",
       "15  0    0  0  0    2  3  6  5  7    4 ...     9    8    7    5    3    1   \n",
       "16  0    0  0  1    2  1  4  3  6    7 ...     2    3    6    5    4    2   \n",
       "17  0    0  2  1    2  5  4  2  7    8 ...     6    9    2    1    1    2   \n",
       "18  0    1  2  0    1  4  3  2  2    7 ...     6    6    6    1    1    2   \n",
       "19  0    1  1  3    1  4  4  1  8    2 ...     3    2    4    3    1    5   \n",
       "20  0    0  2  3    2  3  2  6  3    8 ...     8    5    6    6    1    4   \n",
       "21  0    0  0  3    4  5  1  7  7    8 ...     4    4    8    2    6    5   \n",
       "22  0    1  1  1    1  3  3  2  6    3 ...     5    3    5    1    1    4   \n",
       "23  0    1  1  1    2  3  5  3  6    3 ...     5    5    6    1    1    1   \n",
       "24  0    0  2  1    3  3  2  7  4    4 ...     8    5    7    2    2    4   \n",
       "25  0    0  1  2    4  2  2  3  5    7 ...     7    4    8    2    2    1   \n",
       "26  0    0  1  1    1  5  1  5  2    2 ...     9    4    5    3    2    5   \n",
       "27  0    0  2  2    3  4  6  3  7    6 ...     7    7    8    3    5    4   \n",
       "28  0    0  0  1    4  4  6  3  8    6 ...     6    9    5    5    2    5   \n",
       "29  0    1  1  0    3  2  4  6  8    6 ...    10    4    2    6    5    5   \n",
       "30  0    0  2  3    3  4  5  3  6    7 ...     3    6    6    4    5    2   \n",
       "31  0    1  2  2    2  3  6  6  6    7 ...     5    8    5    2    5    5   \n",
       "32  0    0  2  1    3  5  6  7  5    8 ...     2    9    7    2    4    2   \n",
       "33  0    0  1  2    4  1  5  5  2    3 ...     5    6    6    2    3    5   \n",
       "34  0    0  0  3    1  3  6  4  3    4 ...     3    9    5    1    6    5   \n",
       "35  0    1  2  2    2  5  5  1  4    6 ...     6    4    5    4    6    3   \n",
       "36  0    1  1  2    3  1  5  1  2    2 ...     9    9    5    4    4    2   \n",
       "37  0    1  0  3    2  4  1  1  5    9 ...     5    5    2    1    1    1   \n",
       "38  0    1  1  3    1  1  5  5  3    7 ...     2    3    6    3    3    5   \n",
       "39  0    0  0  2    2  1  3  4  5    5 ...     2    9    6    2    2    5   \n",
       "40  0    0  1  3    3  1  2  1  8    9 ...     4    8    2    6    6    4   \n",
       "41  0    1  1  3    4  5  2  1  3    7 ...     5    8    5    5    6    1   \n",
       "42  0    0  1  3    1  4  3  6  7    8 ...    10    2    5    1    5    4   \n",
       "43  0    1  1  3    3  4  4  6  3    4 ...    10    6    8    7    2    5   \n",
       "44  0    1  2  2    4  3  1  4  8    9 ...     5    8    4    4    5    2   \n",
       "45  0    0  2  3    4  5  4  6  2    9 ...     6    7    6    5    1    3   \n",
       "46  0    1  1  3    1  4  6  2  8    2 ...     6    9    5    6    1    1   \n",
       "47  0    0  1  3    2  5  1  2  7    6 ...    10    7    6    3    1    5   \n",
       "48  0    0  1  2    3  4  5  7  5    4 ...     4    6    2    4    1    4   \n",
       "49  0    1  2  1    1  3  5  3  6    3 ...     7    9    3    3    6    3   \n",
       "50  0    1  2  2    3  5  2  4  5    6 ...     8    5    4    1    3    2   \n",
       "51  0    0  0  2    4  4  5  3  3    3 ...    10    8    7    5    2    2   \n",
       "52  0    0  2  1    1  4  4  7  2    9 ...     7    6    5    4    1    4   \n",
       "53  0    1  2  1    1  4  5  4  4    5 ...     4    5    5    2    2    5   \n",
       "54  0    0  1  3    2  3  6  4  5    7 ...     3    5    3    5    4    5   \n",
       "55  0    1  1  2    2  5  1  7  4    2 ...     7    7    5    6    3    4   \n",
       "56  0    1  1  1    4  1  6  4  6    3 ...     8    6    6    4    3    5   \n",
       "57  0    0  0  1    4  5  6  3  8    7 ...    10    8    8    6    5    5   \n",
       "58  0    0  1  0    3  2  5  4  8    2 ...     8    5    3    5    4    1   \n",
       "\n",
       "    2.1  3.5  0.2  0.3  \n",
       "0     1    1    0    1  \n",
       "1     2    2    1    1  \n",
       "2     2    3    2    1  \n",
       "3     2    0    1    1  \n",
       "4     4    3    2    1  \n",
       "5     4    1    1    1  \n",
       "6     3    2    2    1  \n",
       "7     2    1    0    0  \n",
       "8     1    2    0    0  \n",
       "9     3    2    2    1  \n",
       "10    4    0    1    1  \n",
       "11    2    3    0    1  \n",
       "12    1    3    0    0  \n",
       "13    2    0    2    0  \n",
       "14    4    2    2    0  \n",
       "15    4    0    2    1  \n",
       "16    3    0    1    0  \n",
       "17    2    0    1    0  \n",
       "18    4    3    1    1  \n",
       "19    4    2    2    0  \n",
       "20    3    0    2    0  \n",
       "21    1    0    1    0  \n",
       "22    4    1    2    0  \n",
       "23    1    0    2    1  \n",
       "24    1    1    1    0  \n",
       "25    3    0    1    1  \n",
       "26    4    3    2    1  \n",
       "27    1    3    1    0  \n",
       "28    2    1    0    1  \n",
       "29    2    3    2    1  \n",
       "30    2    3    0    0  \n",
       "31    2    0    2    1  \n",
       "32    1    2    1    1  \n",
       "33    2    1    1    1  \n",
       "34    4    2    2    0  \n",
       "35    4    3    2    1  \n",
       "36    1    0    1    0  \n",
       "37    1    3    0    1  \n",
       "38    4    3    2    1  \n",
       "39    3    0    0    1  \n",
       "40    2    2    0    0  \n",
       "41    2    1    2    0  \n",
       "42    2    1    0    1  \n",
       "43    4    3    1    1  \n",
       "44    4    1    1    0  \n",
       "45    1    0    0    0  \n",
       "46    2    1    2    1  \n",
       "47    4    3    0    0  \n",
       "48    2    2    2    1  \n",
       "49    4    1    2    0  \n",
       "50    1    3    1    0  \n",
       "51    4    1    2    1  \n",
       "52    2    2    2    1  \n",
       "53    1    0    0    1  \n",
       "54    3    3    0    1  \n",
       "55    2    2    1    1  \n",
       "56    2    1    1    1  \n",
       "57    2    0    2    0  \n",
       "58    3    1    1    0  \n",
       "\n",
       "[59 rows x 40 columns]"
      ]
     },
     "execution_count": 2,
     "metadata": {},
     "output_type": "execute_result"
    }
   ],
   "source": [
    "pd.read_csv(\"Introduction_to_Programming_with_Python/data/inflammation-01.csv\")"
   ]
  },
  {
   "cell_type": "markdown",
   "metadata": {},
   "source": [
    "Is there anything else wrong with the way we have loaded the dataframe?\n",
    "\n",
    "... it's taken the first row as a header. Why's this??"
   ]
  },
  {
   "cell_type": "code",
   "execution_count": 56,
   "metadata": {
    "collapsed": true
   },
   "outputs": [],
   "source": [
    "data = pd.read_csv(\"Introduction_to_Programming_with_Python/data/inflammation-01.csv\", header = None)"
   ]
  },
  {
   "cell_type": "code",
   "execution_count": 61,
   "metadata": {},
   "outputs": [
    {
     "name": "stdout",
     "output_type": "stream",
     "text": [
      "<class 'pandas.core.frame.DataFrame'>\n"
     ]
    }
   ],
   "source": [
    "print(type(data))\n",
    "\n",
    "# What does this mean?? Pandas is a library/class of its own. It handles dataframes in its own peculiar ways. \n",
    "# It's important to recognise this /the type of the saved object because this will influence what and how you can work with this object"
   ]
  },
  {
   "cell_type": "code",
   "execution_count": 58,
   "metadata": {},
   "outputs": [
    {
     "name": "stdout",
     "output_type": "stream",
     "text": [
      "(60, 40)\n"
     ]
    }
   ],
   "source": [
    "print(data.shape)"
   ]
  },
  {
   "cell_type": "code",
   "execution_count": 29,
   "metadata": {},
   "outputs": [
    {
     "data": {
      "text/plain": [
       "Int64Index([ 0,  1,  2,  3,  4,  5,  6,  7,  8,  9, 10, 11, 12, 13, 14, 15, 16,\n",
       "            17, 18, 19, 20, 21, 22, 23, 24, 25, 26, 27, 28, 29, 30, 31, 32, 33,\n",
       "            34, 35, 36, 37, 38, 39],\n",
       "           dtype='int64')"
      ]
     },
     "execution_count": 29,
     "metadata": {},
     "output_type": "execute_result"
    }
   ],
   "source": [
    "## return header names\n",
    "data.columns"
   ]
  },
  {
   "cell_type": "code",
   "execution_count": 21,
   "metadata": {},
   "outputs": [
    {
     "data": {
      "text/plain": [
       "RangeIndex(start=0, stop=60, step=1)"
      ]
     },
     "execution_count": 21,
     "metadata": {},
     "output_type": "execute_result"
    }
   ],
   "source": [
    "## return row names\n",
    "data.index"
   ]
  },
  {
   "cell_type": "markdown",
   "metadata": {},
   "source": [
    "### Slicing and dicing"
   ]
  },
  {
   "cell_type": "code",
   "execution_count": 63,
   "metadata": {},
   "outputs": [
    {
     "data": {
      "text/plain": [
       "0"
      ]
     },
     "execution_count": 63,
     "metadata": {},
     "output_type": "execute_result"
    }
   ],
   "source": [
    "## first value in the first row and the first columns\n",
    "## locating - via name!\n",
    "\n",
    "data.loc[0, 0]"
   ]
  },
  {
   "cell_type": "code",
   "execution_count": 62,
   "metadata": {},
   "outputs": [
    {
     "data": {
      "text/plain": [
       "0"
      ]
     },
     "execution_count": 62,
     "metadata": {},
     "output_type": "execute_result"
    }
   ],
   "source": [
    "## locating - via index\n",
    "## index from zero!!\n",
    "data.iloc[0,0]"
   ]
  },
  {
   "cell_type": "code",
   "execution_count": 15,
   "metadata": {},
   "outputs": [
    {
     "data": {
      "text/html": [
       "<div>\n",
       "<style>\n",
       "    .dataframe thead tr:only-child th {\n",
       "        text-align: right;\n",
       "    }\n",
       "\n",
       "    .dataframe thead th {\n",
       "        text-align: left;\n",
       "    }\n",
       "\n",
       "    .dataframe tbody tr th {\n",
       "        vertical-align: top;\n",
       "    }\n",
       "</style>\n",
       "<table border=\"1\" class=\"dataframe\">\n",
       "  <thead>\n",
       "    <tr style=\"text-align: right;\">\n",
       "      <th></th>\n",
       "      <th>0</th>\n",
       "      <th>1</th>\n",
       "      <th>2</th>\n",
       "      <th>3</th>\n",
       "      <th>4</th>\n",
       "      <th>5</th>\n",
       "      <th>6</th>\n",
       "      <th>7</th>\n",
       "      <th>8</th>\n",
       "      <th>9</th>\n",
       "    </tr>\n",
       "  </thead>\n",
       "  <tbody>\n",
       "    <tr>\n",
       "      <th>0</th>\n",
       "      <td>0</td>\n",
       "      <td>0</td>\n",
       "      <td>1</td>\n",
       "      <td>3</td>\n",
       "      <td>1</td>\n",
       "      <td>2</td>\n",
       "      <td>4</td>\n",
       "      <td>7</td>\n",
       "      <td>8</td>\n",
       "      <td>3</td>\n",
       "    </tr>\n",
       "    <tr>\n",
       "      <th>1</th>\n",
       "      <td>0</td>\n",
       "      <td>1</td>\n",
       "      <td>2</td>\n",
       "      <td>1</td>\n",
       "      <td>2</td>\n",
       "      <td>1</td>\n",
       "      <td>3</td>\n",
       "      <td>2</td>\n",
       "      <td>2</td>\n",
       "      <td>6</td>\n",
       "    </tr>\n",
       "    <tr>\n",
       "      <th>2</th>\n",
       "      <td>0</td>\n",
       "      <td>1</td>\n",
       "      <td>1</td>\n",
       "      <td>3</td>\n",
       "      <td>3</td>\n",
       "      <td>2</td>\n",
       "      <td>6</td>\n",
       "      <td>2</td>\n",
       "      <td>5</td>\n",
       "      <td>9</td>\n",
       "    </tr>\n",
       "    <tr>\n",
       "      <th>3</th>\n",
       "      <td>0</td>\n",
       "      <td>0</td>\n",
       "      <td>2</td>\n",
       "      <td>0</td>\n",
       "      <td>4</td>\n",
       "      <td>2</td>\n",
       "      <td>2</td>\n",
       "      <td>1</td>\n",
       "      <td>6</td>\n",
       "      <td>7</td>\n",
       "    </tr>\n",
       "  </tbody>\n",
       "</table>\n",
       "</div>"
      ],
      "text/plain": [
       "   0  1  2  3  4  5  6  7  8  9\n",
       "0  0  0  1  3  1  2  4  7  8  3\n",
       "1  0  1  2  1  2  1  3  2  2  6\n",
       "2  0  1  1  3  3  2  6  2  5  9\n",
       "3  0  0  2  0  4  2  2  1  6  7"
      ]
     },
     "execution_count": 15,
     "metadata": {},
     "output_type": "execute_result"
    }
   ],
   "source": [
    "## getting a range of data\n",
    "data.iloc[0:4, 0:10]"
   ]
  },
  {
   "cell_type": "code",
   "execution_count": 16,
   "metadata": {},
   "outputs": [
    {
     "data": {
      "text/html": [
       "<div>\n",
       "<style>\n",
       "    .dataframe thead tr:only-child th {\n",
       "        text-align: right;\n",
       "    }\n",
       "\n",
       "    .dataframe thead th {\n",
       "        text-align: left;\n",
       "    }\n",
       "\n",
       "    .dataframe tbody tr th {\n",
       "        vertical-align: top;\n",
       "    }\n",
       "</style>\n",
       "<table border=\"1\" class=\"dataframe\">\n",
       "  <thead>\n",
       "    <tr style=\"text-align: right;\">\n",
       "      <th></th>\n",
       "      <th>0</th>\n",
       "      <th>1</th>\n",
       "      <th>2</th>\n",
       "      <th>3</th>\n",
       "      <th>4</th>\n",
       "      <th>5</th>\n",
       "      <th>6</th>\n",
       "      <th>7</th>\n",
       "      <th>8</th>\n",
       "      <th>9</th>\n",
       "      <th>...</th>\n",
       "      <th>26</th>\n",
       "      <th>27</th>\n",
       "      <th>28</th>\n",
       "      <th>29</th>\n",
       "      <th>30</th>\n",
       "      <th>31</th>\n",
       "      <th>32</th>\n",
       "      <th>33</th>\n",
       "      <th>34</th>\n",
       "      <th>35</th>\n",
       "    </tr>\n",
       "  </thead>\n",
       "  <tbody>\n",
       "    <tr>\n",
       "      <th>0</th>\n",
       "      <td>0</td>\n",
       "      <td>0</td>\n",
       "      <td>1</td>\n",
       "      <td>3</td>\n",
       "      <td>1</td>\n",
       "      <td>2</td>\n",
       "      <td>4</td>\n",
       "      <td>7</td>\n",
       "      <td>8</td>\n",
       "      <td>3</td>\n",
       "      <td>...</td>\n",
       "      <td>4</td>\n",
       "      <td>6</td>\n",
       "      <td>8</td>\n",
       "      <td>8</td>\n",
       "      <td>4</td>\n",
       "      <td>4</td>\n",
       "      <td>5</td>\n",
       "      <td>7</td>\n",
       "      <td>3</td>\n",
       "      <td>4</td>\n",
       "    </tr>\n",
       "    <tr>\n",
       "      <th>1</th>\n",
       "      <td>0</td>\n",
       "      <td>1</td>\n",
       "      <td>2</td>\n",
       "      <td>1</td>\n",
       "      <td>2</td>\n",
       "      <td>1</td>\n",
       "      <td>3</td>\n",
       "      <td>2</td>\n",
       "      <td>2</td>\n",
       "      <td>6</td>\n",
       "      <td>...</td>\n",
       "      <td>11</td>\n",
       "      <td>5</td>\n",
       "      <td>11</td>\n",
       "      <td>3</td>\n",
       "      <td>3</td>\n",
       "      <td>5</td>\n",
       "      <td>4</td>\n",
       "      <td>4</td>\n",
       "      <td>5</td>\n",
       "      <td>5</td>\n",
       "    </tr>\n",
       "    <tr>\n",
       "      <th>2</th>\n",
       "      <td>0</td>\n",
       "      <td>1</td>\n",
       "      <td>1</td>\n",
       "      <td>3</td>\n",
       "      <td>3</td>\n",
       "      <td>2</td>\n",
       "      <td>6</td>\n",
       "      <td>2</td>\n",
       "      <td>5</td>\n",
       "      <td>9</td>\n",
       "      <td>...</td>\n",
       "      <td>11</td>\n",
       "      <td>7</td>\n",
       "      <td>4</td>\n",
       "      <td>2</td>\n",
       "      <td>10</td>\n",
       "      <td>5</td>\n",
       "      <td>4</td>\n",
       "      <td>2</td>\n",
       "      <td>2</td>\n",
       "      <td>3</td>\n",
       "    </tr>\n",
       "  </tbody>\n",
       "</table>\n",
       "<p>3 rows × 36 columns</p>\n",
       "</div>"
      ],
      "text/plain": [
       "   0   1   2   3   4   5   6   7   8   9  ...  26  27  28  29  30  31  32  33  \\\n",
       "0   0   0   1   3   1   2   4   7   8   3 ...   4   6   8   8   4   4   5   7   \n",
       "1   0   1   2   1   2   1   3   2   2   6 ...  11   5  11   3   3   5   4   4   \n",
       "2   0   1   1   3   3   2   6   2   5   9 ...  11   7   4   2  10   5   4   2   \n",
       "\n",
       "   34  35  \n",
       "0   3   4  \n",
       "1   5   5  \n",
       "2   2   3  \n",
       "\n",
       "[3 rows x 36 columns]"
      ]
     },
     "execution_count": 16,
     "metadata": {},
     "output_type": "execute_result"
    }
   ],
   "source": [
    "data.iloc[:3, :36]"
   ]
  },
  {
   "cell_type": "code",
   "execution_count": 32,
   "metadata": {
    "collapsed": true
   },
   "outputs": [],
   "source": [
    "import numpy"
   ]
  },
  {
   "cell_type": "code",
   "execution_count": 33,
   "metadata": {},
   "outputs": [
    {
     "data": {
      "text/plain": [
       "0      0.000000\n",
       "1      0.450000\n",
       "2      1.116667\n",
       "3      1.750000\n",
       "4      2.433333\n",
       "5      3.150000\n",
       "6      3.800000\n",
       "7      3.883333\n",
       "8      5.233333\n",
       "9      5.516667\n",
       "10     5.950000\n",
       "11     5.900000\n",
       "12     8.350000\n",
       "13     7.733333\n",
       "14     8.366667\n",
       "15     9.500000\n",
       "16     9.583333\n",
       "17    10.633333\n",
       "18    11.566667\n",
       "19    12.350000\n",
       "20    13.250000\n",
       "21    11.966667\n",
       "22    11.033333\n",
       "23    10.166667\n",
       "24    10.000000\n",
       "25     8.666667\n",
       "26     9.150000\n",
       "27     7.250000\n",
       "28     7.333333\n",
       "29     6.583333\n",
       "30     6.066667\n",
       "31     5.950000\n",
       "32     5.116667\n",
       "33     3.600000\n",
       "34     3.300000\n",
       "35     3.566667\n",
       "36     2.483333\n",
       "37     1.500000\n",
       "38     1.133333\n",
       "39     0.566667\n",
       "dtype: float64"
      ]
     },
     "execution_count": 33,
     "metadata": {},
     "output_type": "execute_result"
    }
   ],
   "source": [
    "numpy.mean(data)\n",
    "\n",
    "## note that by default the aggregation is performed across columns"
   ]
  },
  {
   "cell_type": "code",
   "execution_count": 34,
   "metadata": {},
   "outputs": [],
   "source": [
    "## getting the mean by row: axis = 1\n",
    "means_by_row = numpy.mean(data, axis=1)"
   ]
  },
  {
   "cell_type": "code",
   "execution_count": 35,
   "metadata": {},
   "outputs": [
    {
     "data": {
      "text/plain": [
       "(60,)"
      ]
     },
     "execution_count": 35,
     "metadata": {},
     "output_type": "execute_result"
    }
   ],
   "source": [
    "## how many values?\n",
    "means_by_row.shape"
   ]
  },
  {
   "cell_type": "markdown",
   "metadata": {},
   "source": [
    "## Tuples, Lists and Dictionaries\n",
    "\n",
    "There's a few ways to store an object that comprises of many values. We've seen the pandas dataframe already, but more basic types include\n",
    "* Lists - which can hold many different types, even lists in themselves! Uses square brackets\n",
    "* Dictionaries - a way to map a 'key' to a 'value'. Uses curly brackets\n",
    "* Tuples - basically a row of data. Uses round brackets\n",
    "\n",
    "The main difference between these is mutability. Dictionaries and tuples are immutable; you can't change a value based on its index position. Lists are mutable."
   ]
  },
  {
   "cell_type": "markdown",
   "metadata": {},
   "source": [
    "### Tuples"
   ]
  },
  {
   "cell_type": "code",
   "execution_count": 40,
   "metadata": {},
   "outputs": [
    {
     "name": "stdout",
     "output_type": "stream",
     "text": [
      "3\n",
      "(1,)\n"
     ]
    }
   ],
   "source": [
    "tup = (1, 3, 5)\n",
    "\n",
    "## what does this print?\n",
    "print(tup[1])\n",
    "# ... remember, index from zero!\n",
    "\n",
    "## what does this print?\n",
    "print(tup[0:1])\n",
    "# ... the range from index 0 to 1, not inclusive!"
   ]
  },
  {
   "cell_type": "code",
   "execution_count": 36,
   "metadata": {},
   "outputs": [
    {
     "ename": "NameError",
     "evalue": "name 'tup' is not defined",
     "output_type": "error",
     "traceback": [
      "\u001b[1;31m---------------------------------------------------------------------------\u001b[0m",
      "\u001b[1;31mNameError\u001b[0m                                 Traceback (most recent call last)",
      "\u001b[1;32m<ipython-input-36-3d380695b934>\u001b[0m in \u001b[0;36m<module>\u001b[1;34m()\u001b[0m\n\u001b[0;32m      1\u001b[0m \u001b[1;31m## but this won't work. Not mutable!\u001b[0m\u001b[1;33m\u001b[0m\u001b[1;33m\u001b[0m\u001b[0m\n\u001b[1;32m----> 2\u001b[1;33m \u001b[0mtup\u001b[0m\u001b[1;33m[\u001b[0m\u001b[1;36m1\u001b[0m\u001b[1;33m]\u001b[0m\u001b[1;33m=\u001b[0m\u001b[1;36m10\u001b[0m\u001b[1;33m\u001b[0m\u001b[0m\n\u001b[0m",
      "\u001b[1;31mNameError\u001b[0m: name 'tup' is not defined"
     ]
    }
   ],
   "source": [
    "## but this won't work. Not mutable!\n",
    "tup[1]=10"
   ]
  },
  {
   "cell_type": "code",
   "execution_count": 38,
   "metadata": {},
   "outputs": [
    {
     "data": {
      "text/plain": [
       "(10, 3, 5)"
      ]
     },
     "execution_count": 38,
     "metadata": {},
     "output_type": "execute_result"
    }
   ],
   "source": [
    "## A work around...\n",
    "## but this does! \n",
    "\n",
    "tup = (10,) + tup[1:]\n",
    "tup"
   ]
  },
  {
   "cell_type": "markdown",
   "metadata": {},
   "source": [
    "### Lists\n",
    "* sorting\n",
    "* adding\n",
    "* removing\n",
    "* copying"
   ]
  },
  {
   "cell_type": "code",
   "execution_count": 39,
   "metadata": {},
   "outputs": [
    {
     "data": {
      "text/plain": [
       "[10, 3, 5.25]"
      ]
     },
     "execution_count": 39,
     "metadata": {},
     "output_type": "execute_result"
    }
   ],
   "source": [
    "list = ['dogs', 3, 5.25]\n",
    "\n",
    "# changing the first value. Because lists are mutable!\n",
    "list[0]=10\n",
    "\n",
    "list"
   ]
  },
  {
   "cell_type": "code",
   "execution_count": 30,
   "metadata": {},
   "outputs": [
    {
     "data": {
      "text/plain": [
       "[10, 3, 5.25, [2, 3, 4, 5]]"
      ]
     },
     "execution_count": 30,
     "metadata": {},
     "output_type": "execute_result"
    }
   ],
   "source": [
    "## adding to a list\n",
    "list.append([2,3,4,5])\n",
    "\n",
    "list"
   ]
  },
  {
   "cell_type": "code",
   "execution_count": null,
   "metadata": {
    "collapsed": true
   },
   "outputs": [],
   "source": [
    "## deleting a value from a list\n",
    "list.pop(3)\n",
    "list"
   ]
  },
  {
   "cell_type": "code",
   "execution_count": null,
   "metadata": {
    "collapsed": true
   },
   "outputs": [],
   "source": [
    "## sorting a list\n",
    "\n",
    "list.sort()\n",
    "list"
   ]
  },
  {
   "cell_type": "code",
   "execution_count": null,
   "metadata": {
    "collapsed": true
   },
   "outputs": [],
   "source": [
    "list.reverse()\n",
    "list"
   ]
  },
  {
   "cell_type": "code",
   "execution_count": null,
   "metadata": {
    "collapsed": true
   },
   "outputs": [],
   "source": [
    "salsa = ['peppers', 'onions', 'cilantro', 'tomatoes']\n",
    "my_salsa = salsa        # <-- my_salsa and salsa point to the *same* list data in memory"
   ]
  },
  {
   "cell_type": "code",
   "execution_count": null,
   "metadata": {
    "collapsed": true
   },
   "outputs": [],
   "source": [
    "salsa[0] = 'hot peppers'\n",
    "print('Ingredients in my salsa:', my_salsa)"
   ]
  },
  {
   "cell_type": "code",
   "execution_count": null,
   "metadata": {
    "collapsed": true
   },
   "outputs": [],
   "source": [
    "salsa = ['peppers', 'onions', 'cilantro', 'tomatoes']\n",
    "salsa"
   ]
  },
  {
   "cell_type": "code",
   "execution_count": null,
   "metadata": {
    "collapsed": true
   },
   "outputs": [],
   "source": [
    "salsa = ['peppers', 'onions', 'cilantro', 'tomatoes']\n",
    "my_salsa = salsa[:]        # <-- makes a *copy* of the list\n",
    "salsa[0] = 'hot peppers'\n",
    "print('Ingredients in my salsa:', my_salsa)"
   ]
  },
  {
   "cell_type": "code",
   "execution_count": null,
   "metadata": {
    "collapsed": true
   },
   "outputs": [],
   "source": [
    "## nested lists\n",
    "x = [['pepper', 'zucchini', 'onion'],\n",
    "     ['cabbage', 'lettuce', 'garlic'],\n",
    "     ['apple', 'pear', 'banana']]"
   ]
  },
  {
   "cell_type": "code",
   "execution_count": null,
   "metadata": {
    "collapsed": true
   },
   "outputs": [],
   "source": [
    "print(x[0])\n",
    "print(x[0][0])"
   ]
  },
  {
   "cell_type": "markdown",
   "metadata": {},
   "source": [
    "### Dictionaries"
   ]
  },
  {
   "cell_type": "code",
   "execution_count": null,
   "metadata": {
    "collapsed": true
   },
   "outputs": [],
   "source": [
    "clothing_details = {'colour': 'blue'}\n",
    "clothing_details['colour']"
   ]
  },
  {
   "cell_type": "code",
   "execution_count": null,
   "metadata": {
    "collapsed": true
   },
   "outputs": [],
   "source": [
    "## easy enough to add to an existing dictionary\n",
    "\n",
    "clothing_details['size']='small'\n",
    "clothing_details"
   ]
  },
  {
   "cell_type": "code",
   "execution_count": null,
   "metadata": {
    "collapsed": true
   },
   "outputs": [],
   "source": [
    "## ... and change a key value that already exists\n",
    "\n",
    "clothing_details['size']='medium'\n",
    "clothing_details"
   ]
  },
  {
   "cell_type": "code",
   "execution_count": null,
   "metadata": {
    "collapsed": true
   },
   "outputs": [],
   "source": [
    "## you can use the 'in' operator to find keys in a dictionary. This is to check if a key exists or not; a boolean statement\n",
    "\n",
    "print('size' in clothing_details)"
   ]
  },
  {
   "cell_type": "code",
   "execution_count": null,
   "metadata": {
    "collapsed": true
   },
   "outputs": [],
   "source": [
    "## but 'in' doesn't work for finding values\n",
    "## e.g., \n",
    "\n",
    "print('blue' in clothing_details)"
   ]
  },
  {
   "cell_type": "code",
   "execution_count": null,
   "metadata": {
    "collapsed": true
   },
   "outputs": [],
   "source": [
    "## a list can be a value in a dictionary\n",
    "\n",
    "clothing_details['available_sizes'] = ['small', 'large']"
   ]
  },
  {
   "cell_type": "code",
   "execution_count": null,
   "metadata": {
    "collapsed": true
   },
   "outputs": [],
   "source": [
    "## note, keys in a dictionary aren't indexed\n",
    "clothing_details[1]"
   ]
  },
  {
   "cell_type": "markdown",
   "metadata": {},
   "source": [
    "## For loops"
   ]
  },
  {
   "cell_type": "markdown",
   "metadata": {},
   "source": [
    "Looping is a really powerful and common part of programming. It is one of the basic programming utilities, which is universal across all languages; not just specific to Python. However, the differences between how to write a loop *is* specific to the language. \n",
    "\n",
    "Where some other languages use brackets, Python uses indentation (or 4 spaces; one or the other, but not both!) to demarcate the body of a for loop. \n",
    "\n",
    "Loops can get really powerful when you have loops within loops. But be careful, because this can end up in a logical mindfield. \n",
    "\n",
    "The way to understand a for loop is according to its two fundamental componets; 1) it must have a collection of values, on which that we want to loop; 2) you want to do something using the individual items in this collection, either as the values themselves or their index position (if they have index positions). \n",
    "\n",
    "E.g., you may want to neatly print out the contents of a dictionary"
   ]
  },
  {
   "cell_type": "code",
   "execution_count": null,
   "metadata": {
    "collapsed": true
   },
   "outputs": [],
   "source": [
    "## interating over dictionaries\n",
    "\n",
    "for key in clothing_details:\n",
    "    print(key, \":\",  clothing_details[key])"
   ]
  },
  {
   "cell_type": "code",
   "execution_count": null,
   "metadata": {
    "collapsed": true
   },
   "outputs": [],
   "source": [
    "## given that a string itself is a 'collection' of characters, maybe you want to count how many characters are in a string\n",
    "## counters are very common!!\n",
    "\n",
    "count=0\n",
    "vowels = 'aeiou'\n",
    "\n",
    "for letter in vowels:\n",
    "    count=count+1 ## note, you can also write this in shorthand as count+=1\n",
    "    print(letter)\n",
    "\n",
    "print('There are', count, 'vowels')\n"
   ]
  },
  {
   "cell_type": "code",
   "execution_count": null,
   "metadata": {
    "collapsed": true
   },
   "outputs": [],
   "source": [
    "## interestingly, the placeholder variable gets saved with the value from the collection on each loop. \n",
    "## so, once the loop has finished'letter' will have the value of 'u' because 'u' is the last value in 'vowels'\n",
    "\n",
    "print(letter)"
   ]
  },
  {
   "cell_type": "code",
   "execution_count": null,
   "metadata": {
    "collapsed": true
   },
   "outputs": [],
   "source": [
    "## lists are very common to loop over, perhaps because they are so versatile\n",
    "## because each value in a list as an index number, we can use this number as our individual variable in the loop\n"
   ]
  },
  {
   "cell_type": "code",
   "execution_count": null,
   "metadata": {
    "collapsed": true
   },
   "outputs": [],
   "source": [
    "for i in range(len(salsa)):\n",
    "    print(\"{0}. {1}\".format(i, salsa[i]))"
   ]
  },
  {
   "cell_type": "markdown",
   "metadata": {},
   "source": [
    "## If statements\n",
    "Just like for loops, 'if statements' are found throughout programming. In Python they follow a similar syntax to for loops, using indentation to contain the body of the command. If statements work of an if-elif-else basis. That is, there must be an initial condition set (the `if`), then if that condition isn't met, the program may proceed to the next conditional parts. Whilst 'if' is a necessary part of an `if` statement, `elif` and `else` are optional. \n",
    "\n",
    "Just remember, at each conditional step a `True` or `False` must be determined by the computer. If a `True` is the result of a conditional statement, then anything that's within the body of that conditional will be executed; if a `False` is returned, then the program will move onto the next conditional (`elif` or `else`) or will end if there aren't any more."
   ]
  },
  {
   "cell_type": "code",
   "execution_count": null,
   "metadata": {
    "collapsed": true
   },
   "outputs": [],
   "source": [
    "num = 37\n",
    "if num > 100:\n",
    "    print('greater')\n",
    "else:\n",
    "    print('not greater')\n",
    "print('done')"
   ]
  },
  {
   "cell_type": "code",
   "execution_count": null,
   "metadata": {
    "collapsed": true
   },
   "outputs": [],
   "source": [
    "num = 53\n",
    "print('before conditional...')\n",
    "if num > 100:\n",
    "    print(num,' is greater than 100')\n",
    "print('...after conditional')"
   ]
  },
  {
   "cell_type": "code",
   "execution_count": null,
   "metadata": {
    "collapsed": true
   },
   "outputs": [],
   "source": [
    "num = -3\n",
    "\n",
    "if num > 0:\n",
    "    print(num, 'is positive')\n",
    "elif num == 0:\n",
    "    print(num, 'is zero')\n",
    "else:\n",
    "    print(num, 'is negative')"
   ]
  },
  {
   "cell_type": "markdown",
   "metadata": {},
   "source": [
    "## Building functions\n",
    "\n",
    "Functions give structure to your code. If you have a repeated task in your code, then you should create a function for this task and then use it whenever you want to do the task. This means that if you want to update the task, you only have to do it in one place in the script and it will be applied to everywhere where the function is used. Using functions that you have written also helps in the sometimes painful process of debugging. \n",
    "\n",
    "Again, writing functions has a particular syntax in Python. Like 'ifs' and for loops, it uses the `:` and uses indentations. This time the keywork for defining a function is `def`. "
   ]
  },
  {
   "cell_type": "code",
   "execution_count": 42,
   "metadata": {
    "collapsed": true
   },
   "outputs": [],
   "source": [
    "def fahr_to_celsius(temp):\n",
    "    return ((temp - 32) * (5/9))"
   ]
  },
  {
   "cell_type": "code",
   "execution_count": 43,
   "metadata": {},
   "outputs": [
    {
     "data": {
      "text/plain": [
       "0.0"
      ]
     },
     "execution_count": 43,
     "metadata": {},
     "output_type": "execute_result"
    }
   ],
   "source": [
    "fahr_to_celsius(32)"
   ]
  },
  {
   "cell_type": "code",
   "execution_count": 44,
   "metadata": {},
   "outputs": [
    {
     "name": "stdout",
     "output_type": "stream",
     "text": [
      "freezing point of water: 0.0 C\n",
      "boiling point of water: 100.0 C\n"
     ]
    }
   ],
   "source": [
    "print('freezing point of water:', fahr_to_celsius(32), 'C')\n",
    "print('boiling point of water:', fahr_to_celsius(212), 'C')"
   ]
  },
  {
   "cell_type": "code",
   "execution_count": 48,
   "metadata": {},
   "outputs": [
    {
     "name": "stdout",
     "output_type": "stream",
     "text": [
      "freezing point of water in Kelvin: 273.15\n"
     ]
    }
   ],
   "source": [
    "def celsius_to_kelvin(temp_c):\n",
    "    return temp_c + 273.15\n",
    "\n",
    "print('freezing point of water in Kelvin:', celsius_to_kelvin(0))"
   ]
  },
  {
   "cell_type": "code",
   "execution_count": 49,
   "metadata": {},
   "outputs": [
    {
     "name": "stdout",
     "output_type": "stream",
     "text": [
      "boiling point of water in Kelvin: 373.15\n"
     ]
    }
   ],
   "source": [
    "def fahr_to_kelvin(temp_f):\n",
    "    temp_c = fahr_to_celsius(temp_f)\n",
    "    temp_k = celsius_to_kelvin(temp_c)\n",
    "    return temp_k\n",
    "\n",
    "print('boiling point of water in Kelvin:', fahr_to_kelvin(212.0))"
   ]
  },
  {
   "cell_type": "markdown",
   "metadata": {},
   "source": [
    "## Error handling\n",
    "\n",
    "Some types of exceptions:\n",
    "* `IndexError` - out of range\n",
    "* `KeyError` - Dictionary key does not exist\n",
    "* `ZeroDivisionError` - when trying to divide by 0\n",
    "* `FileExistsError` - when trying to create a file that already exists\n",
    "* `FileNotFoundError` - when trying to load a file that doesn't exist\n",
    "* `PermissionError` - when you have have access rights\n",
    "* `TypeError` - when an argument has a wrong data type\n",
    "* `ValueError` - when the argument has a right time, but inappropriate value"
   ]
  },
  {
   "cell_type": "code",
   "execution_count": 44,
   "metadata": {},
   "outputs": [
    {
     "name": "stdout",
     "output_type": "stream",
     "text": [
      "Enter number:today\n",
      "Not a number!\n",
      "Enter number:one\n",
      "Not a number!\n",
      "Enter number:five!!\n",
      "Not a number!\n",
      "Enter number:5\n"
     ]
    }
   ],
   "source": [
    "while True:\n",
    "    try:\n",
    "        val = input('Enter number:')\n",
    "        x = int(val)\n",
    "        break\n",
    "    except ValueError:\n",
    "        print('Not a number!')"
   ]
  },
  {
   "cell_type": "code",
   "execution_count": 72,
   "metadata": {
    "collapsed": true
   },
   "outputs": [],
   "source": [
    "## catching all exceptions. Should be rarely used. \n",
    "\n",
    "def to_int(val):\n",
    "    try:\n",
    "        return int(val)\n",
    "    except:\n",
    "        return 0"
   ]
  },
  {
   "cell_type": "code",
   "execution_count": 71,
   "metadata": {},
   "outputs": [
    {
     "data": {
      "text/plain": [
       "0"
      ]
     },
     "execution_count": 71,
     "metadata": {},
     "output_type": "execute_result"
    }
   ],
   "source": [
    "to_int(\"five\")"
   ]
  },
  {
   "cell_type": "markdown",
   "metadata": {},
   "source": [
    "#### One other thing think about using Assertions to control how a function works"
   ]
  },
  {
   "cell_type": "code",
   "execution_count": 69,
   "metadata": {
    "collapsed": true
   },
   "outputs": [],
   "source": [
    "def fahrenheit_to_celsius(temp):\n",
    "    assert type(temp) in (int, float)\n",
    "    return (temp-32) / 1.8"
   ]
  },
  {
   "cell_type": "code",
   "execution_count": 67,
   "metadata": {
    "collapsed": true
   },
   "outputs": [],
   "source": [
    "try: \n",
    "    conversion = fahrenheit_to_celsius(-500)\n",
    "except AssertionError:\n",
    "    print(\"Not an integer or float\")"
   ]
  },
  {
   "cell_type": "code",
   "execution_count": 68,
   "metadata": {},
   "outputs": [
    {
     "data": {
      "text/plain": [
       "-295.55555555555554"
      ]
     },
     "execution_count": 68,
     "metadata": {},
     "output_type": "execute_result"
    }
   ],
   "source": [
    "conversion"
   ]
  },
  {
   "cell_type": "markdown",
   "metadata": {
    "collapsed": true
   },
   "source": [
    "# Calling Restful APIs with Python\n",
    "\n",
    "-------------------\n",
    "\n",
    "Covering \n",
    "* get\n",
    "* post\n",
    "* delete"
   ]
  },
  {
   "cell_type": "markdown",
   "metadata": {},
   "source": [
    "### Using the Eventbrite API\n",
    "\n",
    "Our base URL is https://www.eventbriteapi.com/v3/events/\n",
    "\n",
    "The tasks that we are going to complete: \n",
    "\n",
    "\n",
    "|Task|Call|Endpoint|\n",
    "|:---------------|:-----------------------:|:----------------------------|\n",
    "|*Retrieve information about an event* |**GET** |events/**event_id**/ |\n",
    "|*List order of an event* | **GET** | events/**event_id**/orders |\n",
    "|*List all events by organisation*| **GET** | organizations/**organization_id**/events/ |\n",
    "|*Create an event* | **POST** | organizations/**organization_id**/events/|\n",
    "|*Update an event* | **POST** | events/**event_id**/|\n",
    "|*Cancel an event* | **POST** | events/**event_id**/cancel/|\n",
    "|*Delete an event* | **DELETE** | events/**event_id**/|\n",
    "\n"
   ]
  },
  {
   "cell_type": "markdown",
   "metadata": {},
   "source": [
    "### Using the `requests` library\n",
    "\n",
    "Before we start let's save the codes we'll need to run the API calls. Specifically for this API, we need to use a Oauth `token`. And for ease, let's also save our `organization id` so we can look up the courses will end up created. \n",
    "\n",
    "We could assign these variables here, but it tends to be a good idea to keep these types of details separate in another file so that when we come to sharing this code, it is easy to conceal the personal details. Let's save the details in a file called `tokens.py`. We can then import these variables in using `from tokens import *` as long as tokens.py is in the same directory.\n"
   ]
  },
  {
   "cell_type": "code",
   "execution_count": 2,
   "metadata": {
    "collapsed": true
   },
   "outputs": [],
   "source": [
    "import requests\n",
    "from tokens import * ## loading our API details. Best to keep your credentials seperate so it's easier to manage when sharing your scripts\n"
   ]
  },
  {
   "cell_type": "code",
   "execution_count": 37,
   "metadata": {
    "collapsed": true
   },
   "outputs": [],
   "source": [
    "## functions\n",
    "\n",
    "def build_url(id, first=\"events\", second=\"\", baseURL ='https://www.eventbriteapi.com/v3', action = \"\"):\n",
    "    if second==\"\" and action ==\"\": ## wanting to retrieve info about, updating or deleting an event\n",
    "        url = \"{0}/{1}/{2}/\".format(baseURL, first, id)\n",
    "    elif second!=\"\":## when creating an event or listing events from an organisation\n",
    "        url = \"{0}/{1}/{2}/{3}/\".format(baseURL, first, id, second)\n",
    "    elif action!=\"\": ## wanting to cancel an event\n",
    "        assert action==\"cancel\", \"action is not about cancelling\"\n",
    "        url = \"{0}/{1}/{2}/{3}/\".format(baseURL, first, id, action)\n",
    "    return(url)\n"
   ]
  },
  {
   "cell_type": "code",
   "execution_count": 3,
   "metadata": {
    "collapsed": true
   },
   "outputs": [],
   "source": [
    "## Global settings\n",
    "\n",
    "# save the base url for future use\n",
    "baseURL = \"https://www.eventbriteapi.com/v3/\"\n",
    "\n",
    "## for authorisation\n",
    "headers = {\n",
    "  'Authorization': 'Bearer '+token,\n",
    "  'Content-Type': 'application/json'\n",
    "}"
   ]
  },
  {
   "cell_type": "code",
   "execution_count": 38,
   "metadata": {},
   "outputs": [
    {
     "name": "stdout",
     "output_type": "stream",
     "text": [
      "Succesful connection https://www.eventbriteapi.com/v3/events/search?q=python&location.address=Melbourne&location.within=50km&start_date.range_start=2019-02-20T00:00:00Z&start_date.range_end=2019-03-20T00:00:00Z\n",
      "Successful call! You're good to go\n"
     ]
    }
   ],
   "source": [
    "## Let's search EB for courses by a particular keyword. \n",
    "# https://www.eventbrite.com/platform/api#/reference/event-search/search-events \n",
    "\n",
    "# some params\n",
    "query=\"python\"\n",
    "location = \"Melbourne\"\n",
    "proximity = \"50km\"\n",
    "q_startdate = \"2019-02-20T00:00:00Z\"\n",
    "q_enddate = \"2019-03-20T00:00:00Z\"\n",
    "\n",
    "url = \"{0}events/search?q={1}&location.address={2}&location.within={3}&start_date.range_start={4}&start_date.range_end={5}\".format(\n",
    "    baseURL, query, location, proximity, q_startdate, q_enddate)\n",
    "\n",
    "## use try except to catch any connection or timeout errors\n",
    "try: \n",
    "    call = requests.get(url, headers=headers)\n",
    "    print(\"Succesful connection\", url)\n",
    "except requests.exceptions.RequestException as err: ## for if there is some sort of connection error\n",
    "    print(\"Ooops: Something went wrong\",err)\n",
    "\n",
    "## other possible requests exceptions: HTTPError, ConnectionError, Timeout\n",
    "\n",
    "## use another catch in case it hasn't authenticated properly or the query is wrong\n",
    "if call.status_code != 200:\n",
    "    print(\"Something went wrong:\", call.json()['error_description'])\n",
    "else:\n",
    "    print(\"Successful call! You're good to go\")"
   ]
  },
  {
   "cell_type": "code",
   "execution_count": 30,
   "metadata": {},
   "outputs": [
    {
     "data": {
      "text/plain": [
       "{'events': [{'capacity': None,\n",
       "   'capacity_is_custom': None,\n",
       "   'category_id': '101',\n",
       "   'changed': '2018-12-17T13:31:15Z',\n",
       "   'created': '2018-12-17T13:28:38Z',\n",
       "   'currency': 'AUD',\n",
       "   'description': {'html': '<P>By booking this course, you agree to our <A HREF=\"http://presciient.com/terms-and-conditions\" TARGET=\"_blank\" REL=\"nofollow noopener noreferrer\"><STRONG>terms and conditions</STRONG></A>.</P>\\n<P><SPAN>For any enquiries, please call\\xa0</SPAN><STRONG>0414</STRONG><SPAN><STRONG>\\xa057 33 22</STRONG>.</SPAN></P>\\n<P><SPAN><SPAN>If you prefer, you can pay by invoice rather than credit card. For instructions,\\xa0</SPAN><A HREF=\"http://presciient.com/resources/pay-invoice-eventbrite/\" TARGET=\"_blank\" REL=\"nofollow noopener noreferrer\">click here</A><SPAN>.</SPAN></SPAN></P>\\n<P><BR></P>\\n<HR>\\n<P><BR></P>\\n<P><STRONG>Introduction to Python for Data Analysis</STRONG></P>\\n<P><IMG ALT=\"\" SRC=\"https://www.facebook.com/tr?id=1108503702495972&ev=PageView&noscript=1\"></P>\\n<DIV>\\n<DIV>\\n<DIV>\\n<DIV>\\n<P CLASS=\"inbox-inbox-p1\">Python is a high level and general purpose programming language. Millions of Python users contribute to a thriving open-source community that also enjoys immense commercial use and support.<SPAN CLASS=\"Apple-converted-space\">\\xa0</SPAN><SPAN CLASS=\"inbox-inbox-Apple-converted-space\">\\xa0\\xa0</SPAN></P>\\n<P CLASS=\"inbox-inbox-p1\">A core set of packages and interfaces (Juptyer Notebooks, Pandas, Numpy, scikit-learn) presents analysts and data scientists with an interactive and powerful tool to perform data mining, statistical analysis and visualisation.\\xa0</P>\\n<P CLASS=\"inbox-inbox-p1\">Data-science teams usually use at least one of Python and R in their production environments or analysis pipelines. Python is also the tool of choice of elite data-mining competition winners and deep-learning innovations such as Tensorflow.<SPAN CLASS=\"inbox-inbox-Apple-converted-space\">\\xa0\\xa0</SPAN></P>\\n<P CLASS=\"inbox-inbox-p1\"><BR></P>\\n</DIV>\\n</DIV>\\n</DIV>\\n</DIV>\\n<P><A HREF=\"http://presciient.com/testimonials\" TARGET=\"_blank\" REL=\"nofollow noopener noreferrer\">See what former trainees are saying about this course.</A></P>\\n<P><BR></P>\\n<P><STRONG>Discounts</STRONG></P>\\n<P>Group discounts also apply during the earlybird period: 5% for 2–4 people, 10% for 5–6 people, 15% for 7–8 people, and 20% for 9 or more people. Select your desired quantity of tickets and click “Add to cart” to see the discount calculated before checkout.</P>\\n<P>Please contact us at enquiries@presciient.com to find out more about these special rates.</P>\\n<P><BR></P>\\n<P><STRONG>Course Outline</STRONG></P>\\n<DIV>\\n<P CLASS=\"inbox-inbox-p1\">This two-day course is an introduction to Python programming and Jupyter Notebooks, beginning with the most basic operations of downloading and installing the Python environment. The course will use Anaconda, a popular Python distribution for data science that includes many of the packages used in this course.<SPAN CLASS=\"inbox-inbox-Apple-converted-space\">\\xa0 \\xa0\\xa0</SPAN></P>\\n<P CLASS=\"inbox-inbox-p1\">The course will also introduce core Python objects and operations, Numpy for statistical and matrix operations, matplotlib and Plotly for visualisations, and Pandas, a comprehensive data manipulation and analysis package.<SPAN CLASS=\"Apple-converted-space\">\\xa0</SPAN><SPAN CLASS=\"inbox-inbox-Apple-converted-space\">\\xa0</SPAN></P>\\n<P CLASS=\"inbox-inbox-p1\">Participants will learn how to input, read, write, and manipulate data, primarily using Pandas, and be instructed in all the aspects of procedural programming in Python, allowing them to create their own Python modules.<SPAN CLASS=\"Apple-converted-space\">\\xa0</SPAN><SPAN CLASS=\"inbox-inbox-Apple-converted-space\">\\xa0\\xa0</SPAN></P>\\n<P CLASS=\"inbox-inbox-p1\">Jupyter Notebooks will be featured as the recommended interface to write code, explore and analyse data, and to document and communicate the results of the data analysis with interactive visualisations.<SPAN CLASS=\"inbox-inbox-Apple-converted-space\">\\xa0\\xa0</SPAN></P>\\n<P CLASS=\"inbox-inbox-p1\">The course is focused on providing a foundation for participants to use Python for exploratory data analysis and visualisation, which can be used as a stepping stone to machine learning using the popular scikit-learn package and deep-learning packages unique to Python. Familiarity with Python will allow users to use packages and access data and web services that have existing connections to Python, e.g. natural language processing, APIs, and web scraping.<SPAN CLASS=\"inbox-inbox-Apple-converted-space\"><BR></SPAN></P>\\n</DIV>\\n<P><BR></P>\\n<P><STRONG>Who should attend?</STRONG></P>\\n<P>This is a practical course, suitable for existing and prospective data-analysis practitioners in government and industry. Participants will be provided with a range of programmatic and user-interface options for working with data in Python. The course assumes no specialised statistical knowledge. Its focus is developing a practical understanding of Python as a tool for business users.</P>\\n<P><BR></P>\\n<P><STRONG>Course Outcomes</STRONG></P>\\n<P>Attendees will, by the end of the course, have the basic skills, resources, guidance and confidence to immediately and self-sufficiently begin to use Python in their work.</P>\\n<P><BR></P>\\n<P><STRONG>Course instructor</STRONG></P>\\n<P>Courses are taught by Dr Eugene Dubossarsky and his hand-picked team of highly skilled instructors.</P>\\n<P><BR></P>\\n<P><STRONG>About our training\\xa0</STRONG></P>\\n<P>Eugene Dubossarsky’s courses are unlike those offered in universities, online, or by private providers. His data-science classes, in particular, give clients not just knowledge of a process, but the real power of understanding the underlying concepts, allowing them to confidently practice, manage, promote and risk-assess data science.</P>\\n<P>Dr Dubossarsky says “the way many courses teach data science is like teaching people to memorise and recite poetry in a language they do not understand”. By contrast, he confers an understanding of that language, taught in an intuitive, accessible way that leaves trainees with an instinct for data science. Keeping formulae and mathematics to a bare minimum and taking an intuitive, visual approach, Eugene’s courses deliver a compressed mentoring experience as much as they do content. This is difficult for an average trainer to replicate. Trainees benefit from his extensive knowledge and over 20 years of commercial data-science experience, as well as his unique teaching style.</P>\\n<P>The resulting testimonials speak for themselves, and candidates come from all walks of life: CEOs, general managers, salespeople, IT professionals, marketing staff, public servants and of course people from many functions in the finance world. These testimonials are extensive, and many more are available on request. With specific regard to finance, Eugene has mentored and advised senior leaders and their teams in a number of major Australian banks.</P>\\n<P><BR></P>\\n<P><STRONG>Testimonials</STRONG></P>\\n<P><EM>Having studied stats at Uni I was surprised how far the field has progressed in the last few years, particularly in the area of big data. The great thing about Eugene’s course is I left with a sense that I was up to date with the latest big data modelling concepts but more importantly could also deploy them with some confidence. Eugene also made it clear he was available to answer questions after the course, so you are not left hanging.</EM></P>\\n<P>—Damon Rasheed, CEO, Rate Detective</P>\\n<P><BR></P>\\n<P><EM>Data science can be a challenging topic but Eugene’s “Introduction to Machine Learning” course turns complex statistical models into plain English. The course contents and presentation were accessible and I enjoyed the mixture of hands-on rattle() exercises, the challenge of building multiple models with real life data, and the salient theory whiteboard discussions created many “aha\" moments.</EM></P>\\n<P><EM>It was a great introductory course and it gave me with a better grasp of Machine Learning in general, a great framework for thinking about it and practical hands-on skills that I can put to immediate use. I wish I had done this course sooner.</EM></P>\\n<P><EM><SPAN>\\xa0</SPAN></EM>—Charl Swart,\\xa0<SPAN>Director of Business Operations, Unisys Credit Services</SPAN></P>\\n<P><BR></P>\\n<P><STRONG>Prerequisites</STRONG></P>\\n<P>The course assumes no tertiary level training in statistics. Attendees simply need to be familiar with working with structured, electronic data.</P>\\n<P><BR></P>\\n<P><STRONG>Platform</STRONG></P>\\n<P>The course will make use of the Anaconda Distribution of Python and some of the training may be demonstrated using Microsoft Azure Notebooks or on the Microsoft Data Science Virtual Machine.</P>\\n<P><STRONG><BR></STRONG></P>\\n<P><STRONG>Meals and refreshments</STRONG></P>\\n<P><SPAN>Catered morning tea and lunch are provided on both days of the course. Please notify us at least a week ahead if you have any special dietary requirements</SPAN>.</P>\\n<P><STRONG><BR></STRONG></P>\\n<P><STRONG>Feedback</STRONG></P>\\n<P>Use enquiries@presciient.com to email us any questions about the course, including requests for more detail, or for specific content you would like to see covered, or queries regarding prerequisites and suitability.</P>\\n<P>If you would like to attend but for any reason cannot, please also let us know.</P>\\n<P><STRONG><BR></STRONG></P>\\n<P><STRONG>Variation</STRONG></P>\\n<P>Course material may vary from advertised due to demands and learning pace of attendees. Additional material may be presented, along with or in place of advertised.</P>\\n<P><BR></P>\\n<P><STRONG>Cancellation and refunds</STRONG></P>\\n<P>You can get a full refund if you cancel 2 weeks or more before the course starts. No refunds will be issued for cancellations made less than 2 weeks before the course starts.</P>\\n<P><BR></P>\\n<P><STRONG>Frequently asked questions (FAQ)</STRONG></P>\\n<P><I>Do I need to bring my own computer?</I></P>\\n<P>There’s no need to bring your own laptop or PC.\\xa0Our courses take place in modern, professional training facilities that have all the computing equipment you’ll need.</P>\\n<P><I>I\\'m lost! How do I find the venue?</I></P>\\n<P>Please call 04 1457 3322 or email <A HREF=\"mailto:training@presciient.com\" TARGET=\"_blank\" REL=\"nofollow noopener noreferrer\">training@presciient.com</A>\\xa0if you can’t find the venue.</P>\\n<P><BR></P>\\n<P><STRONG>Presciient Training Coaching, Mentoring and Capability Development for Analytics</STRONG></P>\\n<P>Please ask about tailored, in-house training courses, coaching analytics teams, executive mentoring and strategic advice and other services to build your organisation\\'s strategic and operational analytics capability. <BR></P>\\n<P>Our courses include:<BR></P>\\n<UL>\\n<LI>Predictive Analytics, Machine Learning, Data Science and AI</LI>\\n<LI>Data Literacy for Everyone</LI>\\n<LI>Introduction to R and Data Visualisation</LI>\\n<LI>Introduction to Python for Data Analysis</LI>\\n<LI>Forecasting and Trend Analytics</LI>\\n<LI>Advanced Machine Learning Masterclass</LI>\\n<LI>Advanced Masterclass 2: Random Forests</LI>\\n<LI>Advanced R</LI>\\n<LI>Quantum Computing</LI>\\n<LI>Text and Language Analytics</LI>\\n<LI>Fraud and Anomaly Detection</LI>\\n<LI>Introduction to Machine Learning</LI>\\n<LI>Introduction to Data Science</LI>\\n<LI>Kaggle Boot Camp</LI>\\n</UL>',\n",
       "    'text': 'By booking this course, you agree to our terms and conditions.\\nFor any enquiries, please call\\xa00414\\xa057 33 22.\\nIf you prefer, you can pay by invoice rather than credit card. For instructions,\\xa0click here.\\n\\n\\n\\nIntroduction to Python for Data Analysis\\n\\n\\n\\n\\n\\nPython is a high level and general purpose programming language. Millions of Python users contribute to a thriving open-source community that also enjoys immense commercial use and support.\\xa0\\xa0\\xa0\\nA core set of packages and interfaces (Juptyer Notebooks, Pandas, Numpy, scikit-learn) presents analysts and data scientists with an interactive and powerful tool to perform data mining, statistical analysis and visualisation.\\xa0\\nData-science teams usually use at least one of Python and R in their production environments or analysis pipelines. Python is also the tool of choice of elite data-mining competition winners and deep-learning innovations such as Tensorflow.\\xa0\\xa0\\n\\n\\n\\n\\n\\nSee what former trainees are saying about this course.\\n\\nDiscounts\\nGroup discounts also apply during the earlybird period: 5% for 2–4 people, 10% for 5–6 people, 15% for 7–8 people, and 20% for 9 or more people. Select your desired quantity of tickets and click “Add to cart” to see the discount calculated before checkout.\\nPlease contact us at enquiries@presciient.com to find out more about these special rates.\\n\\nCourse Outline\\n\\nThis two-day course is an introduction to Python programming and Jupyter Notebooks, beginning with the most basic operations of downloading and installing the Python environment. The course will use Anaconda, a popular Python distribution for data science that includes many of the packages used in this course.\\xa0 \\xa0\\xa0\\nThe course will also introduce core Python objects and operations, Numpy for statistical and matrix operations, matplotlib and Plotly for visualisations, and Pandas, a comprehensive data manipulation and analysis package.\\xa0\\xa0\\nParticipants will learn how to input, read, write, and manipulate data, primarily using Pandas, and be instructed in all the aspects of procedural programming in Python, allowing them to create their own Python modules.\\xa0\\xa0\\xa0\\nJupyter Notebooks will be featured as the recommended interface to write code, explore and analyse data, and to document and communicate the results of the data analysis with interactive visualisations.\\xa0\\xa0\\nThe course is focused on providing a foundation for participants to use Python for exploratory data analysis and visualisation, which can be used as a stepping stone to machine learning using the popular scikit-learn package and deep-learning packages unique to Python. Familiarity with Python will allow users to use packages and access data and web services that have existing connections to Python, e.g. natural language processing, APIs, and web scraping.\\n\\n\\nWho should attend?\\nThis is a practical course, suitable for existing and prospective data-analysis practitioners in government and industry. Participants will be provided with a range of programmatic and user-interface options for working with data in Python. The course assumes no specialised statistical knowledge. Its focus is developing a practical understanding of Python as a tool for business users.\\n\\nCourse Outcomes\\nAttendees will, by the end of the course, have the basic skills, resources, guidance and confidence to immediately and self-sufficiently begin to use Python in their work.\\n\\nCourse instructor\\nCourses are taught by Dr Eugene Dubossarsky and his hand-picked team of highly skilled instructors.\\n\\nAbout our training\\xa0\\nEugene Dubossarsky’s courses are unlike those offered in universities, online, or by private providers. His data-science classes, in particular, give clients not just knowledge of a process, but the real power of understanding the underlying concepts, allowing them to confidently practice, manage, promote and risk-assess data science.\\nDr Dubossarsky says “the way many courses teach data science is like teaching people to memorise and recite poetry in a language they do not understand”. By contrast, he confers an understanding of that language, taught in an intuitive, accessible way that leaves trainees with an instinct for data science. Keeping formulae and mathematics to a bare minimum and taking an intuitive, visual approach, Eugene’s courses deliver a compressed mentoring experience as much as they do content. This is difficult for an average trainer to replicate. Trainees benefit from his extensive knowledge and over 20 years of commercial data-science experience, as well as his unique teaching style.\\nThe resulting testimonials speak for themselves, and candidates come from all walks of life: CEOs, general managers, salespeople, IT professionals, marketing staff, public servants and of course people from many functions in the finance world. These testimonials are extensive, and many more are available on request. With specific regard to finance, Eugene has mentored and advised senior leaders and their teams in a number of major Australian banks.\\n\\nTestimonials\\nHaving studied stats at Uni I was surprised how far the field has progressed in the last few years, particularly in the area of big data. The great thing about Eugene’s course is I left with a sense that I was up to date with the latest big data modelling concepts but more importantly could also deploy them with some confidence. Eugene also made it clear he was available to answer questions after the course, so you are not left hanging.\\n—Damon Rasheed, CEO, Rate Detective\\n\\nData science can be a challenging topic but Eugene’s “Introduction to Machine Learning” course turns complex statistical models into plain English. The course contents and presentation were accessible and I enjoyed the mixture of hands-on rattle() exercises, the challenge of building multiple models with real life data, and the salient theory whiteboard discussions created many “aha\" moments.\\nIt was a great introductory course and it gave me with a better grasp of Machine Learning in general, a great framework for thinking about it and practical hands-on skills that I can put to immediate use. I wish I had done this course sooner.\\n\\xa0—Charl Swart,\\xa0Director of Business Operations, Unisys Credit Services\\n\\nPrerequisites\\nThe course assumes no tertiary level training in statistics. Attendees simply need to be familiar with working with structured, electronic data.\\n\\nPlatform\\nThe course will make use of the Anaconda Distribution of Python and some of the training may be demonstrated using Microsoft Azure Notebooks or on the Microsoft Data Science Virtual Machine.\\n\\nMeals and refreshments\\nCatered morning tea and lunch are provided on both days of the course. Please notify us at least a week ahead if you have any special dietary requirements.\\n\\nFeedback\\nUse enquiries@presciient.com to email us any questions about the course, including requests for more detail, or for specific content you would like to see covered, or queries regarding prerequisites and suitability.\\nIf you would like to attend but for any reason cannot, please also let us know.\\n\\nVariation\\nCourse material may vary from advertised due to demands and learning pace of attendees. Additional material may be presented, along with or in place of advertised.\\n\\nCancellation and refunds\\nYou can get a full refund if you cancel 2 weeks or more before the course starts. No refunds will be issued for cancellations made less than 2 weeks before the course starts.\\n\\nFrequently asked questions (FAQ)\\nDo I need to bring my own computer?\\nThere’s no need to bring your own laptop or PC.\\xa0Our courses take place in modern, professional training facilities that have all the computing equipment you’ll need.\\nI\\'m lost! How do I find the venue?\\nPlease call 04 1457 3322 or email training@presciient.com\\xa0if you can’t find the venue.\\n\\nPresciient Training Coaching, Mentoring and Capability Development for Analytics\\nPlease ask about tailored, in-house training courses, coaching analytics teams, executive mentoring and strategic advice and other services to build your organisation\\'s strategic and operational analytics capability. \\nOur courses include:\\n\\nPredictive Analytics, Machine Learning, Data Science and AI\\nData Literacy for Everyone\\nIntroduction to R and Data Visualisation\\nIntroduction to Python for Data Analysis\\nForecasting and Trend Analytics\\nAdvanced Machine Learning Masterclass\\nAdvanced Masterclass 2: Random Forests\\nAdvanced R\\nQuantum Computing\\nText and Language Analytics\\nFraud and Anomaly Detection\\nIntroduction to Machine Learning\\nIntroduction to Data Science\\nKaggle Boot Camp\\n'},\n",
       "   'end': {'local': '2019-03-06T17:00:00',\n",
       "    'timezone': 'Australia/Melbourne',\n",
       "    'utc': '2019-03-06T06:00:00Z'},\n",
       "   'format_id': '9',\n",
       "   'hide_end_date': False,\n",
       "   'hide_start_date': False,\n",
       "   'id': '53809160648',\n",
       "   'inventory_type': 'limited',\n",
       "   'is_externally_ticketed': False,\n",
       "   'is_free': False,\n",
       "   'is_locked': False,\n",
       "   'is_reserved_seating': False,\n",
       "   'is_series': False,\n",
       "   'is_series_parent': False,\n",
       "   'listed': True,\n",
       "   'locale': 'en_AU',\n",
       "   'logo': {'aspect_ratio': '2',\n",
       "    'crop_mask': {'height': 432, 'top_left': {'x': 0, 'y': 0}, 'width': 864},\n",
       "    'edge_color': None,\n",
       "    'edge_color_set': True,\n",
       "    'id': '54036689',\n",
       "    'original': {'height': None,\n",
       "     'url': 'https://img.evbuc.com/https%3A%2F%2Fcdn.evbuc.com%2Fimages%2F54036689%2F9224233791%2F1%2Foriginal.jpg?auto=compress&s=483e8098ef3e9b5cb512d52ba0f413b7',\n",
       "     'width': None},\n",
       "    'url': 'https://img.evbuc.com/https%3A%2F%2Fcdn.evbuc.com%2Fimages%2F54036689%2F9224233791%2F1%2Foriginal.jpg?h=200&w=450&auto=compress&rect=0%2C0%2C864%2C432&s=fd50086453ceef0a28609115f8ec1f06'},\n",
       "   'logo_id': '54036689',\n",
       "   'name': {'html': 'Introduction to Python for Data Analysis: Melbourne, 5–6 March 2019',\n",
       "    'text': 'Introduction to Python for Data Analysis: Melbourne, 5–6 March 2019'},\n",
       "   'online_event': False,\n",
       "   'organization_id': '28139399551',\n",
       "   'organizer_id': '1988012351',\n",
       "   'privacy_setting': 'unlocked',\n",
       "   'resource_uri': 'https://www.eventbriteapi.com/v3/events/53809160648/',\n",
       "   'shareable': True,\n",
       "   'show_colors_in_seatmap_thumbnail': False,\n",
       "   'show_pick_a_seat': False,\n",
       "   'show_seatmap_thumbnail': False,\n",
       "   'source': 'create_2.0',\n",
       "   'start': {'local': '2019-03-05T09:30:00',\n",
       "    'timezone': 'Australia/Melbourne',\n",
       "    'utc': '2019-03-04T22:30:00Z'},\n",
       "   'status': 'live',\n",
       "   'subcategory_id': None,\n",
       "   'tx_time_limit': 480,\n",
       "   'url': 'https://www.eventbrite.com.au/e/introduction-to-python-for-data-analysis-melbourne-56-march-2019-tickets-53809160648?aff=ebapi',\n",
       "   'venue_id': '19999859',\n",
       "   'version': '3.0.0'},\n",
       "  {'capacity': None,\n",
       "   'capacity_is_custom': None,\n",
       "   'category_id': '102',\n",
       "   'changed': '2018-04-23T05:35:35Z',\n",
       "   'created': '2018-04-23T05:33:07Z',\n",
       "   'currency': 'AUD',\n",
       "   'description': {'html': '<P><STRONG>Important - Please note that this eventbrite ticket does not entitle you to a seat at our weekly making and coding sessions at CoderDojo Altona North. We use Eventbrite for tracking purposes only.</STRONG> <STRONG>So please DO NOT PICK UP A TICKET unless your enrollment has been approved. Only pick up a ticket if your kid(s) enrollment for this term has been approved. See below for details on requesting a seat at CoderDojo Altona North.</STRONG></P>\\n<P>If you have not lodged your enrollment yet please head over to <A HREF=\"http://altonanorthdojo.com/\" TARGET=\"_blank\" TITLE=\"http://altonanorthdojo.com/\" REL=\"nofollow noopener noreferrer\">http://altonanorthdojo.com/</A> and use the \"Register Interest\" form in the \"How To Book A Seat\" section of the page. Only once your enrollment has been approved should you pick up a ticket. If you have lodged your enrollment but are on the waiting list please drop us an email at dojo@hack2.live.\\xa0</P>\\n<P><STRONG>About Coder Dojo Altona North</STRONG> - At CoderDojo Altona North [<A HREF=\"http://altonanorthdojo.com/\" TARGET=\"_blank\" TITLE=\"http://altonanorthdojo.com/\" REL=\"nofollow noopener noreferrer\">http://altonanorthdojo.com/</A>], young people aged between 7 and 17, learn how to code (Scratch, Python, etc.), interact with the real world using sensors and the Arduino, develop programs on the Raspberry Pi, develop websites, develop mobile apps, develop simple programs, develop games, build robots and explore various aspects of technology in an informal, safe, and creative environment.<BR><BR>In addition to learning to code, exploring the basics of electronics and robotics, attendees meet like minded people and are exposed to a world of possibilities of technology. An individuals creativity is the only limit.\\xa0<SPAN>We invite kids of all ages starting 7-17 and their parents to come along.</SPAN></P>\\n<P>Please visit <A HREF=\"http://altonanorthdojo.com\" TARGET=\"_blank\" REL=\"nofollow noopener noreferrer\">http://altonanorthdojo.com</A> and\\xa0<A HREF=\"https://zen.coderdojo.com/dojos/au/altona-north-victoria/coderdojo-altona-north\" TARGET=\"_blank\" REL=\"nofollow noopener noreferrer\">https://zen.coderdojo.com/dojos/au/altona-north-victoria/coderdojo-altona-north</A> to read up more on the Dojo and the work we do.\\xa0</P>\\n<P>At CoderDojo Altona North we might consider following coding/making tracks where it makes sense, especially with our young makers who are getting started. With the more experienced makers we will let the kids choose what they want to work on, and the mentors guide and help them along their journey of discovery into the world of technology. Some of the things we do at CoderDojo Altona North include:</P>\\n<UL>\\n<LI>Introduction to Computer Science through -\\n<UL>\\n<LI>Coding in Scratch</LI>\\n<LI>Google CS (Computer Science) First curriculum</LI>\\n<LI>Microsoft Computer Science curriculum using Minecraft</LI>\\n</UL>\\n</LI>\\n<LI>Python developing on the Raspberry Pi</LI>\\n<LI>Minecraft gaming &amp; development</LI>\\n<LI>Electronics fundamentals using -\\n<UL>\\n<LI>Arduino</LI>\\n<LI>ESP8266, EP32</LI>\\n<LI>BBC micro:Bit</LI>\\n<LI>RaspberryPi</LI>\\n</UL>\\n</LI>\\n<LI>Coding in HTML &amp; CSS (websites)</LI>\\n<LI>Development of simple mobile apps</LI>\\n</UL>\\n<P>You can read more about the CoderDojo movement at\\xa0<A HREF=\"https://coderdojo.com/about/\" TARGET=\"_blank\" REL=\"nofollow noopener noreferrer\">CoderDojo.com</A>.</P>\\n<P>Access to all the course content at CoderDojo Altona North is offered through our Learning Management System. We use the Learning Management system to give you access to the tutorials and also track your childs progress through the term.</P>\\n<P><STRONG>What to Bring Along</STRONG> - Please bring along the following:<BR></P>\\n<OL>\\n<LI>\\xa0\\xa0\\xa0 A laptop. Borrow one from somebody if needs be.</LI>\\n<LI>\\xa0\\xa0\\xa0 All hardware you will hack with will need to be purchased for use during the tutorials i.e. Arduino, Raspberry Pi.</LI>\\n<LI>\\xa0\\xa0\\xa0 We\\'ll let you when you are at a point where you need to invest in the hardware i.e. Arduino, Raspberry Pi, etc. Initially only a laptop is required.</LI>\\n<LI>\\xa0\\xa0\\xa0 A parent! (Very important). If you are 15 or under, your parent must stay with you during the session.</LI>\\n<LI>\\xa0\\xa0\\xa0 Intent to learn, make and create...:)</LI>\\n</OL>\\n<P>So come join us, have fun and share in the learning.<BR><BR>Please see <A HREF=\"http://altonanorthdojo.com/\" TARGET=\"_blank\" REL=\"nofollow noopener noreferrer\">http://altonanorthdojo.com/</A> for details on the session and instructions you would need to follow.<BR><BR><STRONG>Signing up to the LMS</STRONG> - At Coder Dojo Altona North we use a Learning Management System (LMS) called Schoology. You will need to sign up to the Coder Dojo Learning Management System at http://www.schoology.com/ through which your child will be given access to the syllabus for the semester. Each of the weekly tutorials, progress notes, attendance, etc. will be tracked using the Learning Management system. See\\xa0 <A HREF=\"http://altonanorthdojo.com/\" TARGET=\"_blank\" TITLE=\"http://altonanorthdojo.com/\" REL=\"nofollow noopener noreferrer\">http://altonanorthdojo.com/</A> for details on how to sign up. as a \"student\" and get access to the relevant Coder Dojo courses.<BR><BR>Let\\'s Ignite the flame of learning, let\\'s inspire the maker in you and let\\'s get creating!!!!<BR><BR><STRONG>When and Where</STRONG> - The event will be held weekly on Sat from 1000 - 1200 Hrs AEST at the\\xa0 \"Altona North Community Library\". Address for the Altona North Community Library is - Corner of Millers Rd &amp; McArthurs Rd, Altona North VIC 3025.\\xa0</P>\\n<P>If you have any questions, comments or concerns please do drop us a note at dojo@hack2.live.</P>\\n<P>For additional details on the library please visit - http://libraries.hobsonsbay.vic.gov.au/visit-us/williamstown-library<BR></P>',\n",
       "    'text': 'Important - Please note that this eventbrite ticket does not entitle you to a seat at our weekly making and coding sessions at CoderDojo Altona North. We use Eventbrite for tracking purposes only. So please DO NOT PICK UP A TICKET unless your enrollment has been approved. Only pick up a ticket if your kid(s) enrollment for this term has been approved. See below for details on requesting a seat at CoderDojo Altona North.\\nIf you have not lodged your enrollment yet please head over to http://altonanorthdojo.com/ and use the \"Register Interest\" form in the \"How To Book A Seat\" section of the page. Only once your enrollment has been approved should you pick up a ticket. If you have lodged your enrollment but are on the waiting list please drop us an email at dojo@hack2.live.\\xa0\\nAbout Coder Dojo Altona North - At CoderDojo Altona North [http://altonanorthdojo.com/], young people aged between 7 and 17, learn how to code (Scratch, Python, etc.), interact with the real world using sensors and the Arduino, develop programs on the Raspberry Pi, develop websites, develop mobile apps, develop simple programs, develop games, build robots and explore various aspects of technology in an informal, safe, and creative environment.In addition to learning to code, exploring the basics of electronics and robotics, attendees meet like minded people and are exposed to a world of possibilities of technology. An individuals creativity is the only limit.\\xa0We invite kids of all ages starting 7-17 and their parents to come along.\\nPlease visit http://altonanorthdojo.com and\\xa0https://zen.coderdojo.com/dojos/au/altona-north-victoria/coderdojo-altona-north to read up more on the Dojo and the work we do.\\xa0\\nAt CoderDojo Altona North we might consider following coding/making tracks where it makes sense, especially with our young makers who are getting started. With the more experienced makers we will let the kids choose what they want to work on, and the mentors guide and help them along their journey of discovery into the world of technology. Some of the things we do at CoderDojo Altona North include:\\n\\nIntroduction to Computer Science through -\\n\\nCoding in Scratch\\nGoogle CS (Computer Science) First curriculum\\nMicrosoft Computer Science curriculum using Minecraft\\n\\n\\nPython developing on the Raspberry Pi\\nMinecraft gaming & development\\nElectronics fundamentals using -\\n\\nArduino\\nESP8266, EP32\\nBBC micro:Bit\\nRaspberryPi\\n\\n\\nCoding in HTML & CSS (websites)\\nDevelopment of simple mobile apps\\n\\nYou can read more about the CoderDojo movement at\\xa0CoderDojo.com.\\nAccess to all the course content at CoderDojo Altona North is offered through our Learning Management System. We use the Learning Management system to give you access to the tutorials and also track your childs progress through the term.\\nWhat to Bring Along - Please bring along the following:\\n\\n\\xa0\\xa0\\xa0 A laptop. Borrow one from somebody if needs be.\\n\\xa0\\xa0\\xa0 All hardware you will hack with will need to be purchased for use during the tutorials i.e. Arduino, Raspberry Pi.\\n\\xa0\\xa0\\xa0 We\\'ll let you when you are at a point where you need to invest in the hardware i.e. Arduino, Raspberry Pi, etc. Initially only a laptop is required.\\n\\xa0\\xa0\\xa0 A parent! (Very important). If you are 15 or under, your parent must stay with you during the session.\\n\\xa0\\xa0\\xa0 Intent to learn, make and create...:)\\n\\nSo come join us, have fun and share in the learning.Please see http://altonanorthdojo.com/ for details on the session and instructions you would need to follow.Signing up to the LMS - At Coder Dojo Altona North we use a Learning Management System (LMS) called Schoology. You will need to sign up to the Coder Dojo Learning Management System at http://www.schoology.com/ through which your child will be given access to the syllabus for the semester. Each of the weekly tutorials, progress notes, attendance, etc. will be tracked using the Learning Management system. See\\xa0 http://altonanorthdojo.com/ for details on how to sign up. as a \"student\" and get access to the relevant Coder Dojo courses.Let\\'s Ignite the flame of learning, let\\'s inspire the maker in you and let\\'s get creating!!!!When and Where - The event will be held weekly on Sat from 1000 - 1200 Hrs AEST at the\\xa0 \"Altona North Community Library\". Address for the Altona North Community Library is - Corner of Millers Rd & McArthurs Rd, Altona North VIC 3025.\\xa0\\nIf you have any questions, comments or concerns please do drop us a note at dojo@hack2.live.\\nFor additional details on the library please visit - http://libraries.hobsonsbay.vic.gov.au/visit-us/williamstown-library'},\n",
       "   'end': {'local': '2019-02-23T12:00:00',\n",
       "    'timezone': 'Australia/Melbourne',\n",
       "    'utc': '2019-02-23T01:00:00Z'},\n",
       "   'format_id': '9',\n",
       "   'hide_end_date': False,\n",
       "   'hide_start_date': False,\n",
       "   'id': '45424610232',\n",
       "   'inventory_type': 'limited',\n",
       "   'is_externally_ticketed': False,\n",
       "   'is_free': True,\n",
       "   'is_locked': False,\n",
       "   'is_reserved_seating': False,\n",
       "   'is_series': True,\n",
       "   'is_series_parent': False,\n",
       "   'listed': True,\n",
       "   'locale': 'en_AU',\n",
       "   'logo': {'aspect_ratio': '2',\n",
       "    'crop_mask': {'height': 1500, 'top_left': {'x': 0, 'y': 0}, 'width': 3000},\n",
       "    'edge_color': '#b6aba6',\n",
       "    'edge_color_set': True,\n",
       "    'id': '43893037',\n",
       "    'original': {'height': 2000,\n",
       "     'url': 'https://img.evbuc.com/https%3A%2F%2Fcdn.evbuc.com%2Fimages%2F43893037%2F62385207829%2F1%2Foriginal.jpg?auto=compress&s=b4db9818f0a78f1af87dfa83c4885d2d',\n",
       "     'width': 3000},\n",
       "    'url': 'https://img.evbuc.com/https%3A%2F%2Fcdn.evbuc.com%2Fimages%2F43893037%2F62385207829%2F1%2Foriginal.jpg?h=200&w=450&auto=compress&rect=0%2C0%2C3000%2C1500&s=ca5c9ed18d2c9a8eca9a11cc7aa1c305'},\n",
       "   'logo_id': '43893037',\n",
       "   'name': {'html': 'Makers, Coders, Creators Unite - CoderDojo Altona North',\n",
       "    'text': 'Makers, Coders, Creators Unite - CoderDojo Altona North'},\n",
       "   'online_event': False,\n",
       "   'organization_id': '62385207829',\n",
       "   'organizer_id': '15019697030',\n",
       "   'privacy_setting': 'unlocked',\n",
       "   'resource_uri': 'https://www.eventbriteapi.com/v3/events/45424610232/',\n",
       "   'series_id': '45424448749',\n",
       "   'shareable': True,\n",
       "   'show_colors_in_seatmap_thumbnail': False,\n",
       "   'show_pick_a_seat': False,\n",
       "   'show_seatmap_thumbnail': False,\n",
       "   'source': 'create_2.0',\n",
       "   'start': {'local': '2019-02-23T10:00:00',\n",
       "    'timezone': 'Australia/Melbourne',\n",
       "    'utc': '2019-02-22T23:00:00Z'},\n",
       "   'status': 'live',\n",
       "   'subcategory_id': None,\n",
       "   'tx_time_limit': 480,\n",
       "   'url': 'https://www.eventbrite.com.au/e/makers-coders-creators-unite-coderdojo-altona-north-tickets-45424610232?aff=ebapi',\n",
       "   'venue_id': '22853935',\n",
       "   'version': '3.0.0'},\n",
       "  {'capacity': None,\n",
       "   'capacity_is_custom': None,\n",
       "   'category_id': '102',\n",
       "   'changed': '2019-02-12T22:03:47Z',\n",
       "   'created': '2018-10-26T07:21:18Z',\n",
       "   'currency': 'AUD',\n",
       "   'description': {'html': \"<P><STRONG>Day 1: Machine Learning &amp; Deep Learning Day (13th December, 2018)</STRONG></P>\\n<P>09:00AM - 09:15AM</P>\\n<P>Registration / Conference Overview<BR>Nitesh Naveen, Partner &amp; Managing Consultants - Digital Transformation, 1.21GWS<BR></P>\\n<P>09:15AM - 10:00AM</P>\\n<P>AI Driven Innovation and Innovation-Driven AI <BR>Alexe Bojovschi, Innovation Mentor, University of Melbourne<BR></P>\\n<P>10:00AM - 10:45AM</P>\\n<P>May the Fuzz be With You <BR>Heidi Thorpe, CEO &amp; Founder, Cat with a Monocle<BR></P>\\n<P>10:45AM - 11:15AM</P>\\n<P>Tea Break<BR></P>\\n<P>11:15AM - 12:00PM</P>\\n<P>Optimization for Deep Learning <BR>Louis Liu, Data Scientist, ANZ<BR></P>\\n<P>12:00PM - 12:45PM</P>\\n<P>Computer Vision in Real Estate Industry <BR>YiFei Wang, Director, Happy Hackers Pty Ltd<BR></P>\\n<P>12:45PM - 01:45PM</P>\\n<P>Lunch Break<BR></P>\\n<P>01:45PM - 02:30PM</P>\\n<P>Predictive Analytics Using Data and Insights to Transform Marketing and Personalization <BR>Dr. William Yeoh, Director, IBM Centre of Excellence in Business Analytics, Deakin University<BR></P>\\n<P>02:30PM - 03:15PM</P>\\n<P>Disruptive Technologies: AI Advances That Will Transform Marketing <BR>Neel Bhattacharya, Sr. Management Consultant, Infosys<BR></P>\\n<P>03:15PM - 03:45PM</P>\\n<P>Tea Break<BR></P>\\n<P>03:45PM - 04:30PM Let's Talk About the Web Spiders/Web Crawling With Python <BR>Neelakanteswar Patnaik, Freelance Web Designer</P>\\n<P><BR>04:30PM - 05:15PM Ideas for Creating Value with Machine Learning <BR>Mark Sango, Director Digital Services, Softvision Australia</P>\\n<P><STRONG>===========================================================================<BR>Day 2: Data Visualisation Summit ( 14th December, 2018)</STRONG></P>\\n<P>09:00AM – 09:15AM <BR>Registration / Conference Overview<BR>Nitesh Naveen, Partner &amp; Managing Consultants - Digital Transformation, 1.21GWS</P>\\n<P>09:15AM - 10:00AM <BR>Balancing Innovation With Business Value in Data Science Projects <BR>Jeremiah Mannings, Managing data Scientist| Australia | Co-founder &amp; Head of Tech, Evolved Projects, Capgemini</P>\\n<P>10:00AM – 10:45AM <BR>Identify Different Types of Data Visualisations and How to Use Them Efficiently <BR>Louis Liu, Data Scientist, ANZ</P>\\n<P>10:45AM - 11:15AM <BR>Tea Break</P>\\n<P>11:15AM – 12:00PM <BR>Identify different types of data visualizations and how to use them effectively</P>\\n<P>12:00PM - 12:30PM <BR>How Data Science Brings Value to Retails <BR>Amin Sadri, Data Scientist, Urbis</P>\\n<P>12:30PM - 01:00PM <BR>Data Science: Theory to Practice <BR>Champ Mendis, Chief Data Scientist, Triple A Super</P>\\n<P>01:00PM – 01:45PM Lunch Break</P>\\n<P>01:45PM – 02:30PM Data Visualization Tools &amp; Techniques</P>\\n<P>02:30PM – 03:15PM How Visualization helps my e-commerce start-up to grow</P>\\n<P>03:15PM - 03:45PM Tea Break</P>\\n<P>03:45PM – 04:30PM Look before you leap: Utilizing Visualizations in Machine Learning</P>\\n<P>04:30PM – 05:15PM Visualization and Vocalization for the Industrial IoT</P>\\n<P><BR></P>\\n<P><BR></P>\",\n",
       "    'text': \"Day 1: Machine Learning & Deep Learning Day (13th December, 2018)\\n09:00AM - 09:15AM\\nRegistration / Conference OverviewNitesh Naveen, Partner & Managing Consultants - Digital Transformation, 1.21GWS\\n09:15AM - 10:00AM\\nAI Driven Innovation and Innovation-Driven AI Alexe Bojovschi, Innovation Mentor, University of Melbourne\\n10:00AM - 10:45AM\\nMay the Fuzz be With You Heidi Thorpe, CEO & Founder, Cat with a Monocle\\n10:45AM - 11:15AM\\nTea Break\\n11:15AM - 12:00PM\\nOptimization for Deep Learning Louis Liu, Data Scientist, ANZ\\n12:00PM - 12:45PM\\nComputer Vision in Real Estate Industry YiFei Wang, Director, Happy Hackers Pty Ltd\\n12:45PM - 01:45PM\\nLunch Break\\n01:45PM - 02:30PM\\nPredictive Analytics Using Data and Insights to Transform Marketing and Personalization Dr. William Yeoh, Director, IBM Centre of Excellence in Business Analytics, Deakin University\\n02:30PM - 03:15PM\\nDisruptive Technologies: AI Advances That Will Transform Marketing Neel Bhattacharya, Sr. Management Consultant, Infosys\\n03:15PM - 03:45PM\\nTea Break\\n03:45PM - 04:30PM Let's Talk About the Web Spiders/Web Crawling With Python Neelakanteswar Patnaik, Freelance Web Designer\\n04:30PM - 05:15PM Ideas for Creating Value with Machine Learning Mark Sango, Director Digital Services, Softvision Australia\\n===========================================================================Day 2: Data Visualisation Summit ( 14th December, 2018)\\n09:00AM – 09:15AM Registration / Conference OverviewNitesh Naveen, Partner & Managing Consultants - Digital Transformation, 1.21GWS\\n09:15AM - 10:00AM Balancing Innovation With Business Value in Data Science Projects Jeremiah Mannings, Managing data Scientist| Australia | Co-founder & Head of Tech, Evolved Projects, Capgemini\\n10:00AM – 10:45AM Identify Different Types of Data Visualisations and How to Use Them Efficiently Louis Liu, Data Scientist, ANZ\\n10:45AM - 11:15AM Tea Break\\n11:15AM – 12:00PM Identify different types of data visualizations and how to use them effectively\\n12:00PM - 12:30PM How Data Science Brings Value to Retails Amin Sadri, Data Scientist, Urbis\\n12:30PM - 01:00PM Data Science: Theory to Practice Champ Mendis, Chief Data Scientist, Triple A Super\\n01:00PM – 01:45PM Lunch Break\\n01:45PM – 02:30PM Data Visualization Tools & Techniques\\n02:30PM – 03:15PM How Visualization helps my e-commerce start-up to grow\\n03:15PM - 03:45PM Tea Break\\n03:45PM – 04:30PM Look before you leap: Utilizing Visualizations in Machine Learning\\n04:30PM – 05:15PM Visualization and Vocalization for the Industrial IoT\\n\\n\"},\n",
       "   'end': {'local': '2019-03-07T17:30:00',\n",
       "    'timezone': 'Australia/Melbourne',\n",
       "    'utc': '2019-03-07T06:30:00Z'},\n",
       "   'format_id': '1',\n",
       "   'hide_end_date': False,\n",
       "   'hide_start_date': False,\n",
       "   'id': '51865631500',\n",
       "   'inventory_type': 'limited',\n",
       "   'is_externally_ticketed': False,\n",
       "   'is_free': False,\n",
       "   'is_locked': False,\n",
       "   'is_reserved_seating': False,\n",
       "   'is_series': False,\n",
       "   'is_series_parent': False,\n",
       "   'listed': True,\n",
       "   'locale': 'en_US',\n",
       "   'logo': None,\n",
       "   'logo_id': None,\n",
       "   'name': {'html': 'Machine Learning, Deep Learning and Data visualization Summit in Melbourne ',\n",
       "    'text': 'Machine Learning, Deep Learning and Data visualization Summit in Melbourne '},\n",
       "   'online_event': False,\n",
       "   'organization_id': '223751430406',\n",
       "   'organizer_id': '14915473537',\n",
       "   'privacy_setting': 'unlocked',\n",
       "   'resource_uri': 'https://www.eventbriteapi.com/v3/events/51865631500/',\n",
       "   'shareable': True,\n",
       "   'show_colors_in_seatmap_thumbnail': False,\n",
       "   'show_pick_a_seat': False,\n",
       "   'show_seatmap_thumbnail': False,\n",
       "   'source': 'create_2.0',\n",
       "   'start': {'local': '2019-03-06T08:30:00',\n",
       "    'timezone': 'Australia/Melbourne',\n",
       "    'utc': '2019-03-05T21:30:00Z'},\n",
       "   'status': 'live',\n",
       "   'subcategory_id': '2007',\n",
       "   'tx_time_limit': 6000,\n",
       "   'url': 'https://www.eventbrite.com/e/machine-learning-deep-learning-and-data-visualization-summit-in-melbourne-tickets-51865631500?aff=ebapi',\n",
       "   'venue_id': '27592842',\n",
       "   'version': '3.0.0'},\n",
       "  {'capacity': None,\n",
       "   'capacity_is_custom': None,\n",
       "   'category_id': '101',\n",
       "   'changed': '2018-12-15T21:49:43Z',\n",
       "   'created': '2018-12-15T21:42:53Z',\n",
       "   'currency': 'AUD',\n",
       "   'description': {'html': '<P>By booking this course, you agree to our <A HREF=\"http://presciient.com/terms-and-conditions\" TARGET=\"_blank\" REL=\"nofollow noopener noreferrer\"><STRONG>terms and conditions</STRONG></A>.</P>\\n<P><SPAN>For any enquiries, please call\\xa0</SPAN><STRONG>0414</STRONG><SPAN><STRONG>\\xa057 33 22</STRONG>.</SPAN></P>\\n<P><SPAN><SPAN>If you prefer, you can pay by invoice rather than credit card. For instructions,\\xa0</SPAN><A HREF=\"http://presciient.com/resources/pay-invoice-eventbrite/\" TARGET=\"_blank\" REL=\"nofollow noopener noreferrer\">click here</A><SPAN>.</SPAN></SPAN></P>\\n<P><BR></P>\\n<HR>\\n<P><BR></P>\\n<P><STRONG>Introduction to R and Data Visualisation</STRONG></P>\\n<P><IMG ALT=\"\" SRC=\"https://www.facebook.com/tr?id=1108503702495972&ev=PageView&noscript=1\"></P>\\n<P>R is the most popular data mining and statistics package in the world, and it is free to use. It is also easy to use thanks to a range of intuitive graphical user interfaces for statistics, data mining, and interactive visualisation. It is used by a growing number of commercial and government organisations, and is also the tool of choice of elite data mining competition winners. R is open source, flexible, and customisable. Over 4,000 R packages are available as extensions to the base environment, constituting one of the largest and most up-to-date collections of cutting edge Analytics tools in the world. It is also one of the most visually spectacular and universally applicable data visualisation tools.</P>\\n<P><A HREF=\"http://presciient.com/testimonials\" TARGET=\"_blank\" REL=\"nofollow noopener noreferrer\">See what former trainees are saying about this course.</A></P>\\n<P><BR></P>\\n<P><STRONG>Discounts</STRONG></P>\\n<P>Group discounts also apply during the earlybird period: 5% for 2–4 people, 10% for 5–6 people, 15% for 7–8 people, and 20% for 9 or more people. Select your desired quantity of tickets and click “Add to cart” to see the discount calculated before checkout.</P>\\n<P>Please contact us at enquiries@presciient.com to find out more about these special rates.</P>\\n<P><BR></P>\\n<P><STRONG>Course Outline</STRONG></P>\\n<P>This two-day course is an introduction to the R programming language, beginning with the most basic operations of downloading and installing the environment. Participants will learn how to input and manipulate data and be instructed in all the aspects of procedural programming in R, allowing them to create their own R functions and customise code. The course will also introduce R data structures, statistical operations, the creation of R visualisations, and options for generating output from all of these to external files. It will also provide an overview of the use of packages in R, and an introduction to some of the most common data mining, interactive visualisation and integrated graphical user interface packages.</P>\\n<P><BR></P>\\n<P><STRONG>Who should attend?</STRONG></P>\\n<P>This is a practical course, suitable for existing and prospective data analysis practitioners in government and industry. Participants will be provided with a range of programmatic and user interface options for working with data in R. The course assumes no specialised statistical knowledge. Its focus is developing a practical understanding of R as a tool for business users.</P>\\n<P><BR></P>\\n<P><STRONG>Course Outcomes</STRONG></P>\\n<P>Attendees will, by the end of the course, have the basic skills, resources, guidance and confidence to immediately and self-sufficiently begin to use R in their work.</P>\\n<P><BR></P>\\n<P><STRONG>Course Instructor</STRONG></P>\\n<P>Courses are taught by Dr Eugene Dubossarsky and his hand-picked team of highly skilled instructors.</P>\\n<P><BR></P>\\n<P><STRONG>About our training\\xa0</STRONG></P>\\n<P>Eugene Dubossarsky’s courses are unlike those offered in universities, online, or by private providers. His data-science classes, in particular, give clients not just knowledge of a process, but the real power of understanding the underlying concepts, allowing them to confidently practice, manage, promote and risk-assess data science.</P>\\n<P>Dr Dubossarsky says “the way many courses teach data science is like teaching people to memorise and recite poetry in a language they do not understand”. By contrast, he confers an understanding of that language, taught in an intuitive, accessible way that leaves trainees with an instinct for data science. Keeping formulae and mathematics to a bare minimum and taking an intuitive, visual approach, Eugene’s courses deliver a compressed mentoring experience as much as they do content. This is difficult for an average trainer to replicate. Trainees benefit from his extensive knowledge and over 20 years of commercial data-science experience, as well as his unique teaching style.</P>\\n<P>The resulting testimonials speak for themselves, and candidates come from all walks of life: CEOs, general managers, salespeople, IT professionals, marketing staff, public servants and of course people from many functions in the finance world. These testimonials are extensive, and many more are available on request. With specific regard to finance, Eugene has mentored and advised senior leaders and their teams in a number of major Australian banks.</P>\\n<P><BR></P>\\n<P><STRONG>Testimonials</STRONG></P>\\n<P><EM>Having studied stats at Uni I was surprised how far the field has progressed in the last few years, particularly in the area of big data. The great thing about Eugene’s course is I left with a sense that I was up to date with the latest big data modelling concepts but more importantly could also deploy them with some confidence using R. Eugene also made it clear he was available to answer questions after the course, so you are not left hanging. I would absolutely recommend this!</EM></P>\\n<P>—Damon Rasheed, CEO, Rate Detective</P>\\n<P><BR></P>\\n<P><EM>For someone who does not come from an IT background R is a terrifying program. Before doing the Introduction to R course I had previously done other courses in R but always found myself in over my head because they assumed a high level of program experience (even course that required no prior programming knowledge). This course is not like that at all. It starts at ground zero and teaches you everything you need to know to be able to use R confidently in your everyday workplace. It is a must attend for anyone who wants use R!</EM></P>\\n<P>\\xa0—Alix Duncan</P>\\n<P><BR></P>\\n<P><EM>Data science can be a challenging topic but Eugene’s “Introduction to Machine Learning” course turns complex statistical models into plain English. The course contents and presentation were accessible and I enjoyed the mixture of hands-on rattle() exercises, the challenge of building multiple models with real life data, and the salient theory whiteboard discussions created many “aha\" moments.</EM></P>\\n<P><EM>It was a great introductory course and it gave me with a better grasp of Machine Learning in general, a great framework for thinking about it and practical hands-on skills that I can put to immediate use. I wish I had done this course sooner.</EM></P>\\n<P><EM>\\xa0</EM>—Charl Swart,\\xa0Director of Business Operations, Unisys Credit Services</P>\\n<P><BR></P>\\n<P><STRONG>Meals and refreshments</STRONG></P>\\n<P>Catered morning tea and lunch will be provided on both days. Please notify us a week ahead of training regarding any dietary requirements.</P>\\n<P><STRONG><BR></STRONG></P>\\n<P><STRONG>Feedback</STRONG></P>\\n<P>Use enquiries@presciient.com to email us any questions about the course, including requests for more detail, or for specific content you would like to see covered, or queries regarding prerequisites and suitability.</P>\\n<P>If you would like to attend but for any reason cannot, please also let us know.</P>\\n<P><STRONG><BR></STRONG></P>\\n<P><STRONG>Variation</STRONG></P>\\n<P>Course material may vary from advertised due to demands and learning pace of attendees. Additional material may be presented, along with or in place of advertised.</P>\\n<P><BR></P>\\n<P><STRONG>Cancellation and refunds</STRONG></P>\\n<P>You can get a full refund if you cancel 2 weeks or more before the course starts. No refunds will be issued for cancellations made less than 2 weeks before the course starts.</P>\\n<P><BR></P>\\n<P><STRONG>Frequently asked questions (FAQ)</STRONG></P>\\n<P><I>Do I need to bring my own computer?</I></P>\\n<P>There’s no need to bring your own laptop or PC.\\xa0Our courses take place in modern, professional training facilities that have all the computing equipment you’ll need.</P>\\n<P><I>I\\'m lost! How do I find the venue?</I></P>\\n<P>Please call 04 1457 3322 or email\\xa0<A HREF=\"mailto:training@presciient.com\" TARGET=\"_blank\" REL=\"nofollow noopener noreferrer\">training@presciient.com</A>\\xa0if you can’t find the venue.</P>\\n<P><BR></P>\\n<P><STRONG>Presciient Training Coaching, Mentoring and Capability Development for Analytics</STRONG></P>\\n<P>Please ask about tailored, in-house training courses, coaching analytics teams, executive mentoring and strategic advice and other services to build your organisation\\'s strategic and operational analytics capability.\\xa0</P>\\n<P>Our courses include:</P>\\n<UL>\\n<LI>Predictive Analytics, Machine Learning, Data Science and Al</LI>\\n<LI>Data Literacy for Everyone</LI>\\n<LI>Introduction to R and Data Visualisation\\xa0</LI>\\n<LI>Introduction to Python for Data Analysis</LI>\\n<LI>Forecasting and Trend Analytics\\xa0</LI>\\n<LI>Advanced Machine Learning Masterclass</LI>\\n<LI>Advanced Masterclass 2: Random Forests</LI>\\n<LI>Advanced R</LI>\\n<LI>Quantum Computing</LI>\\n<LI>Text and Language Analytics</LI>\\n<LI>Fraud and Anomaly Detection</LI>\\n<LI>Introduction to Machine Learning</LI>\\n<LI>Introduction to Data Science</LI>\\n<LI>Kaggle Boot Camp</LI>\\n</UL>',\n",
       "    'text': 'By booking this course, you agree to our terms and conditions.\\nFor any enquiries, please call\\xa00414\\xa057 33 22.\\nIf you prefer, you can pay by invoice rather than credit card. For instructions,\\xa0click here.\\n\\n\\n\\nIntroduction to R and Data Visualisation\\n\\nR is the most popular data mining and statistics package in the world, and it is free to use. It is also easy to use thanks to a range of intuitive graphical user interfaces for statistics, data mining, and interactive visualisation. It is used by a growing number of commercial and government organisations, and is also the tool of choice of elite data mining competition winners. R is open source, flexible, and customisable. Over 4,000 R packages are available as extensions to the base environment, constituting one of the largest and most up-to-date collections of cutting edge Analytics tools in the world. It is also one of the most visually spectacular and universally applicable data visualisation tools.\\nSee what former trainees are saying about this course.\\n\\nDiscounts\\nGroup discounts also apply during the earlybird period: 5% for 2–4 people, 10% for 5–6 people, 15% for 7–8 people, and 20% for 9 or more people. Select your desired quantity of tickets and click “Add to cart” to see the discount calculated before checkout.\\nPlease contact us at enquiries@presciient.com to find out more about these special rates.\\n\\nCourse Outline\\nThis two-day course is an introduction to the R programming language, beginning with the most basic operations of downloading and installing the environment. Participants will learn how to input and manipulate data and be instructed in all the aspects of procedural programming in R, allowing them to create their own R functions and customise code. The course will also introduce R data structures, statistical operations, the creation of R visualisations, and options for generating output from all of these to external files. It will also provide an overview of the use of packages in R, and an introduction to some of the most common data mining, interactive visualisation and integrated graphical user interface packages.\\n\\nWho should attend?\\nThis is a practical course, suitable for existing and prospective data analysis practitioners in government and industry. Participants will be provided with a range of programmatic and user interface options for working with data in R. The course assumes no specialised statistical knowledge. Its focus is developing a practical understanding of R as a tool for business users.\\n\\nCourse Outcomes\\nAttendees will, by the end of the course, have the basic skills, resources, guidance and confidence to immediately and self-sufficiently begin to use R in their work.\\n\\nCourse Instructor\\nCourses are taught by Dr Eugene Dubossarsky and his hand-picked team of highly skilled instructors.\\n\\nAbout our training\\xa0\\nEugene Dubossarsky’s courses are unlike those offered in universities, online, or by private providers. His data-science classes, in particular, give clients not just knowledge of a process, but the real power of understanding the underlying concepts, allowing them to confidently practice, manage, promote and risk-assess data science.\\nDr Dubossarsky says “the way many courses teach data science is like teaching people to memorise and recite poetry in a language they do not understand”. By contrast, he confers an understanding of that language, taught in an intuitive, accessible way that leaves trainees with an instinct for data science. Keeping formulae and mathematics to a bare minimum and taking an intuitive, visual approach, Eugene’s courses deliver a compressed mentoring experience as much as they do content. This is difficult for an average trainer to replicate. Trainees benefit from his extensive knowledge and over 20 years of commercial data-science experience, as well as his unique teaching style.\\nThe resulting testimonials speak for themselves, and candidates come from all walks of life: CEOs, general managers, salespeople, IT professionals, marketing staff, public servants and of course people from many functions in the finance world. These testimonials are extensive, and many more are available on request. With specific regard to finance, Eugene has mentored and advised senior leaders and their teams in a number of major Australian banks.\\n\\nTestimonials\\nHaving studied stats at Uni I was surprised how far the field has progressed in the last few years, particularly in the area of big data. The great thing about Eugene’s course is I left with a sense that I was up to date with the latest big data modelling concepts but more importantly could also deploy them with some confidence using R. Eugene also made it clear he was available to answer questions after the course, so you are not left hanging. I would absolutely recommend this!\\n—Damon Rasheed, CEO, Rate Detective\\n\\nFor someone who does not come from an IT background R is a terrifying program. Before doing the Introduction to R course I had previously done other courses in R but always found myself in over my head because they assumed a high level of program experience (even course that required no prior programming knowledge). This course is not like that at all. It starts at ground zero and teaches you everything you need to know to be able to use R confidently in your everyday workplace. It is a must attend for anyone who wants use R!\\n\\xa0—Alix Duncan\\n\\nData science can be a challenging topic but Eugene’s “Introduction to Machine Learning” course turns complex statistical models into plain English. The course contents and presentation were accessible and I enjoyed the mixture of hands-on rattle() exercises, the challenge of building multiple models with real life data, and the salient theory whiteboard discussions created many “aha\" moments.\\nIt was a great introductory course and it gave me with a better grasp of Machine Learning in general, a great framework for thinking about it and practical hands-on skills that I can put to immediate use. I wish I had done this course sooner.\\n\\xa0—Charl Swart,\\xa0Director of Business Operations, Unisys Credit Services\\n\\nMeals and refreshments\\nCatered morning tea and lunch will be provided on both days. Please notify us a week ahead of training regarding any dietary requirements.\\n\\nFeedback\\nUse enquiries@presciient.com to email us any questions about the course, including requests for more detail, or for specific content you would like to see covered, or queries regarding prerequisites and suitability.\\nIf you would like to attend but for any reason cannot, please also let us know.\\n\\nVariation\\nCourse material may vary from advertised due to demands and learning pace of attendees. Additional material may be presented, along with or in place of advertised.\\n\\nCancellation and refunds\\nYou can get a full refund if you cancel 2 weeks or more before the course starts. No refunds will be issued for cancellations made less than 2 weeks before the course starts.\\n\\nFrequently asked questions (FAQ)\\nDo I need to bring my own computer?\\nThere’s no need to bring your own laptop or PC.\\xa0Our courses take place in modern, professional training facilities that have all the computing equipment you’ll need.\\nI\\'m lost! How do I find the venue?\\nPlease call 04 1457 3322 or email\\xa0training@presciient.com\\xa0if you can’t find the venue.\\n\\nPresciient Training Coaching, Mentoring and Capability Development for Analytics\\nPlease ask about tailored, in-house training courses, coaching analytics teams, executive mentoring and strategic advice and other services to build your organisation\\'s strategic and operational analytics capability.\\xa0\\nOur courses include:\\n\\nPredictive Analytics, Machine Learning, Data Science and Al\\nData Literacy for Everyone\\nIntroduction to R and Data Visualisation\\xa0\\nIntroduction to Python for Data Analysis\\nForecasting and Trend Analytics\\xa0\\nAdvanced Machine Learning Masterclass\\nAdvanced Masterclass 2: Random Forests\\nAdvanced R\\nQuantum Computing\\nText and Language Analytics\\nFraud and Anomaly Detection\\nIntroduction to Machine Learning\\nIntroduction to Data Science\\nKaggle Boot Camp\\n'},\n",
       "   'end': {'local': '2019-02-26T17:00:00',\n",
       "    'timezone': 'Australia/Melbourne',\n",
       "    'utc': '2019-02-26T06:00:00Z'},\n",
       "   'format_id': '9',\n",
       "   'hide_end_date': False,\n",
       "   'hide_start_date': False,\n",
       "   'id': '53772726673',\n",
       "   'inventory_type': 'limited',\n",
       "   'is_externally_ticketed': False,\n",
       "   'is_free': False,\n",
       "   'is_locked': False,\n",
       "   'is_reserved_seating': False,\n",
       "   'is_series': False,\n",
       "   'is_series_parent': False,\n",
       "   'listed': True,\n",
       "   'locale': 'en_AU',\n",
       "   'logo': {'aspect_ratio': '2',\n",
       "    'crop_mask': {'height': 432, 'top_left': {'x': 0, 'y': 0}, 'width': 864},\n",
       "    'edge_color': None,\n",
       "    'edge_color_set': True,\n",
       "    'id': '54003470',\n",
       "    'original': {'height': None,\n",
       "     'url': 'https://img.evbuc.com/https%3A%2F%2Fcdn.evbuc.com%2Fimages%2F54003470%2F9224233791%2F1%2Foriginal.jpg?auto=compress&s=1f884a771b93ad34bc1591d9b9a4c89a',\n",
       "     'width': None},\n",
       "    'url': 'https://img.evbuc.com/https%3A%2F%2Fcdn.evbuc.com%2Fimages%2F54003470%2F9224233791%2F1%2Foriginal.jpg?h=200&w=450&auto=compress&rect=0%2C0%2C864%2C432&s=4d9a27eaa23318793ceb2d19d8d52d1b'},\n",
       "   'logo_id': '54003470',\n",
       "   'name': {'html': 'Introduction to R and Data Visualisation: Melbourne, 25–26 February 2019',\n",
       "    'text': 'Introduction to R and Data Visualisation: Melbourne, 25–26 February 2019'},\n",
       "   'online_event': False,\n",
       "   'organization_id': '28139399551',\n",
       "   'organizer_id': '1988012351',\n",
       "   'privacy_setting': 'unlocked',\n",
       "   'resource_uri': 'https://www.eventbriteapi.com/v3/events/53772726673/',\n",
       "   'shareable': True,\n",
       "   'show_colors_in_seatmap_thumbnail': False,\n",
       "   'show_pick_a_seat': False,\n",
       "   'show_seatmap_thumbnail': False,\n",
       "   'source': 'create_2.0',\n",
       "   'start': {'local': '2019-02-25T09:30:00',\n",
       "    'timezone': 'Australia/Melbourne',\n",
       "    'utc': '2019-02-24T22:30:00Z'},\n",
       "   'status': 'live',\n",
       "   'subcategory_id': None,\n",
       "   'tx_time_limit': 480,\n",
       "   'url': 'https://www.eventbrite.com.au/e/introduction-to-r-and-data-visualisation-melbourne-2526-february-2019-tickets-53772726673?aff=ebapi',\n",
       "   'venue_id': '19999859',\n",
       "   'version': '3.0.0'},\n",
       "  {'capacity': None,\n",
       "   'capacity_is_custom': None,\n",
       "   'category_id': '101',\n",
       "   'changed': '2018-12-16T00:21:19Z',\n",
       "   'created': '2018-12-16T00:14:41Z',\n",
       "   'currency': 'AUD',\n",
       "   'description': {'html': '<P>By booking this course, you agree to our\\xa0<A HREF=\"http://presciient.com/terms-and-conditions\" TARGET=\"_blank\" REL=\"nofollow noopener noreferrer\"><STRONG>terms and conditions</STRONG></A>.</P>\\n<P><SPAN>For any enquiries, please call\\xa0</SPAN><STRONG>0414</STRONG><SPAN><STRONG>\\xa057 33 22</STRONG>.</SPAN></P>\\n<P><SPAN><SPAN>If you prefer, you can pay by invoice rather than credit card. For instructions,\\xa0</SPAN><A HREF=\"http://presciient.com/resources/pay-invoice-eventbrite/\" TARGET=\"_blank\" REL=\"nofollow noopener noreferrer\">click here</A><SPAN>.</SPAN></SPAN></P>\\n<P><BR></P>\\n<HR>\\n<P><BR></P>\\n<P><STRONG>Quantum Computing<BR></STRONG></P>\\n<P>This is an introduction to the exciting new field of quantum computing, including programming actual quantum computers in the cloud. Quantum computing promises to revolutionise cryptography, machine learning, cyber security, weather forecasting and a host of other mathematical and high-performance computing fields.<BR><BR>The instructor will give a gentle overview of the main concepts of the field. The oddities of quantum mechanics, including the notorious “Schrodinger’s Cat” / “superposition” and\\xa0 “entanglement” ideas, their philosophical implications, as well as their impact on quantum computation, will all be explored. There will then be an intuitive introduction to the key components of quantum mechanics---qubits and logic gates---building on the key concepts and providing some intuitive understanding of their mathematical basis.<BR><BR>A practical component will include writing quantum programs and executing them on simulators as well as on actual quantum computers in the cloud.<BR><BR>A broader overview of quantum computing approaches, applications, challenges, methods and practitioners follows the practical component. Guidance on next steps, future directions, self-learning options and communities will complete the course.</P>\\n<P>\\xa0</P>\\n<P><STRONG>Who should attend?</STRONG></P>\\n<P>This course is suitable for all managers, executives and specialists who want to make better decisions under uncertainty. It requires no specialised statistical knowledge, nor knowledge of R.</P>\\n<P><BR></P>\\n<P><A HREF=\"http://presciient.com/testimonials\" TARGET=\"_blank\" REL=\"nofollow noopener noreferrer\">See what former trainees are saying about this course.</A></P>\\n<P><BR></P>\\n<P><STRONG>Discounts</STRONG></P>\\n<P>Group discounts also apply during the earlybird period: 5% for 2–4 people, 10% for 5–6 people, 15% for 7–8 people, and 20% for 9 or more people. Select your desired quantity of tickets and click “Add to cart” to see the discount calculated before checkout.</P>\\n<P>Please contact us at enquiries@presciient.com to find out more about these special rates.</P>\\n<P><BR></P>\\n<P><STRONG>Course instructor</STRONG></P>\\n<P>Courses are taught by Dr Eugene Dubossarsky and his hand-picked team of highly skilled instructors.</P>\\n<P><BR></P>\\n<P><STRONG>About our training\\xa0</STRONG></P>\\n<P>Eugene Dubossarsky’s courses are unlike those offered in universities, online, or by private providers. His data-science classes, in particular, give clients not just knowledge of a process, but the real power of understanding the underlying concepts, allowing them to confidently practice, manage, promote and risk-assess data science.</P>\\n<P>Dr Dubossarsky says “the way many courses teach data science is like teaching people to memorise and recite poetry in a language they do not understand”. By contrast, he confers an understanding of that language, taught in an intuitive, accessible way that leaves trainees with an instinct for data science. Keeping formulae and mathematics to a bare minimum and taking an intuitive, visual approach, Eugene’s courses deliver a compressed mentoring experience as much as they do content. This is difficult for an average trainer to replicate. Trainees benefit from his extensive knowledge and over 20 years of commercial data-science experience, as well as his unique teaching style.</P>\\n<P>The resulting testimonials speak for themselves, and candidates come from all walks of life: CEOs, general managers, salespeople, IT professionals, marketing staff, public servants and of course people from many functions in the finance world. These testimonials are extensive, and many more are available on request. With specific regard to finance, Eugene has mentored and advised senior leaders and their teams in a number of major Australian banks.</P>\\n<P><BR></P>\\n<P><STRONG>Testimonials</STRONG></P>\\n<P><EM>Having studied stats at Uni I was surprised how far the field has progressed in the last few years, particularly in the area of big data. The great thing about Eugene’s course is I left with a sense that I was up to date with the latest big data modelling concepts but more importantly could also deploy them with some confidence using R. Eugene also made it clear he was available to answer questions after the course, so you are not left hanging. I would absolutely recommend this!</EM></P>\\n<DIV>\\n<P>—Damon Rasheed, CEO, Rate Detective</P>\\n<P><BR></P>\\n<P><EM>For someone who does not come from an IT background R is a terrifying program. Before doing the Introduction to R course I had previously done other courses in R but always found myself in over my head because they assumed a high level of program experience (even course that required no prior programming knowledge). This course is not like that at all. It starts at ground zero and teaches you everything you need to know to be able to use R confidently in your everyday workplace. It is a must attend for anyone who wants use R!</EM></P>\\n<P>\\xa0—Alix Duncan</P>\\n<P><BR></P>\\n<P><EM>Data science can be a challenging topic but Eugene’s “Introduction to Machine Learning” course turns complex statistical models into plain English. The course contents and presentation were accessible and I enjoyed the mixture of hands-on rattle() exercises, the challenge of building multiple models with real life data, and the salient theory whiteboard discussions created many “aha\" moments.</EM></P>\\n<P><EM>It was a great introductory course and it gave me with a better grasp of Machine Learning in general, a great framework for thinking about it and practical hands-on skills that I can put to immediate use. I wish I had done this course sooner.</EM></P>\\n</DIV>\\n<P><EM>\\xa0</EM>—Charl Swart,\\xa0Director of Business Operations, Unisys Credit Services <BR></P>\\n<P><BR></P>\\n<P><STRONG>Meals and refreshments</STRONG></P>\\n<P>Catered morning tea and lunch are provided on both days of the course. Please notify us at least a week ahead if you have any special dietary requirements.</P>\\n<P><BR></P>\\n<P><STRONG>Feedback</STRONG></P>\\n<P>Use enquiries@presciient.com to email us any questions about the course, including requests for more detail, or for specific content you would like to see covered, or queries regarding prerequisites and suitability.</P>\\n<P>If you would like to attend but for any reason cannot, please also let us know.</P>\\n<P><BR></P>\\n<P><STRONG>Variation</STRONG></P>\\n<P>Course material may vary from advertised due to demands and learning pace of attendees. Additional material may be presented, along with or in place of advertised.</P>\\n<P><BR></P>\\n<P><STRONG>Cancellations and refunds</STRONG></P>\\n<P><SPAN>You can get a full refund if you cancel 2 weeks or more before the course starts. No refunds will be issued for cancellations made less than 2 weeks before the course starts.</SPAN></P>\\n<P><BR></P>\\n<P><STRONG>Frequently asked questions (FAQ)</STRONG></P>\\n<P><I>Do I need to bring my own computer?</I></P>\\n<P>There’s no need to bring your own laptop or PC.\\xa0Our courses take place in modern, professional training facilities that have all the computing equipment you’ll need.</P>\\n<P><I>I\\'m lost! How do I find the venue?</I></P>\\n<P>Please call 04 1457 3322 or email <A HREF=\"mailto:training@presciient.com\" TARGET=\"_blank\" REL=\"nofollow noopener noreferrer\">training@presciient.com</A>\\xa0if you can’t find the venue.\\xa0</P>\\n<P><STRONG><BR></STRONG></P>\\n<P><STRONG>Presciient training, coaching, mentoring and\\xa0</STRONG><STRONG>capability development for analytic</STRONG><STRONG>s</STRONG></P>\\n<P>Please ask about tailored, in-house training courses, coaching analytics teams, executive mentoring and strategic advice and other services to build your organisation\\'s strategic and operational analytics capability.</P>\\n<P>Our courses include:<BR></P>\\n<UL>\\n<LI>Predictive Analytics, Machine Learning, Data Science and Al</LI>\\n<LI>Data Literacy for Everyone</LI>\\n<LI>Introduction to R and Data Visualisation</LI>\\n<LI>Introduction to Python for Data Analysis</LI>\\n<LI>Forecasting and Trend Analytics\\xa0</LI>\\n<LI>Advanced Machine Learning Masterclas</LI>\\n<LI>Advanced Masterclass 2: Random Forests</LI>\\n<LI>Advanced R</LI>\\n<LI>Quantum Computing</LI>\\n<LI>Text and Language Analytics</LI>\\n<LI>Fraud and Anomaly Detection\\xa0</LI>\\n<LI>Introduction to Machine Learning</LI>\\n<LI>Introduction to Data Science\\xa0</LI>\\n<LI>Kaggle Boot Camp</LI>\\n</UL>',\n",
       "    'text': 'By booking this course, you agree to our\\xa0terms and conditions.\\nFor any enquiries, please call\\xa00414\\xa057 33 22.\\nIf you prefer, you can pay by invoice rather than credit card. For instructions,\\xa0click here.\\n\\n\\n\\nQuantum Computing\\nThis is an introduction to the exciting new field of quantum computing, including programming actual quantum computers in the cloud. Quantum computing promises to revolutionise cryptography, machine learning, cyber security, weather forecasting and a host of other mathematical and high-performance computing fields.The instructor will give a gentle overview of the main concepts of the field. The oddities of quantum mechanics, including the notorious “Schrodinger’s Cat” / “superposition” and\\xa0 “entanglement” ideas, their philosophical implications, as well as their impact on quantum computation, will all be explored. There will then be an intuitive introduction to the key components of quantum mechanics---qubits and logic gates---building on the key concepts and providing some intuitive understanding of their mathematical basis.A practical component will include writing quantum programs and executing them on simulators as well as on actual quantum computers in the cloud.A broader overview of quantum computing approaches, applications, challenges, methods and practitioners follows the practical component. Guidance on next steps, future directions, self-learning options and communities will complete the course.\\n\\xa0\\nWho should attend?\\nThis course is suitable for all managers, executives and specialists who want to make better decisions under uncertainty. It requires no specialised statistical knowledge, nor knowledge of R.\\n\\nSee what former trainees are saying about this course.\\n\\nDiscounts\\nGroup discounts also apply during the earlybird period: 5% for 2–4 people, 10% for 5–6 people, 15% for 7–8 people, and 20% for 9 or more people. Select your desired quantity of tickets and click “Add to cart” to see the discount calculated before checkout.\\nPlease contact us at enquiries@presciient.com to find out more about these special rates.\\n\\nCourse instructor\\nCourses are taught by Dr Eugene Dubossarsky and his hand-picked team of highly skilled instructors.\\n\\nAbout our training\\xa0\\nEugene Dubossarsky’s courses are unlike those offered in universities, online, or by private providers. His data-science classes, in particular, give clients not just knowledge of a process, but the real power of understanding the underlying concepts, allowing them to confidently practice, manage, promote and risk-assess data science.\\nDr Dubossarsky says “the way many courses teach data science is like teaching people to memorise and recite poetry in a language they do not understand”. By contrast, he confers an understanding of that language, taught in an intuitive, accessible way that leaves trainees with an instinct for data science. Keeping formulae and mathematics to a bare minimum and taking an intuitive, visual approach, Eugene’s courses deliver a compressed mentoring experience as much as they do content. This is difficult for an average trainer to replicate. Trainees benefit from his extensive knowledge and over 20 years of commercial data-science experience, as well as his unique teaching style.\\nThe resulting testimonials speak for themselves, and candidates come from all walks of life: CEOs, general managers, salespeople, IT professionals, marketing staff, public servants and of course people from many functions in the finance world. These testimonials are extensive, and many more are available on request. With specific regard to finance, Eugene has mentored and advised senior leaders and their teams in a number of major Australian banks.\\n\\nTestimonials\\nHaving studied stats at Uni I was surprised how far the field has progressed in the last few years, particularly in the area of big data. The great thing about Eugene’s course is I left with a sense that I was up to date with the latest big data modelling concepts but more importantly could also deploy them with some confidence using R. Eugene also made it clear he was available to answer questions after the course, so you are not left hanging. I would absolutely recommend this!\\n\\n—Damon Rasheed, CEO, Rate Detective\\n\\nFor someone who does not come from an IT background R is a terrifying program. Before doing the Introduction to R course I had previously done other courses in R but always found myself in over my head because they assumed a high level of program experience (even course that required no prior programming knowledge). This course is not like that at all. It starts at ground zero and teaches you everything you need to know to be able to use R confidently in your everyday workplace. It is a must attend for anyone who wants use R!\\n\\xa0—Alix Duncan\\n\\nData science can be a challenging topic but Eugene’s “Introduction to Machine Learning” course turns complex statistical models into plain English. The course contents and presentation were accessible and I enjoyed the mixture of hands-on rattle() exercises, the challenge of building multiple models with real life data, and the salient theory whiteboard discussions created many “aha\" moments.\\nIt was a great introductory course and it gave me with a better grasp of Machine Learning in general, a great framework for thinking about it and practical hands-on skills that I can put to immediate use. I wish I had done this course sooner.\\n\\n\\xa0—Charl Swart,\\xa0Director of Business Operations, Unisys Credit Services \\n\\nMeals and refreshments\\nCatered morning tea and lunch are provided on both days of the course. Please notify us at least a week ahead if you have any special dietary requirements.\\n\\nFeedback\\nUse enquiries@presciient.com to email us any questions about the course, including requests for more detail, or for specific content you would like to see covered, or queries regarding prerequisites and suitability.\\nIf you would like to attend but for any reason cannot, please also let us know.\\n\\nVariation\\nCourse material may vary from advertised due to demands and learning pace of attendees. Additional material may be presented, along with or in place of advertised.\\n\\nCancellations and refunds\\nYou can get a full refund if you cancel 2 weeks or more before the course starts. No refunds will be issued for cancellations made less than 2 weeks before the course starts.\\n\\nFrequently asked questions (FAQ)\\nDo I need to bring my own computer?\\nThere’s no need to bring your own laptop or PC.\\xa0Our courses take place in modern, professional training facilities that have all the computing equipment you’ll need.\\nI\\'m lost! How do I find the venue?\\nPlease call 04 1457 3322 or email training@presciient.com\\xa0if you can’t find the venue.\\xa0\\n\\nPresciient training, coaching, mentoring and\\xa0capability development for analytics\\nPlease ask about tailored, in-house training courses, coaching analytics teams, executive mentoring and strategic advice and other services to build your organisation\\'s strategic and operational analytics capability.\\nOur courses include:\\n\\nPredictive Analytics, Machine Learning, Data Science and Al\\nData Literacy for Everyone\\nIntroduction to R and Data Visualisation\\nIntroduction to Python for Data Analysis\\nForecasting and Trend Analytics\\xa0\\nAdvanced Machine Learning Masterclas\\nAdvanced Masterclass 2: Random Forests\\nAdvanced R\\nQuantum Computing\\nText and Language Analytics\\nFraud and Anomaly Detection\\xa0\\nIntroduction to Machine Learning\\nIntroduction to Data Science\\xa0\\nKaggle Boot Camp\\n'},\n",
       "   'end': {'local': '2019-03-08T17:00:00',\n",
       "    'timezone': 'Australia/Melbourne',\n",
       "    'utc': '2019-03-08T06:00:00Z'},\n",
       "   'format_id': '9',\n",
       "   'hide_end_date': False,\n",
       "   'hide_start_date': False,\n",
       "   'id': '53774450830',\n",
       "   'inventory_type': 'limited',\n",
       "   'is_externally_ticketed': False,\n",
       "   'is_free': False,\n",
       "   'is_locked': False,\n",
       "   'is_reserved_seating': False,\n",
       "   'is_series': False,\n",
       "   'is_series_parent': False,\n",
       "   'listed': True,\n",
       "   'locale': 'en_AU',\n",
       "   'logo': {'aspect_ratio': '2',\n",
       "    'crop_mask': {'height': 432, 'top_left': {'x': 0, 'y': 0}, 'width': 864},\n",
       "    'edge_color': None,\n",
       "    'edge_color_set': True,\n",
       "    'id': '54005253',\n",
       "    'original': {'height': None,\n",
       "     'url': 'https://img.evbuc.com/https%3A%2F%2Fcdn.evbuc.com%2Fimages%2F54005253%2F9224233791%2F1%2Foriginal.jpg?auto=compress&s=846310f68a3dde5ed1446ec1450c1a3b',\n",
       "     'width': None},\n",
       "    'url': 'https://img.evbuc.com/https%3A%2F%2Fcdn.evbuc.com%2Fimages%2F54005253%2F9224233791%2F1%2Foriginal.jpg?h=200&w=450&auto=compress&rect=0%2C0%2C864%2C432&s=99a148d90b3b065e7d15e84adc0811b3'},\n",
       "   'logo_id': '54005253',\n",
       "   'name': {'html': 'Quantum Computing: Melbourne, 7–8 March 2019',\n",
       "    'text': 'Quantum Computing: Melbourne, 7–8 March 2019'},\n",
       "   'online_event': False,\n",
       "   'organization_id': '28139399551',\n",
       "   'organizer_id': '1988012351',\n",
       "   'privacy_setting': 'unlocked',\n",
       "   'resource_uri': 'https://www.eventbriteapi.com/v3/events/53774450830/',\n",
       "   'shareable': True,\n",
       "   'show_colors_in_seatmap_thumbnail': False,\n",
       "   'show_pick_a_seat': False,\n",
       "   'show_seatmap_thumbnail': False,\n",
       "   'source': 'create_2.0',\n",
       "   'start': {'local': '2019-03-07T09:30:00',\n",
       "    'timezone': 'Australia/Melbourne',\n",
       "    'utc': '2019-03-06T22:30:00Z'},\n",
       "   'status': 'live',\n",
       "   'subcategory_id': None,\n",
       "   'tx_time_limit': 480,\n",
       "   'url': 'https://www.eventbrite.com.au/e/quantum-computing-melbourne-78-march-2019-tickets-53774450830?aff=ebapi',\n",
       "   'venue_id': '28359610',\n",
       "   'version': '3.0.0'},\n",
       "  {'capacity': None,\n",
       "   'capacity_is_custom': None,\n",
       "   'category_id': '101',\n",
       "   'changed': '2019-01-30T15:21:55Z',\n",
       "   'created': '2019-01-01T11:51:49Z',\n",
       "   'currency': 'USD',\n",
       "   'description': {'html': '<H2><IMG SRC=\"https://cdn.evbuc.com/eventlogos/231943413/nursingtech.jpg\"></H2>\\n<H2>Learn to Develop a Successful Nursing Tech Startup Company Today!</H2>\\n<H2><BR></H2>\\n<P>Always wanted to start an tech startup? Now we have a complete blueprint\\xa0for you start your own Nursing tech startup.\\xa0During our tech startup program you will learn and navigate through\\xa0tools, software, hardware, platforms, resources, projects, processes, methods and strategies\\xa0to penetrate your own Nursing tech startup into the market.</P>\\n<H3><BR>During this Nursing Tech Startup Workshop we will cover:</H3>\\n<H3><BR></H3>\\n<P><STRONG>Session 1: Nursing Tech Basics</STRONG><BR>During this session we will explore the very foundation and the basic systems\\xa0and platforms for you to integrate into your own tech startup process.\\xa0<BR></P>\\n<UL>\\n<LI>Nursing Hardware</LI>\\n<LI>Nursing Software</LI>\\n<LI>Nursing Platforms</LI>\\n<LI>Nursing Projects</LI>\\n<LI>Nursing Systems</LI>\\n<LI>Nursing Blueprint</LI>\\n<LI>Nursing Tools</LI>\\n<LI>Nursing Resources<BR><BR><BR></LI>\\n</UL>\\n<P><BR><STRONG>Session 2: Nursing Tech Startup Ideas</STRONG><BR>During this session we will explore tech startup ideas for you\\xa0to implement and integrate into your own tech startup or\\xa0use them as an inspirational source for developing your own\\xa0products, projects, prototypes or services in your tech startup<BR></P>\\n<UL>\\n<LI>E-Nursing:</LI>\\n<LI>Hospital Synchronization Platform</LI>\\n<LI>Medical Cloud Journal System</LI>\\n<LI>Hospital VR/AR Lab</LI>\\n<LI>Patience AI Assistant</LI>\\n<LI>Hospital IoT Platform</LI>\\n<LI>Hospital BD DC Platform</LI>\\n<LI>Hospital Management System</LI>\\n<LI>Prescription App</LI>\\n<LI>Nurse Staff Wearable</LI>\\n<LI>VR Nursery Educational Platform</LI>\\n<LI>Nursery Staff Kiosk</LI>\\n<LI>Patient BioMonitoring</LI>\\n<LI>Nursing Chatbot Support</LI>\\n<LI>AI Nursery Adviser</LI>\\n<LI>Robotic Nursery Assistant</LI>\\n<LI>Niche Disease Wearable</LI>\\n<LI>Nursing Facility Cloud Management</LI>\\n<LI>Nursery Telepresence System</LI>\\n<LI>Nursery Care App<BR></LI>\\n<LI>and much more</LI>\\n</UL>\\n<P><BR></P>\\n<P><STRONG>Session 3: R&D</STRONG><BR>During this session we will explore the research process,\\xa0how you can research a specific niche industry, the market and tech trends.<BR></P>\\n<UL>\\n<LI>R&D/Research</LI>\\n<LI>R&D Tools</LI>\\n<LI>Startup Tools</LI>\\n<LI>Market Research</LI>\\n<LI>Surveys</LI>\\n<LI>Consumer Analytics</LI>\\n<LI>Market Analytics</LI>\\n<LI>Industry Analytics</LI>\\n<LI>Trends Researching<BR><BR><BR></LI>\\n</UL>\\n<P>\\xa0</P>\\n<P><STRONG>Session 4: Creativity</STRONG></P>\\n<P>During this session we will explore the creativity process,\\xa0how to increase your own creativity intelligence and implement\\xa0quality tech ideas into your own tech startup process.<BR></P>\\n<UL>\\n<LI>Creativity Tools</LI>\\n<LI>Creativity Techniques</LI>\\n<LI>Creativity Strategy</LI>\\n<LI>Mind mapping</LI>\\n<LI>Brainstorming</LI>\\n<LI>Meditation</LI>\\n<LI>Idea Exploring</LI>\\n<LI>Idea Blender</LI>\\n<LI>Key-Point System</LI>\\n<LI>Problem Solving Strategy</LI>\\n<LI>Incubation</LI>\\n<LI>Creative intelligence</LI>\\n<LI>Outside the Box Thinking</LI>\\n<LI>Lateral Thinking</LI>\\n<LI>Productivity Tools</LI>\\n<LI>Mind Relaxation</LI>\\n<LI>Meditation</LI>\\n<LI>Higher Consciousnesses</LI>\\n<LI>Inspiration Tools</LI>\\n<LI>Idea Storage<BR><BR></LI>\\n</UL>\\n<P>\\xa0<IMG SRC=\"https://cdn.evbuc.com/eventlogos/231943413/capitalx4.jpg\"></P>\\n<P><BR></P>\\n<P><STRONG>Session 5: Capital/Funding</STRONG><BR>During this session we will explore the capital and funding process\\xa0of your tech startup. How to raise capital and make systematic\\xa0attempts to penetrate into the market.<BR></P>\\n<UL>\\n<LI>Capital/Funding</LI>\\n<LI>Capital/Funding Tools</LI>\\n<LI>Capital/Funding Strategy</LI>\\n<LI>Venture Capitalists</LI>\\n<LI>Angel Investors</LI>\\n<LI>Seed Funding</LI>\\n<LI>Incubators</LI>\\n<LI>Accelerator Programs</LI>\\n<LI>Co-Founder</LI>\\n<LI>Capitalization Table</LI>\\n<LI>Crowdfunding</LI>\\n<LI>Business Trade Fairs<BR><BR></LI>\\n</UL>\\n<P>\\xa0</P>\\n<P><STRONG>Session 6: Clients/Customers</STRONG><BR>During this session we will explore the client acquisition process.\\xa0Find your first clients and customers for your tech startup and\\xa0implement the right tools, methods and strategies for creating\\xa0an successful sale system for your specific niche industry/technology.<BR></P>\\n<UL>\\n<LI>Clients</LI>\\n<LI>Client Acquisition Strategy</LI>\\n<LI>Client Acquisition Process</LI>\\n<LI>PR Strategies</LI>\\n<LI>Social Media Marketing</LI>\\n<LI>Competitive Analysis</LI>\\n<LI>E-Mail Marketing</LI>\\n<LI>Newsletters</LI>\\n<LI>Analytics</LI>\\n<LI>SEO</LI>\\n<LI>Digital Marketing</LI>\\n<LI>Ad Systems</LI>\\n<LI>Competitor Research</LI>\\n<LI>Sale System</LI>\\n<LI>Sale Strategy</LI>\\n<LI>Growth Hacking</LI>\\n<LI>Sales Funnel</LI>\\n<LI>Email Hunting<BR><BR></LI>\\n</UL>\\n<P>\\xa0</P>\\n<P><STRONG>Session 7: Business Platform</STRONG><BR>During this session we will explore the business organizing process.\\xa0How to implement an organized and professional platform for your\\xa0tech startup for creating efficient workflow.<BR><BR></P>\\n<UL>\\n<LI>Business Automation</LI>\\n<LI>Business Process</LI>\\n<LI>Business Strategy</LI>\\n<LI>Business Model</LI>\\n<LI>Business Management</LI>\\n<LI>ERP</LI>\\n<LI>CRM</LI>\\n<LI>Human Resources (HR)</LI>\\n<LI>Recruitment</LI>\\n<LI>Intranet</LI>\\n<LI>Collaboration</LI>\\n<LI>Project Management</LI>\\n<LI>Document Management</LI>\\n<LI>Customer Support</LI>\\n<LI>Business Automation Tools</LI>\\n</UL>\\n<P>\\xa0</P>\\n<P><STRONG>Session 8:\\xa0<STRONG>Business Formation</STRONG></STRONG><BR>During this session we will explore the business formation process.\\xa0Which platforms, models and tools to integrate into your tech startup\\xa0formation for creating an successful launch process.<BR>Business Formation<BR></P>\\n<UL>\\n<LI>Legal</LI>\\n<LI>Contracts</LI>\\n<LI>Business Model</LI>\\n<LI>Corporate Structure</LI>\\n<LI>Payment Platforms</LI>\\n<LI>Payment Gateway</LI>\\n<LI>Invoicing System</LI>\\n<LI>Credit Cards/Payments</LI>\\n<LI>Pricing Strategies</LI>\\n<LI>Accounting</LI>\\n<LI>Subscriptions</LI>\\n<LI>Office Space</LI>\\n<LI>Virtual Address</LI>\\n<LI>Virtual Phone</LI>\\n<LI>Virtual Office</LI>\\n<LI>Remote Office</LI>\\n<LI>Virtual Assistant</LI>\\n<LI>Virtual Receptionist</LI>\\n<LI>Virtual Support</LI>\\n<LI>Outsourcing</LI>\\n<LI>Product Demo</LI>\\n<LI>Product Launch<BR><BR></LI>\\n</UL>\\n<P>\\xa0</P>\\n<P><STRONG>Session 9: Startup Coding</STRONG><BR>During this session we will explore the coding process of your tech startup.<BR>Coding/Programming<BR></P>\\n<UL>\\n<LI>IDE</LI>\\n<LI>API</LI>\\n<LI>SDK</LI>\\n<LI>GUI</LI>\\n<LI>Code Analysis</LI>\\n<LI>Data Visualization</LI>\\n<LI>Python</LI>\\n<LI>C#</LI>\\n<LI>Forms</LI>\\n<LI>Wireframing</LI>\\n<LI>Front-End</LI>\\n<LI>Back-End</LI>\\n<LI>Library</LI>\\n<LI>Frameworks</LI>\\n<LI>Testing</LI>\\n<LI>Programming Platforms</LI>\\n<LI>Programming Tools</LI>\\n<LI>Agile Development</LI>\\n<LI>Software Code Management<BR><BR></LI>\\n</UL>\\n<P>\\xa0</P>\\n<P><STRONG>Session 10: Startup\\xa0Hardware/Prototyping</STRONG><BR>During this session we will explore the hardware and prototyping process\\xa0of your tech startup. Using different tools and platform to innovate\\xa0and integrate your own tech startup projects.<BR><BR></P>\\n<UL>\\n<LI>Electronics</LI>\\n<LI>IoT</LI>\\n<LI>Raspberry Pi</LI>\\n<LI>Arduino</LI>\\n<LI>Microcontrollers</LI>\\n<LI>Sensors</LI>\\n<LI>Projects</LI>\\n<LI>Microchips</LI>\\n<LI>Hardware Boards</LI>\\n<LI>Hardware Tools</LI>\\n<LI>Hardware Platform</LI>\\n<LI>PCB</LI>\\n<LI>3D Design</LI>\\n<LI>3D Models</LI>\\n<LI>3D Printing</LI>\\n<LI>DIY Tech</LI>\\n<LI>Tech Lab</LI>\\n<LI>Embedded Systems<BR><BR><BR></LI>\\n</UL>\\n<P>\\xa0</P>\\n<P><STRONG>Session 11 : Startup IT Operations</STRONG><BR>During this session we will explore the IT infrastructure process of your tech startup.\\xa0Which platforms to use for setup an organized database system, cloud system and\\xa0other technical solutions for your tech startup to work efficiently<BR></P>\\n<UL>\\n<LI>IT Infrastructure</LI>\\n<LI>Cloud</LI>\\n<LI>Servers</LI>\\n<LI>Database</LI>\\n<LI>DevOps</LI>\\n<LI>Monitoring</LI>\\n<LI>Remote Access</LI>\\n<LI>Backup</LI>\\n<LI>Technical Documentation</LI>\\n<LI>Data Recovery</LI>\\n<LI>Encryption</LI>\\n<LI>Security</LI>\\n<LI>FTP</LI>\\n<LI>NAS</LI>\\n<LI>Deployment</LI>\\n<LI>VPN</LI>\\n<LI>VPS</LI>\\n<LI>Automation</LI>\\n<LI>Log Management</LI>\\n<LI>Networking</LI>\\n<LI>Virtualization<BR><BR></LI>\\n</UL>\\n<P>\\xa0</P>\\n<P><STRONG>Session 12 : Startup Consulting</STRONG><BR>During this session we will explore the consulting process for your tech startup.\\xa0An strategic approach, where you can receive more experience before you launch\\xa0your own specific products/projects.<BR></P>\\n<UL>\\n<LI>Tech Startup Consulting</LI>\\n<LI>Tech Consulting Services</LI>\\n<LI>Tech Consulting Structure</LI>\\n<LI>Tech Consulting Approach</LI>\\n<LI>Tech Consulting Strategy</LI>\\n<LI>Tech Consulting Contracts</LI>\\n<LI>Tech Consulting Referrals</LI>\\n<LI>Tech Consulting Portfolio</LI>\\n<LI>Tech Consulting ISO</LI>\\n<LI>Tech Consulting Integration</LI>\\n<LI>Tech Consulting Projects<BR><BR><BR></LI>\\n</UL>\\n<P>\\xa0</P>\\n<P><STRONG>Session 13 : Startup Management</STRONG><BR>During this session we will explore management process of your tech startup.\\xa0How to manage your internal and external environments for increasing the\\xa0probability of your tech startup to succeed.<BR></P>\\n<UL>\\n<LI>Tech Startup Management</LI>\\n<LI>Motivational Skills</LI>\\n<LI>Time Management</LI>\\n<LI>Team Management</LI>\\n<LI>Leadership Skills</LI>\\n<LI>Learning Skills</LI>\\n<LI>Goal Setting Skills</LI>\\n<LI>Decision Making Skills</LI>\\n<LI>Stress Management</LI>\\n<LI>Communication Skills</LI>\\n<LI>Procrastination Hacks</LI>\\n<LI>Productivity Hacks</LI>\\n<LI>Confidence Hacks</LI>\\n<LI>Growth Mindset Skills</LI>\\n<LI>Problem Solving Skills</LI>\\n<LI>Analytical Skills</LI>\\n<LI>Strategic Thinking Skills</LI>\\n<LI>Learning Management<BR><BR></LI>\\n</UL>\\n<P><STRONG>Session 14: Tech Workshops<BR></STRONG>During this session we will explore tech trends, emerging markets and disruptive technologies and future workshops</P>\\n<UL>\\n<LI>Future Workshops</LI>\\n<LI>Disruptive Technologies</LI>\\n<LI>Emerging Markets</LI>\\n<LI>Emerging Industries</LI>\\n<LI>Tech Trends<BR><BR></LI>\\n</UL>\\n<H3><BR></H3>\\n<P><BR></P>\\n<P><IMG SRC=\"https://cdn.evbuc.com/eventlogos/231943413/entrepreneurship.jpg\"></P>\\n<P><STRONG><BR></STRONG></P>\\n<DIV CLASS=\"g-group l-lg-mar-bot-6 l-md-mar-bot-4 l-pad-bot-6\">\\n<DIV CLASS=\"g-cell g-cell-10-12 g-cell-md-1-1\">\\n<DIV CLASS=\"has-user-generated-content js-d-read-more read-more js-read-more read-more--medium-down read-more--expanded\">\\n<DIV CLASS=\"js-xd-read-more-toggle-view read-more__toggle-view\">\\n<DIV CLASS=\"js-xd-read-more-contents l-mar-top-3\">\\n<P><STRONG>For more detailed information go to our website\\xa0<A HREF=\"https://www.atechup.com/\" TARGET=\"_blank\" REL=\"nofollow noopener noreferrer\">Atechup.com</A></STRONG><BR></P>\\n<P><STRONG>[This is an Online Web Workshop]<BR><BR></STRONG></P>\\n</DIV>\\n</DIV>\\n</DIV>\\n</DIV>\\n</DIV>\\n<H2><STRONG><BR>Workshop Curriculum</STRONG></H2>\\n<DIV><BR></DIV>\\n<UL>\\n<LI><STRONG>Basic Edition:</STRONG>\\xa0Tech Tools/System, Tech Startup Ideas, R&D, Startup Creativity, Startup Formation, Startup Automation.\\xa0Session 1-5.<BR>4 Hour Tech Startup Workshop<BR><BR></LI>\\n<LI><STRONG>Business Edition:</STRONG>\\xa0Tech Tools/System, Tech Startup Ideas, R&D, Startup Creativity, Startup Formation, Startup Automation, Startup Capital/Funding, Startup Clients/Marketing, Startup Programming, Startup Prototyping/Hardware, Startup IT Operations<BR>Session 1-12.<BR>12+ Hours of Tech Startup Workshops,<BR>On-Demand 30 Days\\xa0Streaming Access</LI>\\n</UL>\\n<UL>\\n<LI>\\n<P><STRONG>Premium Edition:</STRONG>\\xa0Tech Tools/System, Tech Startup Ideas, R&D, Startup Creativity, Startup Formation, Startup Automation, Startup Capital/Funding, Startup Clients/Marketing, Startup Coding/Programming, Startup Prototyping/Hardware, Startup IT Operations, Startup Management, Startup Consulting, Startup Workshops.<BR>Session 1-14. ALL Sessions.<BR>16+ Hours\\xa0of Tech Startup Workshops,<BR>On-Demand 6 Months Streaming Access<BR>24/7 VIP Support<BR>Certification/Diploma<BR>Tech Entrepreneurship Bonus Material<BR><BR></P>\\n</LI>\\n<LI>\\n<P><STRONG>Gold Edition:\\xa0</STRONG>Everything included in the Premium Edition +\\xa0\\xa0<SPAN CLASS=\"oneComWebmail-font\">Entrepreneur Starter Kit (</SPAN><SPAN CLASS=\"oneComWebmail-font\">1000+ PR Contact List PDF,\\xa0</SPAN>1000+ Journalists/Tech Blogs Contact List PDF,\\xa01000+ Tech/Startup Slack Communities\\xa0List\\xa0PDF,\\xa02500+ Potential Customers/Clients Contact List PDF,\\xa02000+ Venture Capital/Startup Funding\\xa0List\\xa0PDF,\\xa01700+ Startup Accelerators\\xa0List\\xa0PDF)</P>\\n<P><BR><BR><IMG SRC=\"https://cdn.evbuc.com/eventlogos/231943413/testimonial.jpg\"><STRONG><BR>Testimonials:</STRONG></P>\\n</LI>\\n<LI>\\n<P><I>\"Atechup Startup Workshops is the most valuable business workshop we have\\xa0<STRONG>EVER</STRONG>\\xa0purchased.\"\\xa0- Johnny M.<BR><BR></I></P>\\n</LI>\\n<LI>\\n<P><I>\"Not able to tell you how\\xa0<STRONG>HAPPY</STRONG>\\xa0I am with Atechup Startup Workshops.\"\\xa0</I><I><I>-\\xa0</I>Elisabeth F. T.<BR><BR></I></P>\\n</LI>\\n<LI>\\n<P><I>\"Atechup Startup Workshops, is a visionary product, shaping\\xa0<STRONG>FUTURE</STRONG>\\xa0tomorrow\"\\xa0</I><I>- Cohen. A<BR><BR></I></P>\\n</LI>\\n<LI>\\n<P>\"<I>I am completely blown away by the\\xa0<STRONG>QUALITY</STRONG>\\xa0and generous material. Thank you very much\" -\\xa0</I><I>Steven\\xa0 D.<BR><BR></I></P>\\n</LI>\\n<LI>\\n<P><I>\"Your company is\\xa0<STRONG>TRULY</STRONG>\\xa0upstanding and\\xa0<STRONG>UNIQUE</STRONG>. I have gotten at least 50 times the\\xa0<STRONG>VALUE</STRONG>\\xa0from your Workshops.\" - Xinye T.<BR><BR></I></P>\\n</LI>\\n<LI>\\n<P><I>\"I have\\xa0<STRONG>FUNDED</STRONG>\\xa0my Startup with Series A for the first time and its all\\xa0<STRONG>THANKS</STRONG>\\xa0to Atechup workshops\" - F. Martinez</I></P>\\n</LI>\\n</UL>\\n<P><I><BR></I></P>\\n<P><I><IMG ALT=\"\" SRC=\"https://cdn.evbuc.com/eventlogos/231943413/1-2.jpg\"></I></P>\\n<P><STRONG>For more detailed information go to our website\\xa0<A HREF=\"https://www.atechup.com/\" TARGET=\"_blank\" REL=\"nofollow noopener noreferrer\">Atechup.com</A></STRONG><BR></P>\\n<P><STRONG>[This is an Online Web Workshop]</STRONG></P>',\n",
       "    'text': '\\nLearn to Develop a Successful Nursing Tech Startup Company Today!\\n\\nAlways wanted to start an tech startup? Now we have a complete blueprint\\xa0for you start your own Nursing tech startup.\\xa0During our tech startup program you will learn and navigate through\\xa0tools, software, hardware, platforms, resources, projects, processes, methods and strategies\\xa0to penetrate your own Nursing tech startup into the market.\\nDuring this Nursing Tech Startup Workshop we will cover:\\n\\nSession 1: Nursing Tech BasicsDuring this session we will explore the very foundation and the basic systems\\xa0and platforms for you to integrate into your own tech startup process.\\xa0\\n\\nNursing Hardware\\nNursing Software\\nNursing Platforms\\nNursing Projects\\nNursing Systems\\nNursing Blueprint\\nNursing Tools\\nNursing Resources\\n\\nSession 2: Nursing Tech Startup IdeasDuring this session we will explore tech startup ideas for you\\xa0to implement and integrate into your own tech startup or\\xa0use them as an inspirational source for developing your own\\xa0products, projects, prototypes or services in your tech startup\\n\\nE-Nursing:\\nHospital Synchronization Platform\\nMedical Cloud Journal System\\nHospital VR/AR Lab\\nPatience AI Assistant\\nHospital IoT Platform\\nHospital BD DC Platform\\nHospital Management System\\nPrescription App\\nNurse Staff Wearable\\nVR Nursery Educational Platform\\nNursery Staff Kiosk\\nPatient BioMonitoring\\nNursing Chatbot Support\\nAI Nursery Adviser\\nRobotic Nursery Assistant\\nNiche Disease Wearable\\nNursing Facility Cloud Management\\nNursery Telepresence System\\nNursery Care App\\nand much more\\n\\n\\nSession 3: R&DDuring this session we will explore the research process,\\xa0how you can research a specific niche industry, the market and tech trends.\\n\\nR&D/Research\\nR&D Tools\\nStartup Tools\\nMarket Research\\nSurveys\\nConsumer Analytics\\nMarket Analytics\\nIndustry Analytics\\nTrends Researching\\n\\n\\xa0\\nSession 4: Creativity\\nDuring this session we will explore the creativity process,\\xa0how to increase your own creativity intelligence and implement\\xa0quality tech ideas into your own tech startup process.\\n\\nCreativity Tools\\nCreativity Techniques\\nCreativity Strategy\\nMind mapping\\nBrainstorming\\nMeditation\\nIdea Exploring\\nIdea Blender\\nKey-Point System\\nProblem Solving Strategy\\nIncubation\\nCreative intelligence\\nOutside the Box Thinking\\nLateral Thinking\\nProductivity Tools\\nMind Relaxation\\nMeditation\\nHigher Consciousnesses\\nInspiration Tools\\nIdea Storage\\n\\n\\xa0\\n\\nSession 5: Capital/FundingDuring this session we will explore the capital and funding process\\xa0of your tech startup. How to raise capital and make systematic\\xa0attempts to penetrate into the market.\\n\\nCapital/Funding\\nCapital/Funding Tools\\nCapital/Funding Strategy\\nVenture Capitalists\\nAngel Investors\\nSeed Funding\\nIncubators\\nAccelerator Programs\\nCo-Founder\\nCapitalization Table\\nCrowdfunding\\nBusiness Trade Fairs\\n\\n\\xa0\\nSession 6: Clients/CustomersDuring this session we will explore the client acquisition process.\\xa0Find your first clients and customers for your tech startup and\\xa0implement the right tools, methods and strategies for creating\\xa0an successful sale system for your specific niche industry/technology.\\n\\nClients\\nClient Acquisition Strategy\\nClient Acquisition Process\\nPR Strategies\\nSocial Media Marketing\\nCompetitive Analysis\\nE-Mail Marketing\\nNewsletters\\nAnalytics\\nSEO\\nDigital Marketing\\nAd Systems\\nCompetitor Research\\nSale System\\nSale Strategy\\nGrowth Hacking\\nSales Funnel\\nEmail Hunting\\n\\n\\xa0\\nSession 7: Business PlatformDuring this session we will explore the business organizing process.\\xa0How to implement an organized and professional platform for your\\xa0tech startup for creating efficient workflow.\\n\\nBusiness Automation\\nBusiness Process\\nBusiness Strategy\\nBusiness Model\\nBusiness Management\\nERP\\nCRM\\nHuman Resources (HR)\\nRecruitment\\nIntranet\\nCollaboration\\nProject Management\\nDocument Management\\nCustomer Support\\nBusiness Automation Tools\\n\\n\\xa0\\nSession 8:\\xa0Business FormationDuring this session we will explore the business formation process.\\xa0Which platforms, models and tools to integrate into your tech startup\\xa0formation for creating an successful launch process.Business Formation\\n\\nLegal\\nContracts\\nBusiness Model\\nCorporate Structure\\nPayment Platforms\\nPayment Gateway\\nInvoicing System\\nCredit Cards/Payments\\nPricing Strategies\\nAccounting\\nSubscriptions\\nOffice Space\\nVirtual Address\\nVirtual Phone\\nVirtual Office\\nRemote Office\\nVirtual Assistant\\nVirtual Receptionist\\nVirtual Support\\nOutsourcing\\nProduct Demo\\nProduct Launch\\n\\n\\xa0\\nSession 9: Startup CodingDuring this session we will explore the coding process of your tech startup.Coding/Programming\\n\\nIDE\\nAPI\\nSDK\\nGUI\\nCode Analysis\\nData Visualization\\nPython\\nC#\\nForms\\nWireframing\\nFront-End\\nBack-End\\nLibrary\\nFrameworks\\nTesting\\nProgramming Platforms\\nProgramming Tools\\nAgile Development\\nSoftware Code Management\\n\\n\\xa0\\nSession 10: Startup\\xa0Hardware/PrototypingDuring this session we will explore the hardware and prototyping process\\xa0of your tech startup. Using different tools and platform to innovate\\xa0and integrate your own tech startup projects.\\n\\nElectronics\\nIoT\\nRaspberry Pi\\nArduino\\nMicrocontrollers\\nSensors\\nProjects\\nMicrochips\\nHardware Boards\\nHardware Tools\\nHardware Platform\\nPCB\\n3D Design\\n3D Models\\n3D Printing\\nDIY Tech\\nTech Lab\\nEmbedded Systems\\n\\n\\xa0\\nSession 11 : Startup IT OperationsDuring this session we will explore the IT infrastructure process of your tech startup.\\xa0Which platforms to use for setup an organized database system, cloud system and\\xa0other technical solutions for your tech startup to work efficiently\\n\\nIT Infrastructure\\nCloud\\nServers\\nDatabase\\nDevOps\\nMonitoring\\nRemote Access\\nBackup\\nTechnical Documentation\\nData Recovery\\nEncryption\\nSecurity\\nFTP\\nNAS\\nDeployment\\nVPN\\nVPS\\nAutomation\\nLog Management\\nNetworking\\nVirtualization\\n\\n\\xa0\\nSession 12 : Startup ConsultingDuring this session we will explore the consulting process for your tech startup.\\xa0An strategic approach, where you can receive more experience before you launch\\xa0your own specific products/projects.\\n\\nTech Startup Consulting\\nTech Consulting Services\\nTech Consulting Structure\\nTech Consulting Approach\\nTech Consulting Strategy\\nTech Consulting Contracts\\nTech Consulting Referrals\\nTech Consulting Portfolio\\nTech Consulting ISO\\nTech Consulting Integration\\nTech Consulting Projects\\n\\n\\xa0\\nSession 13 : Startup ManagementDuring this session we will explore management process of your tech startup.\\xa0How to manage your internal and external environments for increasing the\\xa0probability of your tech startup to succeed.\\n\\nTech Startup Management\\nMotivational Skills\\nTime Management\\nTeam Management\\nLeadership Skills\\nLearning Skills\\nGoal Setting Skills\\nDecision Making Skills\\nStress Management\\nCommunication Skills\\nProcrastination Hacks\\nProductivity Hacks\\nConfidence Hacks\\nGrowth Mindset Skills\\nProblem Solving Skills\\nAnalytical Skills\\nStrategic Thinking Skills\\nLearning Management\\n\\nSession 14: Tech WorkshopsDuring this session we will explore tech trends, emerging markets and disruptive technologies and future workshops\\n\\nFuture Workshops\\nDisruptive Technologies\\nEmerging Markets\\nEmerging Industries\\nTech Trends\\n\\n\\n\\n\\n\\n\\n\\n\\n\\n\\nFor more detailed information go to our website\\xa0Atechup.com\\n[This is an Online Web Workshop]\\n\\n\\n\\n\\n\\nWorkshop Curriculum\\n\\n\\nBasic Edition:\\xa0Tech Tools/System, Tech Startup Ideas, R&D, Startup Creativity, Startup Formation, Startup Automation.\\xa0Session 1-5.4 Hour Tech Startup Workshop\\nBusiness Edition:\\xa0Tech Tools/System, Tech Startup Ideas, R&D, Startup Creativity, Startup Formation, Startup Automation, Startup Capital/Funding, Startup Clients/Marketing, Startup Programming, Startup Prototyping/Hardware, Startup IT OperationsSession 1-12.12+ Hours of Tech Startup Workshops,On-Demand 30 Days\\xa0Streaming Access\\n\\n\\n\\nPremium Edition:\\xa0Tech Tools/System, Tech Startup Ideas, R&D, Startup Creativity, Startup Formation, Startup Automation, Startup Capital/Funding, Startup Clients/Marketing, Startup Coding/Programming, Startup Prototyping/Hardware, Startup IT Operations, Startup Management, Startup Consulting, Startup Workshops.Session 1-14. ALL Sessions.16+ Hours\\xa0of Tech Startup Workshops,On-Demand 6 Months Streaming Access24/7 VIP SupportCertification/DiplomaTech Entrepreneurship Bonus Material\\n\\n\\nGold Edition:\\xa0Everything included in the Premium Edition +\\xa0\\xa0Entrepreneur Starter Kit (1000+ PR Contact List PDF,\\xa01000+ Journalists/Tech Blogs Contact List PDF,\\xa01000+ Tech/Startup Slack Communities\\xa0List\\xa0PDF,\\xa02500+ Potential Customers/Clients Contact List PDF,\\xa02000+ Venture Capital/Startup Funding\\xa0List\\xa0PDF,\\xa01700+ Startup Accelerators\\xa0List\\xa0PDF)\\nTestimonials:\\n\\n\\n\"Atechup Startup Workshops is the most valuable business workshop we have\\xa0EVER\\xa0purchased.\"\\xa0- Johnny M.\\n\\n\\n\"Not able to tell you how\\xa0HAPPY\\xa0I am with Atechup Startup Workshops.\"\\xa0-\\xa0Elisabeth F. T.\\n\\n\\n\"Atechup Startup Workshops, is a visionary product, shaping\\xa0FUTURE\\xa0tomorrow\"\\xa0- Cohen. A\\n\\n\\n\"I am completely blown away by the\\xa0QUALITY\\xa0and generous material. Thank you very much\" -\\xa0Steven\\xa0 D.\\n\\n\\n\"Your company is\\xa0TRULY\\xa0upstanding and\\xa0UNIQUE. I have gotten at least 50 times the\\xa0VALUE\\xa0from your Workshops.\" - Xinye T.\\n\\n\\n\"I have\\xa0FUNDED\\xa0my Startup with Series A for the first time and its all\\xa0THANKS\\xa0to Atechup workshops\" - F. Martinez\\n\\n\\n\\n\\nFor more detailed information go to our website\\xa0Atechup.com\\n[This is an Online Web Workshop]'},\n",
       "   'end': {'local': '2019-02-24T17:00:00',\n",
       "    'timezone': 'Australia/Melbourne',\n",
       "    'utc': '2019-02-24T06:00:00Z'},\n",
       "   'format_id': '9',\n",
       "   'hide_end_date': False,\n",
       "   'hide_start_date': False,\n",
       "   'id': '54257161631',\n",
       "   'inventory_type': 'limited',\n",
       "   'is_externally_ticketed': False,\n",
       "   'is_free': False,\n",
       "   'is_locked': False,\n",
       "   'is_reserved_seating': False,\n",
       "   'is_series': True,\n",
       "   'is_series_parent': False,\n",
       "   'listed': True,\n",
       "   'locale': 'en_US',\n",
       "   'logo': {'aspect_ratio': '2',\n",
       "    'crop_mask': {'height': 400, 'top_left': {'x': 0, 'y': 0}, 'width': 800},\n",
       "    'edge_color': '#a7a8aa',\n",
       "    'edge_color_set': True,\n",
       "    'id': '54468390',\n",
       "    'original': {'height': 400,\n",
       "     'url': 'https://img.evbuc.com/https%3A%2F%2Fcdn.evbuc.com%2Fimages%2F54468390%2F233567016891%2F1%2Foriginal.20190101-114848?auto=compress&s=f054ae75150e346570aa41892056f09b',\n",
       "     'width': 800},\n",
       "    'url': 'https://img.evbuc.com/https%3A%2F%2Fcdn.evbuc.com%2Fimages%2F54468390%2F233567016891%2F1%2Foriginal.20190101-114848?h=200&w=450&auto=compress&rect=0%2C0%2C800%2C400&s=58d0f4027cf04f7e9ad3a577811a62d6'},\n",
       "   'logo_id': '54468390',\n",
       "   'name': {'html': 'Develop a Successful Smart Nursing Tech Startup Business! Melbourne - Entrepreneur - Workshop - Hackathon - Bootcamp - Virtual Class - Seminar - Training - Lecture - Webinar - Conference - Course',\n",
       "    'text': 'Develop a Successful Smart Nursing Tech Startup Business! Melbourne - Entrepreneur - Workshop - Hackathon - Bootcamp - Virtual Class - Seminar - Training - Lecture - Webinar - Conference - Course'},\n",
       "   'online_event': False,\n",
       "   'organization_id': '233567016891',\n",
       "   'organizer_id': '15646132597',\n",
       "   'privacy_setting': 'unlocked',\n",
       "   'resource_uri': 'https://www.eventbriteapi.com/v3/events/54257161631/',\n",
       "   'series_id': '43598618642',\n",
       "   'shareable': True,\n",
       "   'show_colors_in_seatmap_thumbnail': False,\n",
       "   'show_pick_a_seat': False,\n",
       "   'show_seatmap_thumbnail': False,\n",
       "   'source': 'create_2.0',\n",
       "   'start': {'local': '2019-02-24T13:00:00',\n",
       "    'timezone': 'Australia/Melbourne',\n",
       "    'utc': '2019-02-24T02:00:00Z'},\n",
       "   'status': 'live',\n",
       "   'subcategory_id': '1001',\n",
       "   'tx_time_limit': 600,\n",
       "   'url': 'https://www.eventbrite.com/e/develop-a-successful-smart-nursing-tech-startup-business-melbourne-entrepreneur-workshop-hackathon-tickets-54257161631?aff=ebapi',\n",
       "   'venue_id': '26940246',\n",
       "   'version': '3.0.0'},\n",
       "  {'capacity': None,\n",
       "   'capacity_is_custom': None,\n",
       "   'category_id': '101',\n",
       "   'changed': '2019-01-30T15:29:12Z',\n",
       "   'created': '2018-11-18T16:43:07Z',\n",
       "   'currency': 'USD',\n",
       "   'description': {'html': '<H2><IMG SRC=\"https://cdn.evbuc.com/eventlogos/231943413/drone-1.jpg\"></H2>\\n<H2>Learn to Develop a Successful Drone Startup Company Today!</H2>\\n<H2><BR></H2>\\n<P>Always wanted to start an tech startup? Want to be the next Steve Jobs or Elon musk? Now we have a complete blueprint\\xa0for you start your own Drone Tech Startup. This program will boost you innovating, investor, management and entrepreneurship skills. During our tech startup program you will learn and navigate through\\xa0tools, software, hardware, platforms, resources, projects, processes, methods and strategies\\xa0to penetrate your own\\xa0Drone Startup into the market.</P>\\n<P><BR></P>\\n<UL>\\n<LI>Accomplish 10X Performance Results compared to other Startups</LI>\\n<LI>Receive 10X Return Of Investment (ROI) than a college education</LI>\\n<LI>Our Tech Startup Program contains jam-packed with practical market &amp; industry insights</LI>\\n<LI>Our team has done the market/industry research so you won\\'t need to,</LI>\\n<LI>Save 10X of Your Time</LI>\\n<LI>Learn to Develop a Six-Figure Tech Startup from Scratch</LI>\\n<LI>Discover the Potential with\\xa0Emerging Technologies</LI>\\n<LI>Get a foot into a Billion Dollar Industry</LI>\\n<LI>Full\\xa0Tech Startup Mentorship</LI>\\n<LI>Tech Entrepreneurship Certification/Diploma</LI>\\n<LI>Go From Beginner To Advanced Entrepreneur in No Time</LI>\\n<LI>Step by Step Instructions</LI>\\n<LI>Complete Tech Startup Business Setup: From Zero To Hero In No Time</LI>\\n<LI>No Previous programming or tech background needed\\xa0except an open mindset</LI>\\n<LI>Generate sales in a B2B environment</LI>\\n<LI>Get a holistic\\xa0overview of different tech startup processes</LI>\\n<LI>Discover new strategies and perspectives on developing your startup</LI>\\n<LI>Increase Your\\xa0Creativity &amp; Innovation IQ<BR><BR><BR></LI>\\n</UL>\\n<H3><IMG SRC=\"https://cdn.evbuc.com/eventlogos/231943413/11.jpg\"></H3>\\n<P><BR></P>\\n<H3><BR>During this Drone startup workshop we will cover:</H3>\\n<H3><BR></H3>\\n<P><STRONG>Session 1: Drone Basics</STRONG><BR>During this session we will explore the very foundation and the basic systems\\xa0and platforms for you to integrate into your own tech startup process.\\xa0<BR></P>\\n<UL>\\n<LI>Drone Hardware</LI>\\n<LI>Drone Software</LI>\\n<LI>Drone\\xa0\\xa0Platforms</LI>\\n<LI>Drone Projects</LI>\\n<LI>Drone Systems</LI>\\n<LI>Drone Blueprint</LI>\\n<LI>Drone Tools</LI>\\n<LI>Drone Resources<BR><BR><BR></LI>\\n</UL>\\n<P><BR><STRONG>Session 2:\\xa0Tech Startup Ideas</STRONG><BR>During this session we will explore tech startup ideas for you\\xa0to implement and integrate into your own tech startup or\\xa0use them as an inspirational source for developing your own\\xa0products, projects, prototypes or services in your tech startup<BR>Tech Startup Ideas:<BR></P>\\n<UL>\\n<LI>Emergency Drone</LI>\\n<LI>Agricultural Drone</LI>\\n<LI>GeoUAV</LI>\\n<LI>Avatar Remote Work</LI>\\n<LI>Logistical Systems</LI>\\n<LI>Food Delivery</LI>\\n<LI>3D Mapping</LI>\\n<LI>Live Streaming</LI>\\n<LI>Security Industry</LI>\\n<LI>EcoMonitoring</LI>\\n<LI>Entertainment Industry</LI>\\n<LI>Fishing &amp; Foresty Industry</LI>\\n<LI>Traffic Management</LI>\\n<LI>Construction Industry</LI>\\n<LI>UAV Recording</LI>\\n<LI>and much more<BR><BR><BR></LI>\\n</UL>\\n<P><STRONG>Session 3: R&D</STRONG><BR>During this session we will explore the research process,\\xa0how you can research a specific niche industry, the market and tech trends.<BR></P>\\n<UL>\\n<LI>R&D/Research</LI>\\n<LI>R&D Tools</LI>\\n<LI>Startup Tools</LI>\\n<LI>Market Research</LI>\\n<LI>Surveys</LI>\\n<LI>Consumer Analytics</LI>\\n<LI>Market Analytics</LI>\\n<LI>Industry Analytics</LI>\\n<LI>Trends Researching<BR><BR><BR></LI>\\n</UL>\\n<P>\\xa0</P>\\n<P><STRONG>Session 4: Creativity</STRONG></P>\\n<P>During this session we will explore the creativity process,\\xa0how to increase your own creativity intelligence and implement\\xa0quality tech ideas into your own tech startup process.<BR></P>\\n<UL>\\n<LI>Creativity Tools</LI>\\n<LI>Creativity Techniques</LI>\\n<LI>Creativity Strategy</LI>\\n<LI>Mind mapping</LI>\\n<LI>Brainstorming</LI>\\n<LI>Meditation</LI>\\n<LI>Idea Exploring</LI>\\n<LI>Idea Blender</LI>\\n<LI>Key-Point System</LI>\\n<LI>Problem Solving Strategy</LI>\\n<LI>Incubation</LI>\\n<LI>Creative intelligence</LI>\\n<LI>Outside the Box Thinking</LI>\\n<LI>Lateral Thinking</LI>\\n<LI>Productivity Tools</LI>\\n<LI>Mind Relaxation</LI>\\n<LI>Meditation</LI>\\n<LI>Higher Consciousnesses</LI>\\n<LI>Inspiration Tools</LI>\\n<LI>Idea Storage<BR><BR></LI>\\n</UL>\\n<P>\\xa0</P>\\n<P><STRONG>Session 5: Capital/Funding</STRONG><BR>During this session we will explore the capital and funding process\\xa0of your tech startup. How to raise capital and make systematic\\xa0attempts to penetrate into the market.<BR></P>\\n<UL>\\n<LI>Capital/Funding</LI>\\n<LI>Capital/Funding Tools</LI>\\n<LI>Capital/Funding Strategy</LI>\\n<LI>Venture Capitalists</LI>\\n<LI>Angel Investors</LI>\\n<LI>Seed Funding</LI>\\n<LI>Incubators</LI>\\n<LI>Accelerator Programs</LI>\\n<LI>Co-Founder</LI>\\n<LI>Capitalization Table</LI>\\n<LI>Crowdfunding</LI>\\n<LI>Business Trade Fairs<BR><BR></LI>\\n</UL>\\n<P>\\xa0</P>\\n<P><STRONG><IMG SRC=\"https://cdn.evbuc.com/eventlogos/231943413/capitalx4.jpg\"></STRONG></P>\\n<P><BR></P>\\n<P><STRONG>Session 6: Clients/Customers</STRONG><BR>During this session we will explore the client acquisition process.\\xa0Find your first clients and customers for your tech startup and\\xa0implement the right tools, methods and strategies for creating\\xa0an successful sale system for your specific niche industry/technology.<BR></P>\\n<UL>\\n<LI>Clients</LI>\\n<LI>Client Acquisition Strategy</LI>\\n<LI>Client Acquisition Process</LI>\\n<LI>PR Strategies</LI>\\n<LI>Social Media Marketing</LI>\\n<LI>Competitive Analysis</LI>\\n<LI>E-Mail Marketing</LI>\\n<LI>Newsletters</LI>\\n<LI>Analytics</LI>\\n<LI>SEO</LI>\\n<LI>Digital Marketing</LI>\\n<LI>Ad Systems</LI>\\n<LI>Competitor Research</LI>\\n<LI>Sale System</LI>\\n<LI>Sale Strategy</LI>\\n<LI>Growth Hacking</LI>\\n<LI>Sales Funnel</LI>\\n<LI>Email Hunting<BR><BR></LI>\\n</UL>\\n<P>\\xa0</P>\\n<P><STRONG>Session 7: Business Platform</STRONG><BR>During this session we will explore the business organizing process.\\xa0How to implement an organized and professional platform for your\\xa0tech startup for creating efficient workflow.<BR><BR></P>\\n<UL>\\n<LI>Business Automation</LI>\\n<LI>Business Process</LI>\\n<LI>Business Strategy</LI>\\n<LI>Business Model</LI>\\n<LI>Business Management</LI>\\n<LI>ERP</LI>\\n<LI>CRM</LI>\\n<LI>Human Resources (HR)</LI>\\n<LI>Recruitment</LI>\\n<LI>Intranet</LI>\\n<LI>Collaboration</LI>\\n<LI>Project Management</LI>\\n<LI>Document Management</LI>\\n<LI>Customer Support</LI>\\n<LI>Business Automation Tools<BR><BR></LI>\\n</UL>\\n<P>\\xa0</P>\\n<P><STRONG>Session 8:\\xa0<STRONG>Business Formation</STRONG></STRONG><BR>During this session we will explore the business formation process.\\xa0Which platforms, models and tools to integrate into your tech startup\\xa0formation for creating an successful launch process.<BR>Business Formation<BR></P>\\n<UL>\\n<LI>Legal</LI>\\n<LI>Contracts</LI>\\n<LI>Business Model</LI>\\n<LI>Corporate Structure</LI>\\n<LI>Payment Platforms</LI>\\n<LI>Payment Gateway</LI>\\n<LI>Invoicing System</LI>\\n<LI>Credit Cards/Payments</LI>\\n<LI>Pricing Strategies</LI>\\n<LI>Accounting</LI>\\n<LI>Subscriptions</LI>\\n<LI>Office Space</LI>\\n<LI>Virtual Address</LI>\\n<LI>Virtual Phone</LI>\\n<LI>Virtual Office</LI>\\n<LI>Remote Office</LI>\\n<LI>Virtual Assistant</LI>\\n<LI>Virtual Receptionist</LI>\\n<LI>Virtual Support</LI>\\n<LI>Outsourcing</LI>\\n<LI>Product Demo</LI>\\n<LI>Product Launch<BR><BR></LI>\\n</UL>\\n<P>\\xa0</P>\\n<P><STRONG>Session 9: Startup Coding</STRONG><BR>During this session we will explore the coding process of your tech startup.<BR>Coding/Programming<BR></P>\\n<UL>\\n<LI>IDE</LI>\\n<LI>API</LI>\\n<LI>SDK</LI>\\n<LI>GUI</LI>\\n<LI>Code Analysis</LI>\\n<LI>Data Visualization</LI>\\n<LI>Python</LI>\\n<LI>C#</LI>\\n<LI>Forms</LI>\\n<LI>Wireframing</LI>\\n<LI>Front-End</LI>\\n<LI>Back-End</LI>\\n<LI>Library</LI>\\n<LI>Frameworks</LI>\\n<LI>Testing</LI>\\n<LI>Programming Platforms</LI>\\n<LI>Programming Tools</LI>\\n<LI>Agile Development</LI>\\n<LI>Software Code Management<BR><BR></LI>\\n</UL>\\n<P>\\xa0</P>\\n<P><STRONG>Session 10: Startup\\xa0Hardware/Prototyping</STRONG><BR>During this session we will explore the hardware and prototyping process\\xa0of your tech startup. Using different tools and platform to innovate\\xa0and integrate your own tech startup projects.<BR><BR></P>\\n<UL>\\n<LI>Electronics</LI>\\n<LI>IoT</LI>\\n<LI>Raspberry Pi</LI>\\n<LI>Arduino</LI>\\n<LI>Microcontrollers</LI>\\n<LI>Sensors</LI>\\n<LI>Projects</LI>\\n<LI>Microchips</LI>\\n<LI>Hardware Boards</LI>\\n<LI>Hardware Tools</LI>\\n<LI>Hardware Platform</LI>\\n<LI>PCB</LI>\\n<LI>3D Design</LI>\\n<LI>3D Models</LI>\\n<LI>3D Printing</LI>\\n<LI>DIY Tech</LI>\\n<LI>Tech Lab</LI>\\n<LI>Embedded Systems<BR><BR><BR></LI>\\n</UL>\\n<P>\\xa0</P>\\n<P><STRONG>Session 11 : Startup IT Operations</STRONG><BR>During this session we will explore the IT infrastructure process of your tech startup.\\xa0Which platforms to use for setup an organized database system, cloud system and\\xa0other technical solutions for your tech startup to work efficiently<BR></P>\\n<UL>\\n<LI>IT Infrastructure</LI>\\n<LI>Cloud</LI>\\n<LI>Servers</LI>\\n<LI>Database</LI>\\n<LI>DevOps</LI>\\n<LI>Monitoring</LI>\\n<LI>Remote Access</LI>\\n<LI>Backup</LI>\\n<LI>Technical Documentation</LI>\\n<LI>Data Recovery</LI>\\n<LI>Encryption</LI>\\n<LI>Security</LI>\\n<LI>FTP</LI>\\n<LI>NAS</LI>\\n<LI>Deployment</LI>\\n<LI>VPN</LI>\\n<LI>VPS</LI>\\n<LI>Automation</LI>\\n<LI>Log Management</LI>\\n<LI>Networking</LI>\\n<LI>Virtualization<BR><BR></LI>\\n</UL>\\n<P>\\xa0</P>\\n<P><STRONG>Session 12 : Startup Consulting</STRONG><BR>During this session we will explore the consulting process for your tech startup.\\xa0An strategic approach, where you can receive more experience before you launch\\xa0your own specific products/projects.<BR></P>\\n<UL>\\n<LI>Tech Startup Consulting</LI>\\n<LI>Tech Consulting Services</LI>\\n<LI>Tech Consulting Structure</LI>\\n<LI>Tech Consulting Approach</LI>\\n<LI>Tech Consulting Strategy</LI>\\n<LI>Tech Consulting Contracts</LI>\\n<LI>Tech Consulting Referrals</LI>\\n<LI>Tech Consulting Portfolio</LI>\\n<LI>Tech Consulting ISO</LI>\\n<LI>Tech Consulting Integration</LI>\\n<LI>Tech Consulting Projects<BR><BR><BR></LI>\\n</UL>\\n<P>\\xa0</P>\\n<P><STRONG><IMG SRC=\"https://cdn.evbuc.com/eventlogos/231943413/startupscience.jpg\"></STRONG></P>\\n<P><BR></P>\\n<P><STRONG>Session 13 : Startup Management</STRONG><BR>During this session we will explore management process of your tech startup.\\xa0How to manage your internal and external environments for increasing the\\xa0probability of your tech startup to succeed.<BR></P>\\n<UL>\\n<LI>Tech Startup Management</LI>\\n<LI>Motivational Skills</LI>\\n<LI>Time Management</LI>\\n<LI>Team Management</LI>\\n<LI>Leadership Skills</LI>\\n<LI>Learning Skills</LI>\\n<LI>Goal Setting Skills</LI>\\n<LI>Decision Making Skills</LI>\\n<LI>Stress Management</LI>\\n<LI>Communication Skills</LI>\\n<LI>Procrastination Hacks</LI>\\n<LI>Productivity Hacks</LI>\\n<LI>Confidence Hacks</LI>\\n<LI>Growth Mindset Skills</LI>\\n<LI>Problem Solving Skills</LI>\\n<LI>Analytical Skills</LI>\\n<LI>Strategic Thinking Skills</LI>\\n<LI>Learning Management<BR><BR></LI>\\n</UL>\\n<P><STRONG>Session 14: Tech Workshops<BR></STRONG>During this session we will explore tech trends, emerging markets and disruptive technologies and future workshops</P>\\n<UL>\\n<LI>Future Workshops</LI>\\n<LI>Disruptive Technologies</LI>\\n<LI>Emerging Markets</LI>\\n<LI>Emerging Industries</LI>\\n<LI>Tech Trends<BR><BR></LI>\\n</UL>\\n<H3><BR></H3>\\n<P><BR></P>\\n<P><IMG SRC=\"https://cdn.evbuc.com/eventlogos/231943413/entrepreneurship.jpg\"></P>\\n<P><STRONG><BR></STRONG></P>\\n<DIV CLASS=\"g-group l-lg-mar-bot-6 l-md-mar-bot-4 l-pad-bot-6\">\\n<DIV CLASS=\"g-cell g-cell-10-12 g-cell-md-1-1\">\\n<DIV CLASS=\"has-user-generated-content js-d-read-more read-more js-read-more read-more--medium-down read-more--expanded\">\\n<DIV CLASS=\"js-xd-read-more-toggle-view read-more__toggle-view\">\\n<DIV CLASS=\"js-xd-read-more-contents l-mar-top-3\">\\n<P><STRONG>For more detailed information go to our website\\xa0<A HREF=\"https://www.atechup.com/\" TARGET=\"_blank\" REL=\"nofollow noopener noreferrer\">Atechup.com</A></STRONG><BR></P>\\n<P><STRONG>[This is an Online Web Workshop]<BR><BR></STRONG></P>\\n</DIV>\\n</DIV>\\n</DIV>\\n</DIV>\\n</DIV>\\n<H2><STRONG><BR>Workshop Curriculum</STRONG></H2>\\n<DIV><BR></DIV>\\n<UL>\\n<LI><STRONG>Basic Edition:</STRONG>\\xa0Tech Tools/System, Tech Startup Ideas, R&D, Startup Creativity, Startup Formation, Startup Automation.\\xa0Session 1-5.<BR>4 Hour Tech Startup Workshop<BR><BR></LI>\\n<LI><STRONG>Business Edition:</STRONG>\\xa0Tech Tools/System, Tech Startup Ideas, R&D, Startup Creativity, Startup Formation, Startup Automation, Startup Capital/Funding, Startup Clients/Marketing, Startup Programming, Startup Prototyping/Hardware, Startup IT Operations<BR>Session 1-12.<BR>12+ Hours of Tech Startup Workshops,<BR>On-Demand 30 Days\\xa0Streaming Access</LI>\\n</UL>\\n<UL>\\n<LI>\\n<P><STRONG>Premium Edition:</STRONG>\\xa0Tech Tools/System, Tech Startup Ideas, R&D, Startup Creativity, Startup Formation, Startup Automation, Startup Capital/Funding, Startup Clients/Marketing, Startup Coding/Programming, Startup Prototyping/Hardware, Startup IT Operations, Startup Management, Startup Consulting, Startup Workshops.<BR>Session 1-14. ALL Sessions.<BR>16+ Hours\\xa0of Tech Startup Workshops,<BR>On-Demand 6 Months Streaming Access<BR>24/7 VIP Support<BR>Certification/Diploma<BR>Tech Entrepreneurship Bonus Material<BR><BR></P>\\n</LI>\\n<LI>\\n<P><STRONG>Gold Edition:\\xa0</STRONG>Everything included in the Premium Edition +\\xa0\\xa0<SPAN CLASS=\"oneComWebmail-font\">Entrepreneur Starter Kit (</SPAN><SPAN CLASS=\"oneComWebmail-font\">1000+ PR Contact List PDF,\\xa0</SPAN>1000+ Journalists/Tech Blogs Contact List PDF,\\xa01000+ Tech/Startup Slack Communities\\xa0List\\xa0PDF,\\xa02500+ Potential Customers/Clients Contact List PDF,\\xa02000+ Venture Capital/Startup Funding\\xa0List\\xa0PDF,\\xa01700+ Startup Accelerators\\xa0List\\xa0PDF)</P>\\n<P><BR><BR><IMG SRC=\"https://cdn.evbuc.com/eventlogos/231943413/testimonial.jpg\"><STRONG><BR>Testimonials:</STRONG></P>\\n</LI>\\n<LI>\\n<P><I>\"Atechup Startup Workshops is the most valuable business workshop we have\\xa0<STRONG>EVER</STRONG>\\xa0purchased.\"\\xa0- Johnny M.<BR><BR></I></P>\\n</LI>\\n<LI>\\n<P><I>\"Not able to tell you how\\xa0<STRONG>HAPPY</STRONG>\\xa0I am with Atechup Startup Workshops.\"\\xa0</I><I><I>-\\xa0</I>Elisabeth F. T.<BR><BR></I></P>\\n</LI>\\n<LI>\\n<P><I>\"Atechup Startup Workshops, is a visionary product, shaping\\xa0<STRONG>FUTURE</STRONG>\\xa0tomorrow\"\\xa0</I><I>- Cohen. A<BR><BR></I></P>\\n</LI>\\n<LI>\\n<P>\"<I>I am completely blown away by the\\xa0<STRONG>QUALITY</STRONG>\\xa0and generous material. Thank you very much\" -\\xa0</I><I>Steven\\xa0 D.<BR><BR></I></P>\\n</LI>\\n<LI>\\n<P><I>\"Your company is\\xa0<STRONG>TRULY</STRONG>\\xa0upstanding and\\xa0<STRONG>UNIQUE</STRONG>. I have gotten at least 50 times the\\xa0<STRONG>VALUE</STRONG>\\xa0from your Workshops.\" - Xinye T.<BR><BR></I></P>\\n</LI>\\n<LI>\\n<P><I>\"I have\\xa0<STRONG>FUNDED</STRONG>\\xa0my Startup with Series A for the first time and its all\\xa0<STRONG>THANKS</STRONG>\\xa0to Atechup workshops\" - F. Martinez</I></P>\\n</LI>\\n</UL>\\n<P><I><BR></I></P>\\n<P><I><IMG ALT=\"\" SRC=\"https://cdn.evbuc.com/eventlogos/231943413/1-2.jpg\"></I></P>\\n<P><STRONG>For more detailed information go to our website\\xa0<A HREF=\"https://www.atechup.com/\" TARGET=\"_blank\" REL=\"nofollow noopener noreferrer\">Atechup.com<BR></A></STRONG><STRONG></STRONG></P>\\n<P><STRONG>[This is an Online Web Workshop]</STRONG></P>',\n",
       "    'text': '\\nLearn to Develop a Successful Drone Startup Company Today!\\n\\nAlways wanted to start an tech startup? Want to be the next Steve Jobs or Elon musk? Now we have a complete blueprint\\xa0for you start your own Drone Tech Startup. This program will boost you innovating, investor, management and entrepreneurship skills. During our tech startup program you will learn and navigate through\\xa0tools, software, hardware, platforms, resources, projects, processes, methods and strategies\\xa0to penetrate your own\\xa0Drone Startup into the market.\\n\\n\\nAccomplish 10X Performance Results compared to other Startups\\nReceive 10X Return Of Investment (ROI) than a college education\\nOur Tech Startup Program contains jam-packed with practical market & industry insights\\nOur team has done the market/industry research so you won\\'t need to,\\nSave 10X of Your Time\\nLearn to Develop a Six-Figure Tech Startup from Scratch\\nDiscover the Potential with\\xa0Emerging Technologies\\nGet a foot into a Billion Dollar Industry\\nFull\\xa0Tech Startup Mentorship\\nTech Entrepreneurship Certification/Diploma\\nGo From Beginner To Advanced Entrepreneur in No Time\\nStep by Step Instructions\\nComplete Tech Startup Business Setup: From Zero To Hero In No Time\\nNo Previous programming or tech background needed\\xa0except an open mindset\\nGenerate sales in a B2B environment\\nGet a holistic\\xa0overview of different tech startup processes\\nDiscover new strategies and perspectives on developing your startup\\nIncrease Your\\xa0Creativity & Innovation IQ\\n\\n\\n\\nDuring this Drone startup workshop we will cover:\\n\\nSession 1: Drone BasicsDuring this session we will explore the very foundation and the basic systems\\xa0and platforms for you to integrate into your own tech startup process.\\xa0\\n\\nDrone Hardware\\nDrone Software\\nDrone\\xa0\\xa0Platforms\\nDrone Projects\\nDrone Systems\\nDrone Blueprint\\nDrone Tools\\nDrone Resources\\n\\nSession 2:\\xa0Tech Startup IdeasDuring this session we will explore tech startup ideas for you\\xa0to implement and integrate into your own tech startup or\\xa0use them as an inspirational source for developing your own\\xa0products, projects, prototypes or services in your tech startupTech Startup Ideas:\\n\\nEmergency Drone\\nAgricultural Drone\\nGeoUAV\\nAvatar Remote Work\\nLogistical Systems\\nFood Delivery\\n3D Mapping\\nLive Streaming\\nSecurity Industry\\nEcoMonitoring\\nEntertainment Industry\\nFishing & Foresty Industry\\nTraffic Management\\nConstruction Industry\\nUAV Recording\\nand much more\\n\\nSession 3: R&DDuring this session we will explore the research process,\\xa0how you can research a specific niche industry, the market and tech trends.\\n\\nR&D/Research\\nR&D Tools\\nStartup Tools\\nMarket Research\\nSurveys\\nConsumer Analytics\\nMarket Analytics\\nIndustry Analytics\\nTrends Researching\\n\\n\\xa0\\nSession 4: Creativity\\nDuring this session we will explore the creativity process,\\xa0how to increase your own creativity intelligence and implement\\xa0quality tech ideas into your own tech startup process.\\n\\nCreativity Tools\\nCreativity Techniques\\nCreativity Strategy\\nMind mapping\\nBrainstorming\\nMeditation\\nIdea Exploring\\nIdea Blender\\nKey-Point System\\nProblem Solving Strategy\\nIncubation\\nCreative intelligence\\nOutside the Box Thinking\\nLateral Thinking\\nProductivity Tools\\nMind Relaxation\\nMeditation\\nHigher Consciousnesses\\nInspiration Tools\\nIdea Storage\\n\\n\\xa0\\nSession 5: Capital/FundingDuring this session we will explore the capital and funding process\\xa0of your tech startup. How to raise capital and make systematic\\xa0attempts to penetrate into the market.\\n\\nCapital/Funding\\nCapital/Funding Tools\\nCapital/Funding Strategy\\nVenture Capitalists\\nAngel Investors\\nSeed Funding\\nIncubators\\nAccelerator Programs\\nCo-Founder\\nCapitalization Table\\nCrowdfunding\\nBusiness Trade Fairs\\n\\n\\xa0\\n\\n\\nSession 6: Clients/CustomersDuring this session we will explore the client acquisition process.\\xa0Find your first clients and customers for your tech startup and\\xa0implement the right tools, methods and strategies for creating\\xa0an successful sale system for your specific niche industry/technology.\\n\\nClients\\nClient Acquisition Strategy\\nClient Acquisition Process\\nPR Strategies\\nSocial Media Marketing\\nCompetitive Analysis\\nE-Mail Marketing\\nNewsletters\\nAnalytics\\nSEO\\nDigital Marketing\\nAd Systems\\nCompetitor Research\\nSale System\\nSale Strategy\\nGrowth Hacking\\nSales Funnel\\nEmail Hunting\\n\\n\\xa0\\nSession 7: Business PlatformDuring this session we will explore the business organizing process.\\xa0How to implement an organized and professional platform for your\\xa0tech startup for creating efficient workflow.\\n\\nBusiness Automation\\nBusiness Process\\nBusiness Strategy\\nBusiness Model\\nBusiness Management\\nERP\\nCRM\\nHuman Resources (HR)\\nRecruitment\\nIntranet\\nCollaboration\\nProject Management\\nDocument Management\\nCustomer Support\\nBusiness Automation Tools\\n\\n\\xa0\\nSession 8:\\xa0Business FormationDuring this session we will explore the business formation process.\\xa0Which platforms, models and tools to integrate into your tech startup\\xa0formation for creating an successful launch process.Business Formation\\n\\nLegal\\nContracts\\nBusiness Model\\nCorporate Structure\\nPayment Platforms\\nPayment Gateway\\nInvoicing System\\nCredit Cards/Payments\\nPricing Strategies\\nAccounting\\nSubscriptions\\nOffice Space\\nVirtual Address\\nVirtual Phone\\nVirtual Office\\nRemote Office\\nVirtual Assistant\\nVirtual Receptionist\\nVirtual Support\\nOutsourcing\\nProduct Demo\\nProduct Launch\\n\\n\\xa0\\nSession 9: Startup CodingDuring this session we will explore the coding process of your tech startup.Coding/Programming\\n\\nIDE\\nAPI\\nSDK\\nGUI\\nCode Analysis\\nData Visualization\\nPython\\nC#\\nForms\\nWireframing\\nFront-End\\nBack-End\\nLibrary\\nFrameworks\\nTesting\\nProgramming Platforms\\nProgramming Tools\\nAgile Development\\nSoftware Code Management\\n\\n\\xa0\\nSession 10: Startup\\xa0Hardware/PrototypingDuring this session we will explore the hardware and prototyping process\\xa0of your tech startup. Using different tools and platform to innovate\\xa0and integrate your own tech startup projects.\\n\\nElectronics\\nIoT\\nRaspberry Pi\\nArduino\\nMicrocontrollers\\nSensors\\nProjects\\nMicrochips\\nHardware Boards\\nHardware Tools\\nHardware Platform\\nPCB\\n3D Design\\n3D Models\\n3D Printing\\nDIY Tech\\nTech Lab\\nEmbedded Systems\\n\\n\\xa0\\nSession 11 : Startup IT OperationsDuring this session we will explore the IT infrastructure process of your tech startup.\\xa0Which platforms to use for setup an organized database system, cloud system and\\xa0other technical solutions for your tech startup to work efficiently\\n\\nIT Infrastructure\\nCloud\\nServers\\nDatabase\\nDevOps\\nMonitoring\\nRemote Access\\nBackup\\nTechnical Documentation\\nData Recovery\\nEncryption\\nSecurity\\nFTP\\nNAS\\nDeployment\\nVPN\\nVPS\\nAutomation\\nLog Management\\nNetworking\\nVirtualization\\n\\n\\xa0\\nSession 12 : Startup ConsultingDuring this session we will explore the consulting process for your tech startup.\\xa0An strategic approach, where you can receive more experience before you launch\\xa0your own specific products/projects.\\n\\nTech Startup Consulting\\nTech Consulting Services\\nTech Consulting Structure\\nTech Consulting Approach\\nTech Consulting Strategy\\nTech Consulting Contracts\\nTech Consulting Referrals\\nTech Consulting Portfolio\\nTech Consulting ISO\\nTech Consulting Integration\\nTech Consulting Projects\\n\\n\\xa0\\n\\n\\nSession 13 : Startup ManagementDuring this session we will explore management process of your tech startup.\\xa0How to manage your internal and external environments for increasing the\\xa0probability of your tech startup to succeed.\\n\\nTech Startup Management\\nMotivational Skills\\nTime Management\\nTeam Management\\nLeadership Skills\\nLearning Skills\\nGoal Setting Skills\\nDecision Making Skills\\nStress Management\\nCommunication Skills\\nProcrastination Hacks\\nProductivity Hacks\\nConfidence Hacks\\nGrowth Mindset Skills\\nProblem Solving Skills\\nAnalytical Skills\\nStrategic Thinking Skills\\nLearning Management\\n\\nSession 14: Tech WorkshopsDuring this session we will explore tech trends, emerging markets and disruptive technologies and future workshops\\n\\nFuture Workshops\\nDisruptive Technologies\\nEmerging Markets\\nEmerging Industries\\nTech Trends\\n\\n\\n\\n\\n\\n\\n\\n\\n\\n\\nFor more detailed information go to our website\\xa0Atechup.com\\n[This is an Online Web Workshop]\\n\\n\\n\\n\\n\\nWorkshop Curriculum\\n\\n\\nBasic Edition:\\xa0Tech Tools/System, Tech Startup Ideas, R&D, Startup Creativity, Startup Formation, Startup Automation.\\xa0Session 1-5.4 Hour Tech Startup Workshop\\nBusiness Edition:\\xa0Tech Tools/System, Tech Startup Ideas, R&D, Startup Creativity, Startup Formation, Startup Automation, Startup Capital/Funding, Startup Clients/Marketing, Startup Programming, Startup Prototyping/Hardware, Startup IT OperationsSession 1-12.12+ Hours of Tech Startup Workshops,On-Demand 30 Days\\xa0Streaming Access\\n\\n\\n\\nPremium Edition:\\xa0Tech Tools/System, Tech Startup Ideas, R&D, Startup Creativity, Startup Formation, Startup Automation, Startup Capital/Funding, Startup Clients/Marketing, Startup Coding/Programming, Startup Prototyping/Hardware, Startup IT Operations, Startup Management, Startup Consulting, Startup Workshops.Session 1-14. ALL Sessions.16+ Hours\\xa0of Tech Startup Workshops,On-Demand 6 Months Streaming Access24/7 VIP SupportCertification/DiplomaTech Entrepreneurship Bonus Material\\n\\n\\nGold Edition:\\xa0Everything included in the Premium Edition +\\xa0\\xa0Entrepreneur Starter Kit (1000+ PR Contact List PDF,\\xa01000+ Journalists/Tech Blogs Contact List PDF,\\xa01000+ Tech/Startup Slack Communities\\xa0List\\xa0PDF,\\xa02500+ Potential Customers/Clients Contact List PDF,\\xa02000+ Venture Capital/Startup Funding\\xa0List\\xa0PDF,\\xa01700+ Startup Accelerators\\xa0List\\xa0PDF)\\nTestimonials:\\n\\n\\n\"Atechup Startup Workshops is the most valuable business workshop we have\\xa0EVER\\xa0purchased.\"\\xa0- Johnny M.\\n\\n\\n\"Not able to tell you how\\xa0HAPPY\\xa0I am with Atechup Startup Workshops.\"\\xa0-\\xa0Elisabeth F. T.\\n\\n\\n\"Atechup Startup Workshops, is a visionary product, shaping\\xa0FUTURE\\xa0tomorrow\"\\xa0- Cohen. A\\n\\n\\n\"I am completely blown away by the\\xa0QUALITY\\xa0and generous material. Thank you very much\" -\\xa0Steven\\xa0 D.\\n\\n\\n\"Your company is\\xa0TRULY\\xa0upstanding and\\xa0UNIQUE. I have gotten at least 50 times the\\xa0VALUE\\xa0from your Workshops.\" - Xinye T.\\n\\n\\n\"I have\\xa0FUNDED\\xa0my Startup with Series A for the first time and its all\\xa0THANKS\\xa0to Atechup workshops\" - F. Martinez\\n\\n\\n\\n\\nFor more detailed information go to our website\\xa0Atechup.com\\n[This is an Online Web Workshop]'},\n",
       "   'end': {'local': '2019-02-26T17:00:00',\n",
       "    'timezone': 'Australia/Melbourne',\n",
       "    'utc': '2019-02-26T06:00:00Z'},\n",
       "   'format_id': '9',\n",
       "   'hide_end_date': False,\n",
       "   'hide_start_date': False,\n",
       "   'id': '52782846916',\n",
       "   'inventory_type': 'limited',\n",
       "   'is_externally_ticketed': False,\n",
       "   'is_free': False,\n",
       "   'is_locked': False,\n",
       "   'is_reserved_seating': False,\n",
       "   'is_series': True,\n",
       "   'is_series_parent': False,\n",
       "   'listed': True,\n",
       "   'locale': 'en_US',\n",
       "   'logo': {'aspect_ratio': '2',\n",
       "    'crop_mask': {'height': 683, 'top_left': {'x': 0, 'y': 0}, 'width': 1366},\n",
       "    'edge_color': '#9eaebb',\n",
       "    'edge_color_set': True,\n",
       "    'id': '41570011',\n",
       "    'original': {'height': 768,\n",
       "     'url': 'https://img.evbuc.com/https%3A%2F%2Fcdn.evbuc.com%2Fimages%2F41570011%2F233567016891%2F1%2Foriginal.jpg?auto=compress&s=33edc2e46d12967a8c1a5f4164f12006',\n",
       "     'width': 1366},\n",
       "    'url': 'https://img.evbuc.com/https%3A%2F%2Fcdn.evbuc.com%2Fimages%2F41570011%2F233567016891%2F1%2Foriginal.jpg?h=200&w=450&auto=compress&rect=0%2C0%2C1366%2C683&s=56f9eb35021296de81e6155ea5fd483c'},\n",
       "   'logo_id': '41570011',\n",
       "   'name': {'html': 'Develop a Successful Drone Tech Startup Business! Melbourne - Entrepreneur - Workshop - Hackathon - Bootcamp - Virtual Class - Seminar - Training - Lecture - Webinar - Conference - Course',\n",
       "    'text': 'Develop a Successful Drone Tech Startup Business! Melbourne - Entrepreneur - Workshop - Hackathon - Bootcamp - Virtual Class - Seminar - Training - Lecture - Webinar - Conference - Course'},\n",
       "   'online_event': False,\n",
       "   'organization_id': '233567016891',\n",
       "   'organizer_id': '15646132597',\n",
       "   'privacy_setting': 'unlocked',\n",
       "   'resource_uri': 'https://www.eventbriteapi.com/v3/events/52782846916/',\n",
       "   'series_id': '43697004918',\n",
       "   'shareable': True,\n",
       "   'show_colors_in_seatmap_thumbnail': False,\n",
       "   'show_pick_a_seat': False,\n",
       "   'show_seatmap_thumbnail': False,\n",
       "   'source': 'create_2.0',\n",
       "   'start': {'local': '2019-02-26T13:00:00',\n",
       "    'timezone': 'Australia/Melbourne',\n",
       "    'utc': '2019-02-26T02:00:00Z'},\n",
       "   'status': 'live',\n",
       "   'subcategory_id': '1001',\n",
       "   'tx_time_limit': 600,\n",
       "   'url': 'https://www.eventbrite.com/e/develop-a-successful-drone-tech-startup-business-melbourne-entrepreneur-workshop-hackathon-bootcamp-tickets-52782846916?aff=ebapi',\n",
       "   'venue_id': '26940246',\n",
       "   'version': '3.0.0'},\n",
       "  {'capacity': None,\n",
       "   'capacity_is_custom': None,\n",
       "   'category_id': '101',\n",
       "   'changed': '2019-01-30T15:16:03Z',\n",
       "   'created': '2019-01-01T11:48:05Z',\n",
       "   'currency': 'USD',\n",
       "   'description': {'html': '<H2><IMG SRC=\"https://cdn.evbuc.com/eventlogos/231943413/it.jpg\"></H2>\\n<H2><BR></H2>\\n<H2>Learn to Develop a Successful IT Startup Company Today!</H2>\\n<P>Always wanted to start an tech startup? Now we have a complete blueprint\\xa0for you start your own IT Startup.\\xa0During our tech startup program you will learn and navigate through\\xa0tools, software, hardware, platforms, resources, projects, processes, methods and strategies\\xa0to penetrate your own IT Startup into the market.<BR><BR></P>\\n<H3>During this IT Startup workshop we will cover:</H3>\\n<H3><BR></H3>\\n<P><STRONG>Session 1: IT Basics</STRONG></P>\\n<P>During this session we will explore the very foundation and the basic systems\\xa0and platforms for you to integrate into your own tech startup process.\\xa0<BR></P>\\n<UL>\\n<LI>IT Hardware</LI>\\n<LI>IT Software</LI>\\n<LI>IT Platforms</LI>\\n<LI>IT Projects</LI>\\n<LI>IT Systems</LI>\\n<LI>IT Blueprint</LI>\\n<LI>IT Tools</LI>\\n<LI>IT\\xa0Resources<BR><BR><BR><BR></LI>\\n</UL>\\n<P><BR><STRONG>Session 2:\\xa0Tech Startup Ideas</STRONG><BR>During this session we will explore tech startup ideas for you\\xa0to implement and integrate into your own tech startup or\\xa0use them as an inspirational source for developing your own\\xa0products, projects, prototypes or services in your tech startup</P>\\n<UL>\\n<LI>IT Support Chatbot</LI>\\n<LI>Operative System Scripting</LI>\\n<LI>Database Maintenance</LI>\\n<LI>IT Monitoring Dashboard</LI>\\n<LI>IT Systems Performance Analytics</LI>\\n<LI>Operative System Logging</LI>\\n<LI>Network Maintenance</LI>\\n<LI>IT Networking Chatbot</LI>\\n<LI>IT Operations VR/AR Lab</LI>\\n<LI>Agriculture Industry</LI>\\n<LI>Healthcare Industry</LI>\\n<LI>IT Drone Management</LI>\\n<LI>IT Repairment</LI>\\n<LI>Data BD Analytics Dashboard</LI>\\n<LI>Cloud Solution Configurations</LI>\\n<LI>Storage/Backup Solutions</LI>\\n<LI>IT Automation</LI>\\n<LI>ITIL Process Improvement</LI>\\n<LI>IoT Data Integrations</LI>\\n<LI>Technician Chatbot</LI>\\n<LI>SySAdmin Tasks Automation</LI>\\n<LI>Ticket Issue System Management</LI>\\n<LI>Technical Documentation</LI>\\n<LI>Database Design Solutions</LI>\\n<LI>System Analytics</LI>\\n<LI>Server Migration Solutions</LI>\\n<LI>Configure Management</LI>\\n<LI>Web/Application Server Management</LI>\\n<LI>OS Virtualization Management</LI>\\n<LI>IT Architectual Solutions</LI>\\n<LI>SLA Agreements</LI>\\n<LI>Hosting Solutions</LI>\\n<LI>File Server Solutions</LI>\\n<LI>Mail Server Solutions</LI>\\n<LI>IT Project Management</LI>\\n<LI>BioInfrastructure</LI>\\n<LI>IPTV &amp; VoIP</LI>\\n<LI>VR SysOps</LI>\\n<LI>Augmented Administration</LI>\\n<LI>Automated DevOps</LI>\\n<LI>Healthcare Infrastructure</LI>\\n<LI>IoT DevOps</LI>\\n<LI>Vehicle Infrastructure</LI>\\n<LI>and much more<BR><BR><BR></LI>\\n</UL>\\n<P>\\xa0</P>\\n<P><STRONG>Session 3: R&D</STRONG><BR>During this session we will explore the research process,\\xa0how you can research a specific niche industry, the market and tech trends.<BR></P>\\n<UL>\\n<LI>R&D/Research</LI>\\n<LI>R&D Tools</LI>\\n<LI>Startup Tools</LI>\\n<LI>Market Research</LI>\\n<LI>Surveys</LI>\\n<LI>Consumer Analytics</LI>\\n<LI>Market Analytics</LI>\\n<LI>Industry Analytics</LI>\\n<LI>Trends Researching<BR><BR><BR></LI>\\n</UL>\\n<P>\\xa0</P>\\n<P><STRONG>Session 4: Creativity</STRONG></P>\\n<P>During this session we will explore the creativity process,\\xa0how to increase your own creativity intelligence and implement\\xa0quality tech ideas into your own tech startup process.<BR></P>\\n<UL>\\n<LI>Creativity Tools</LI>\\n<LI>Creativity Techniques</LI>\\n<LI>Creativity Strategy</LI>\\n<LI>Mind mapping</LI>\\n<LI>Brainstorming</LI>\\n<LI>Meditation</LI>\\n<LI>Idea Exploring</LI>\\n<LI>Idea Blender</LI>\\n<LI>Key-Point System</LI>\\n<LI>Problem Solving Strategy</LI>\\n<LI>Incubation</LI>\\n<LI>Creative intelligence</LI>\\n<LI>Outside the Box Thinking</LI>\\n<LI>Lateral Thinking</LI>\\n<LI>Productivity Tools</LI>\\n<LI>Mind Relaxation</LI>\\n<LI>Meditation</LI>\\n<LI>Higher Consciousnesses</LI>\\n<LI>Inspiration Tools</LI>\\n<LI>Idea Storage<BR><BR></LI>\\n</UL>\\n<P>\\xa0</P>\\n<P><STRONG>Session 5: Capital/Funding</STRONG><BR>During this session we will explore the capital and funding process\\xa0of your tech startup. How to raise capital and make systematic\\xa0attempts to penetrate into the market.<BR></P>\\n<UL>\\n<LI>Capital/Funding</LI>\\n<LI>Capital/Funding Tools</LI>\\n<LI>Capital/Funding Strategy</LI>\\n<LI>Venture Capitalists</LI>\\n<LI>Angel Investors</LI>\\n<LI>Seed Funding</LI>\\n<LI>Incubators</LI>\\n<LI>Accelerator Programs</LI>\\n<LI>Co-Founder</LI>\\n<LI>Capitalization Table</LI>\\n<LI>Crowdfunding</LI>\\n<LI>Business Trade Fairs<BR><BR></LI>\\n</UL>\\n<P>\\xa0</P>\\n<P><STRONG><IMG SRC=\"https://cdn.evbuc.com/eventlogos/231943413/capitalx4.jpg\"></STRONG></P>\\n<P><BR></P>\\n<P><STRONG>Session 6: Clients/Customers</STRONG><BR>During this session we will explore the client acquisition process.\\xa0Find your first clients and customers for your tech startup and\\xa0implement the right tools, methods and strategies for creating\\xa0an successful sale system for your specific niche industry/technology.<BR></P>\\n<UL>\\n<LI>Clients</LI>\\n<LI>Client Acquisition Strategy</LI>\\n<LI>Client Acquisition Process</LI>\\n<LI>PR Strategies</LI>\\n<LI>Social Media Marketing</LI>\\n<LI>Competitive Analysis</LI>\\n<LI>E-Mail Marketing</LI>\\n<LI>Newsletters</LI>\\n<LI>Analytics</LI>\\n<LI>SEO</LI>\\n<LI>Digital Marketing</LI>\\n<LI>Ad Systems</LI>\\n<LI>Competitor Research</LI>\\n<LI>Sale System</LI>\\n<LI>Sale Strategy</LI>\\n<LI>Growth Hacking</LI>\\n<LI>Sales Funnel</LI>\\n<LI>Email Hunting<BR><BR></LI>\\n</UL>\\n<P>\\xa0</P>\\n<P><STRONG>Session 7: Business Platform</STRONG><BR>During this session we will explore the business organizing process.\\xa0How to implement an organized and professional platform for your\\xa0tech startup for creating efficient workflow.<BR><BR></P>\\n<UL>\\n<LI>Business Automation</LI>\\n<LI>Business Process</LI>\\n<LI>Business Strategy</LI>\\n<LI>Business Model</LI>\\n<LI>Business Management</LI>\\n<LI>ERP</LI>\\n<LI>CRM</LI>\\n<LI>Human Resources (HR)</LI>\\n<LI>Recruitment</LI>\\n<LI>Intranet</LI>\\n<LI>Collaboration</LI>\\n<LI>Project Management</LI>\\n<LI>Document Management</LI>\\n<LI>Customer Support</LI>\\n<LI>Business Automation Tools<BR><BR></LI>\\n</UL>\\n<P>\\xa0</P>\\n<P><STRONG>Session 8:\\xa0<STRONG>Business Formation</STRONG></STRONG><BR>During this session we will explore the business formation process.\\xa0Which platforms, models and tools to integrate into your tech startup\\xa0formation for creating an successful launch process.<BR>Business Formation<BR></P>\\n<UL>\\n<LI>Legal</LI>\\n<LI>Contracts</LI>\\n<LI>Business Model</LI>\\n<LI>Corporate Structure</LI>\\n<LI>Payment Platforms</LI>\\n<LI>Payment Gateway</LI>\\n<LI>Invoicing System</LI>\\n<LI>Credit Cards/Payments</LI>\\n<LI>Pricing Strategies</LI>\\n<LI>Accounting</LI>\\n<LI>Subscriptions</LI>\\n<LI>Office Space</LI>\\n<LI>Virtual Address</LI>\\n<LI>Virtual Phone</LI>\\n<LI>Virtual Office</LI>\\n<LI>Remote Office</LI>\\n<LI>Virtual Assistant</LI>\\n<LI>Virtual Receptionist</LI>\\n<LI>Virtual Support</LI>\\n<LI>Outsourcing</LI>\\n<LI>Product Demo</LI>\\n<LI>Product Launch<BR><BR></LI>\\n</UL>\\n<P>\\xa0</P>\\n<P><STRONG>Session 9: Startup Coding</STRONG><BR>During this session we will explore the coding process of your tech startup.<BR>Coding/Programming<BR></P>\\n<UL>\\n<LI>IDE</LI>\\n<LI>API</LI>\\n<LI>SDK</LI>\\n<LI>GUI</LI>\\n<LI>Code Analysis</LI>\\n<LI>Data Visualization</LI>\\n<LI>Python</LI>\\n<LI>C#</LI>\\n<LI>Forms</LI>\\n<LI>Wireframing</LI>\\n<LI>Front-End</LI>\\n<LI>Back-End</LI>\\n<LI>Library</LI>\\n<LI>Frameworks</LI>\\n<LI>Testing</LI>\\n<LI>Programming Platforms</LI>\\n<LI>Programming Tools</LI>\\n<LI>Agile Development</LI>\\n<LI>Software Code Management<BR><BR></LI>\\n</UL>\\n<P>\\xa0</P>\\n<P><STRONG>Session 10: Startup\\xa0Hardware/Prototyping</STRONG><BR>During this session we will explore the hardware and prototyping process\\xa0of your tech startup. Using different tools and platform to innovate\\xa0and integrate your own tech startup projects.<BR><BR></P>\\n<UL>\\n<LI>Electronics</LI>\\n<LI>IoT</LI>\\n<LI>Raspberry Pi</LI>\\n<LI>Arduino</LI>\\n<LI>Microcontrollers</LI>\\n<LI>Sensors</LI>\\n<LI>Projects</LI>\\n<LI>Microchips</LI>\\n<LI>Hardware Boards</LI>\\n<LI>Hardware Tools</LI>\\n<LI>Hardware Platform</LI>\\n<LI>PCB</LI>\\n<LI>3D Design</LI>\\n<LI>3D Models</LI>\\n<LI>3D Printing</LI>\\n<LI>DIY Tech</LI>\\n<LI>Tech Lab</LI>\\n<LI>Embedded Systems<BR><BR><BR></LI>\\n</UL>\\n<P>\\xa0</P>\\n<P><STRONG>Session 11 : Startup IT Operations</STRONG><BR>During this session we will explore the IT infrastructure process of your tech startup.\\xa0Which platforms to use for setup an organized database system, cloud system and\\xa0other technical solutions for your tech startup to work efficiently<BR></P>\\n<UL>\\n<LI>IT Infrastructure</LI>\\n<LI>Cloud</LI>\\n<LI>Servers</LI>\\n<LI>Database</LI>\\n<LI>DevOps</LI>\\n<LI>Monitoring</LI>\\n<LI>Remote Access</LI>\\n<LI>Backup</LI>\\n<LI>Technical Documentation</LI>\\n<LI>Data Recovery</LI>\\n<LI>Encryption</LI>\\n<LI>Security</LI>\\n<LI>FTP</LI>\\n<LI>NAS</LI>\\n<LI>Deployment</LI>\\n<LI>VPN</LI>\\n<LI>VPS</LI>\\n<LI>Automation</LI>\\n<LI>Log Management</LI>\\n<LI>Networking</LI>\\n<LI>Virtualization<BR><BR></LI>\\n</UL>\\n<P>\\xa0</P>\\n<P><STRONG>Session 12 : Startup Consulting</STRONG><BR>During this session we will explore the consulting process for your tech startup.\\xa0An strategic approach, where you can receive more experience before you launch\\xa0your own specific products/projects.<BR></P>\\n<UL>\\n<LI>Tech Startup Consulting</LI>\\n<LI>Tech Consulting Services</LI>\\n<LI>Tech Consulting Structure</LI>\\n<LI>Tech Consulting Approach</LI>\\n<LI>Tech Consulting Strategy</LI>\\n<LI>Tech Consulting Contracts</LI>\\n<LI>Tech Consulting Referrals</LI>\\n<LI>Tech Consulting Portfolio</LI>\\n<LI>Tech Consulting ISO</LI>\\n<LI>Tech Consulting Integration</LI>\\n<LI>Tech Consulting Projects<BR><BR><BR></LI>\\n</UL>\\n<P>\\xa0</P>\\n<P><STRONG><IMG SRC=\"https://cdn.evbuc.com/eventlogos/231943413/startupscience.jpg\"></STRONG></P>\\n<P><BR></P>\\n<P><STRONG>Session 13 : Startup Management</STRONG><BR>During this session we will explore management process of your tech startup.\\xa0How to manage your internal and external environments for increasing the\\xa0probability of your tech startup to succeed.<BR></P>\\n<UL>\\n<LI>Tech Startup Management</LI>\\n<LI>Motivational Skills</LI>\\n<LI>Time Management</LI>\\n<LI>Team Management</LI>\\n<LI>Leadership Skills</LI>\\n<LI>Learning Skills</LI>\\n<LI>Goal Setting Skills</LI>\\n<LI>Decision Making Skills</LI>\\n<LI>Stress Management</LI>\\n<LI>Communication Skills</LI>\\n<LI>Procrastination Hacks</LI>\\n<LI>Productivity Hacks</LI>\\n<LI>Confidence Hacks</LI>\\n<LI>Growth Mindset Skills</LI>\\n<LI>Problem Solving Skills</LI>\\n<LI>Analytical Skills</LI>\\n<LI>Strategic Thinking Skills</LI>\\n<LI>Learning Management<BR><BR></LI>\\n</UL>\\n<P><STRONG>Session 14: Tech Workshops<BR></STRONG>During this session we will explore tech trends, emerging markets and disruptive technologies and future workshops</P>\\n<UL>\\n<LI>Future Workshops</LI>\\n<LI>Disruptive Technologies</LI>\\n<LI>Emerging Markets</LI>\\n<LI>Emerging Industries</LI>\\n<LI>Tech Trends<BR><BR></LI>\\n</UL>\\n<H3><BR></H3>\\n<P><BR></P>\\n<P><IMG SRC=\"https://cdn.evbuc.com/eventlogos/231943413/entrepreneurship.jpg\"></P>\\n<P><STRONG><BR></STRONG></P>\\n<DIV CLASS=\"g-group l-lg-mar-bot-6 l-md-mar-bot-4 l-pad-bot-6\">\\n<DIV CLASS=\"g-cell g-cell-10-12 g-cell-md-1-1\">\\n<DIV CLASS=\"has-user-generated-content js-d-read-more read-more js-read-more read-more--medium-down read-more--expanded\">\\n<DIV CLASS=\"js-xd-read-more-toggle-view read-more__toggle-view\">\\n<DIV CLASS=\"js-xd-read-more-contents l-mar-top-3\">\\n<P><STRONG>For more detailed information go to our website\\xa0<A HREF=\"https://www.atechup.com/\" TARGET=\"_blank\" REL=\"nofollow noopener noreferrer\">Atechup.com</A></STRONG><BR></P>\\n<P><STRONG>[This is an Online Web Workshop]<BR><BR></STRONG></P>\\n</DIV>\\n</DIV>\\n</DIV>\\n</DIV>\\n</DIV>\\n<H2><STRONG><BR>Workshop Curriculum</STRONG></H2>\\n<DIV><BR></DIV>\\n<UL>\\n<LI><STRONG>Basic Edition:</STRONG>\\xa0Tech Tools/System, Tech Startup Ideas, R&D, Startup Creativity, Startup Formation, Startup Automation.\\xa0Session 1-5.<BR>4 Hour Tech Startup Workshop<BR><BR></LI>\\n<LI><STRONG>Business Edition:</STRONG>\\xa0Tech Tools/System, Tech Startup Ideas, R&D, Startup Creativity, Startup Formation, Startup Automation, Startup Capital/Funding, Startup Clients/Marketing, Startup Programming, Startup Prototyping/Hardware, Startup IT Operations<BR>Session 1-12.<BR>12+ Hours of Tech Startup Workshops,<BR>On-Demand 30 Days\\xa0Streaming Access</LI>\\n</UL>\\n<UL>\\n<LI>\\n<P><STRONG>Premium Edition:</STRONG>\\xa0Tech Tools/System, Tech Startup Ideas, R&D, Startup Creativity, Startup Formation, Startup Automation, Startup Capital/Funding, Startup Clients/Marketing, Startup Coding/Programming, Startup Prototyping/Hardware, Startup IT Operations, Startup Management, Startup Consulting, Startup Workshops.<BR>Session 1-14. ALL Sessions.<BR>16+ Hours\\xa0of Tech Startup Workshops,<BR>On-Demand 6 Months Streaming Access<BR>24/7 VIP Support<BR>Certification/Diploma<BR>Tech Entrepreneurship Bonus Material<BR><BR></P>\\n</LI>\\n<LI>\\n<P><STRONG>Gold Edition:\\xa0</STRONG>Everything included in the Premium Edition +\\xa0\\xa0<SPAN CLASS=\"oneComWebmail-font\">Entrepreneur Starter Kit (</SPAN><SPAN CLASS=\"oneComWebmail-font\">1000+ PR Contact List PDF,\\xa0</SPAN>1000+ Journalists/Tech Blogs Contact List PDF,\\xa01000+ Tech/Startup Slack Communities\\xa0List\\xa0PDF,\\xa02500+ Potential Customers/Clients Contact List PDF,\\xa02000+ Venture Capital/Startup Funding\\xa0List\\xa0PDF,\\xa01700+ Startup Accelerators\\xa0List\\xa0PDF)</P>\\n<P><BR><BR><IMG SRC=\"https://cdn.evbuc.com/eventlogos/231943413/testimonial.jpg\"><STRONG><BR>Testimonials:</STRONG></P>\\n</LI>\\n<LI>\\n<P><I>\"Atechup Startup Workshops is the most valuable business workshop we have\\xa0<STRONG>EVER</STRONG>\\xa0purchased.\"\\xa0- Johnny M.<BR><BR></I></P>\\n</LI>\\n<LI>\\n<P><I>\"Not able to tell you how\\xa0<STRONG>HAPPY</STRONG>\\xa0I am with Atechup Startup Workshops.\"\\xa0</I><I><I>-\\xa0</I>Elisabeth F. T.<BR><BR></I></P>\\n</LI>\\n<LI>\\n<P><I>\"Atechup Startup Workshops, is a visionary product, shaping\\xa0<STRONG>FUTURE</STRONG>\\xa0tomorrow\"\\xa0</I><I>- Cohen. A<BR><BR></I></P>\\n</LI>\\n<LI>\\n<P>\"<I>I am completely blown away by the\\xa0<STRONG>QUALITY</STRONG>\\xa0and generous material. Thank you very much\" -\\xa0</I><I>Steven\\xa0 D.<BR><BR></I></P>\\n</LI>\\n<LI>\\n<P><I>\"Your company is\\xa0<STRONG>TRULY</STRONG>\\xa0upstanding and\\xa0<STRONG>UNIQUE</STRONG>. I have gotten at least 50 times the\\xa0<STRONG>VALUE</STRONG>\\xa0from your Workshops.\" - Xinye T.<BR><BR></I></P>\\n</LI>\\n<LI>\\n<P><I>\"I have\\xa0<STRONG>FUNDED</STRONG>\\xa0my Startup with Series A for the first time and its all\\xa0<STRONG>THANKS</STRONG>\\xa0to Atechup workshops\" - F. Martinez</I></P>\\n</LI>\\n</UL>\\n<P><I><BR></I></P>\\n<P><I><IMG ALT=\"\" SRC=\"https://cdn.evbuc.com/eventlogos/231943413/1-2.jpg\"></I></P>\\n<P><STRONG>For more detailed information go to our website\\xa0<A HREF=\"https://www.atechup.com/\" TARGET=\"_blank\" REL=\"nofollow noopener noreferrer\">Atechup.com<BR></A></STRONG><STRONG></STRONG></P>\\n<P><STRONG>[This is an Online Web Workshop]</STRONG></P>',\n",
       "    'text': '\\n\\nLearn to Develop a Successful IT Startup Company Today!\\nAlways wanted to start an tech startup? Now we have a complete blueprint\\xa0for you start your own IT Startup.\\xa0During our tech startup program you will learn and navigate through\\xa0tools, software, hardware, platforms, resources, projects, processes, methods and strategies\\xa0to penetrate your own IT Startup into the market.\\nDuring this IT Startup workshop we will cover:\\n\\nSession 1: IT Basics\\nDuring this session we will explore the very foundation and the basic systems\\xa0and platforms for you to integrate into your own tech startup process.\\xa0\\n\\nIT Hardware\\nIT Software\\nIT Platforms\\nIT Projects\\nIT Systems\\nIT Blueprint\\nIT Tools\\nIT\\xa0Resources\\n\\nSession 2:\\xa0Tech Startup IdeasDuring this session we will explore tech startup ideas for you\\xa0to implement and integrate into your own tech startup or\\xa0use them as an inspirational source for developing your own\\xa0products, projects, prototypes or services in your tech startup\\n\\nIT Support Chatbot\\nOperative System Scripting\\nDatabase Maintenance\\nIT Monitoring Dashboard\\nIT Systems Performance Analytics\\nOperative System Logging\\nNetwork Maintenance\\nIT Networking Chatbot\\nIT Operations VR/AR Lab\\nAgriculture Industry\\nHealthcare Industry\\nIT Drone Management\\nIT Repairment\\nData BD Analytics Dashboard\\nCloud Solution Configurations\\nStorage/Backup Solutions\\nIT Automation\\nITIL Process Improvement\\nIoT Data Integrations\\nTechnician Chatbot\\nSySAdmin Tasks Automation\\nTicket Issue System Management\\nTechnical Documentation\\nDatabase Design Solutions\\nSystem Analytics\\nServer Migration Solutions\\nConfigure Management\\nWeb/Application Server Management\\nOS Virtualization Management\\nIT Architectual Solutions\\nSLA Agreements\\nHosting Solutions\\nFile Server Solutions\\nMail Server Solutions\\nIT Project Management\\nBioInfrastructure\\nIPTV & VoIP\\nVR SysOps\\nAugmented Administration\\nAutomated DevOps\\nHealthcare Infrastructure\\nIoT DevOps\\nVehicle Infrastructure\\nand much more\\n\\n\\xa0\\nSession 3: R&DDuring this session we will explore the research process,\\xa0how you can research a specific niche industry, the market and tech trends.\\n\\nR&D/Research\\nR&D Tools\\nStartup Tools\\nMarket Research\\nSurveys\\nConsumer Analytics\\nMarket Analytics\\nIndustry Analytics\\nTrends Researching\\n\\n\\xa0\\nSession 4: Creativity\\nDuring this session we will explore the creativity process,\\xa0how to increase your own creativity intelligence and implement\\xa0quality tech ideas into your own tech startup process.\\n\\nCreativity Tools\\nCreativity Techniques\\nCreativity Strategy\\nMind mapping\\nBrainstorming\\nMeditation\\nIdea Exploring\\nIdea Blender\\nKey-Point System\\nProblem Solving Strategy\\nIncubation\\nCreative intelligence\\nOutside the Box Thinking\\nLateral Thinking\\nProductivity Tools\\nMind Relaxation\\nMeditation\\nHigher Consciousnesses\\nInspiration Tools\\nIdea Storage\\n\\n\\xa0\\nSession 5: Capital/FundingDuring this session we will explore the capital and funding process\\xa0of your tech startup. How to raise capital and make systematic\\xa0attempts to penetrate into the market.\\n\\nCapital/Funding\\nCapital/Funding Tools\\nCapital/Funding Strategy\\nVenture Capitalists\\nAngel Investors\\nSeed Funding\\nIncubators\\nAccelerator Programs\\nCo-Founder\\nCapitalization Table\\nCrowdfunding\\nBusiness Trade Fairs\\n\\n\\xa0\\n\\n\\nSession 6: Clients/CustomersDuring this session we will explore the client acquisition process.\\xa0Find your first clients and customers for your tech startup and\\xa0implement the right tools, methods and strategies for creating\\xa0an successful sale system for your specific niche industry/technology.\\n\\nClients\\nClient Acquisition Strategy\\nClient Acquisition Process\\nPR Strategies\\nSocial Media Marketing\\nCompetitive Analysis\\nE-Mail Marketing\\nNewsletters\\nAnalytics\\nSEO\\nDigital Marketing\\nAd Systems\\nCompetitor Research\\nSale System\\nSale Strategy\\nGrowth Hacking\\nSales Funnel\\nEmail Hunting\\n\\n\\xa0\\nSession 7: Business PlatformDuring this session we will explore the business organizing process.\\xa0How to implement an organized and professional platform for your\\xa0tech startup for creating efficient workflow.\\n\\nBusiness Automation\\nBusiness Process\\nBusiness Strategy\\nBusiness Model\\nBusiness Management\\nERP\\nCRM\\nHuman Resources (HR)\\nRecruitment\\nIntranet\\nCollaboration\\nProject Management\\nDocument Management\\nCustomer Support\\nBusiness Automation Tools\\n\\n\\xa0\\nSession 8:\\xa0Business FormationDuring this session we will explore the business formation process.\\xa0Which platforms, models and tools to integrate into your tech startup\\xa0formation for creating an successful launch process.Business Formation\\n\\nLegal\\nContracts\\nBusiness Model\\nCorporate Structure\\nPayment Platforms\\nPayment Gateway\\nInvoicing System\\nCredit Cards/Payments\\nPricing Strategies\\nAccounting\\nSubscriptions\\nOffice Space\\nVirtual Address\\nVirtual Phone\\nVirtual Office\\nRemote Office\\nVirtual Assistant\\nVirtual Receptionist\\nVirtual Support\\nOutsourcing\\nProduct Demo\\nProduct Launch\\n\\n\\xa0\\nSession 9: Startup CodingDuring this session we will explore the coding process of your tech startup.Coding/Programming\\n\\nIDE\\nAPI\\nSDK\\nGUI\\nCode Analysis\\nData Visualization\\nPython\\nC#\\nForms\\nWireframing\\nFront-End\\nBack-End\\nLibrary\\nFrameworks\\nTesting\\nProgramming Platforms\\nProgramming Tools\\nAgile Development\\nSoftware Code Management\\n\\n\\xa0\\nSession 10: Startup\\xa0Hardware/PrototypingDuring this session we will explore the hardware and prototyping process\\xa0of your tech startup. Using different tools and platform to innovate\\xa0and integrate your own tech startup projects.\\n\\nElectronics\\nIoT\\nRaspberry Pi\\nArduino\\nMicrocontrollers\\nSensors\\nProjects\\nMicrochips\\nHardware Boards\\nHardware Tools\\nHardware Platform\\nPCB\\n3D Design\\n3D Models\\n3D Printing\\nDIY Tech\\nTech Lab\\nEmbedded Systems\\n\\n\\xa0\\nSession 11 : Startup IT OperationsDuring this session we will explore the IT infrastructure process of your tech startup.\\xa0Which platforms to use for setup an organized database system, cloud system and\\xa0other technical solutions for your tech startup to work efficiently\\n\\nIT Infrastructure\\nCloud\\nServers\\nDatabase\\nDevOps\\nMonitoring\\nRemote Access\\nBackup\\nTechnical Documentation\\nData Recovery\\nEncryption\\nSecurity\\nFTP\\nNAS\\nDeployment\\nVPN\\nVPS\\nAutomation\\nLog Management\\nNetworking\\nVirtualization\\n\\n\\xa0\\nSession 12 : Startup ConsultingDuring this session we will explore the consulting process for your tech startup.\\xa0An strategic approach, where you can receive more experience before you launch\\xa0your own specific products/projects.\\n\\nTech Startup Consulting\\nTech Consulting Services\\nTech Consulting Structure\\nTech Consulting Approach\\nTech Consulting Strategy\\nTech Consulting Contracts\\nTech Consulting Referrals\\nTech Consulting Portfolio\\nTech Consulting ISO\\nTech Consulting Integration\\nTech Consulting Projects\\n\\n\\xa0\\n\\n\\nSession 13 : Startup ManagementDuring this session we will explore management process of your tech startup.\\xa0How to manage your internal and external environments for increasing the\\xa0probability of your tech startup to succeed.\\n\\nTech Startup Management\\nMotivational Skills\\nTime Management\\nTeam Management\\nLeadership Skills\\nLearning Skills\\nGoal Setting Skills\\nDecision Making Skills\\nStress Management\\nCommunication Skills\\nProcrastination Hacks\\nProductivity Hacks\\nConfidence Hacks\\nGrowth Mindset Skills\\nProblem Solving Skills\\nAnalytical Skills\\nStrategic Thinking Skills\\nLearning Management\\n\\nSession 14: Tech WorkshopsDuring this session we will explore tech trends, emerging markets and disruptive technologies and future workshops\\n\\nFuture Workshops\\nDisruptive Technologies\\nEmerging Markets\\nEmerging Industries\\nTech Trends\\n\\n\\n\\n\\n\\n\\n\\n\\n\\n\\nFor more detailed information go to our website\\xa0Atechup.com\\n[This is an Online Web Workshop]\\n\\n\\n\\n\\n\\nWorkshop Curriculum\\n\\n\\nBasic Edition:\\xa0Tech Tools/System, Tech Startup Ideas, R&D, Startup Creativity, Startup Formation, Startup Automation.\\xa0Session 1-5.4 Hour Tech Startup Workshop\\nBusiness Edition:\\xa0Tech Tools/System, Tech Startup Ideas, R&D, Startup Creativity, Startup Formation, Startup Automation, Startup Capital/Funding, Startup Clients/Marketing, Startup Programming, Startup Prototyping/Hardware, Startup IT OperationsSession 1-12.12+ Hours of Tech Startup Workshops,On-Demand 30 Days\\xa0Streaming Access\\n\\n\\n\\nPremium Edition:\\xa0Tech Tools/System, Tech Startup Ideas, R&D, Startup Creativity, Startup Formation, Startup Automation, Startup Capital/Funding, Startup Clients/Marketing, Startup Coding/Programming, Startup Prototyping/Hardware, Startup IT Operations, Startup Management, Startup Consulting, Startup Workshops.Session 1-14. ALL Sessions.16+ Hours\\xa0of Tech Startup Workshops,On-Demand 6 Months Streaming Access24/7 VIP SupportCertification/DiplomaTech Entrepreneurship Bonus Material\\n\\n\\nGold Edition:\\xa0Everything included in the Premium Edition +\\xa0\\xa0Entrepreneur Starter Kit (1000+ PR Contact List PDF,\\xa01000+ Journalists/Tech Blogs Contact List PDF,\\xa01000+ Tech/Startup Slack Communities\\xa0List\\xa0PDF,\\xa02500+ Potential Customers/Clients Contact List PDF,\\xa02000+ Venture Capital/Startup Funding\\xa0List\\xa0PDF,\\xa01700+ Startup Accelerators\\xa0List\\xa0PDF)\\nTestimonials:\\n\\n\\n\"Atechup Startup Workshops is the most valuable business workshop we have\\xa0EVER\\xa0purchased.\"\\xa0- Johnny M.\\n\\n\\n\"Not able to tell you how\\xa0HAPPY\\xa0I am with Atechup Startup Workshops.\"\\xa0-\\xa0Elisabeth F. T.\\n\\n\\n\"Atechup Startup Workshops, is a visionary product, shaping\\xa0FUTURE\\xa0tomorrow\"\\xa0- Cohen. A\\n\\n\\n\"I am completely blown away by the\\xa0QUALITY\\xa0and generous material. Thank you very much\" -\\xa0Steven\\xa0 D.\\n\\n\\n\"Your company is\\xa0TRULY\\xa0upstanding and\\xa0UNIQUE. I have gotten at least 50 times the\\xa0VALUE\\xa0from your Workshops.\" - Xinye T.\\n\\n\\n\"I have\\xa0FUNDED\\xa0my Startup with Series A for the first time and its all\\xa0THANKS\\xa0to Atechup workshops\" - F. Martinez\\n\\n\\n\\n\\nFor more detailed information go to our website\\xa0Atechup.com\\n[This is an Online Web Workshop]'},\n",
       "   'end': {'local': '2019-02-25T17:00:00',\n",
       "    'timezone': 'Australia/Melbourne',\n",
       "    'utc': '2019-02-25T06:00:00Z'},\n",
       "   'format_id': '9',\n",
       "   'hide_end_date': False,\n",
       "   'hide_start_date': False,\n",
       "   'id': '54257076376',\n",
       "   'inventory_type': 'limited',\n",
       "   'is_externally_ticketed': False,\n",
       "   'is_free': False,\n",
       "   'is_locked': False,\n",
       "   'is_reserved_seating': False,\n",
       "   'is_series': True,\n",
       "   'is_series_parent': False,\n",
       "   'listed': True,\n",
       "   'locale': 'en_US',\n",
       "   'logo': {'aspect_ratio': '2',\n",
       "    'crop_mask': {'height': 405, 'top_left': {'x': 0, 'y': 25}, 'width': 810},\n",
       "    'edge_color': '#000000',\n",
       "    'edge_color_set': True,\n",
       "    'id': '41573200',\n",
       "    'original': {'height': 456,\n",
       "     'url': 'https://img.evbuc.com/https%3A%2F%2Fcdn.evbuc.com%2Fimages%2F41573200%2F233567016891%2F1%2Foriginal.jpg?auto=compress&s=4604d9f794cc1929821ca3bc106d04fa',\n",
       "     'width': 810},\n",
       "    'url': 'https://img.evbuc.com/https%3A%2F%2Fcdn.evbuc.com%2Fimages%2F41573200%2F233567016891%2F1%2Foriginal.jpg?h=200&w=450&auto=compress&rect=0%2C25%2C810%2C405&s=f65958bc6303d470882b85aaa4c3fde4'},\n",
       "   'logo_id': '41573200',\n",
       "   'name': {'html': 'Develop a Successful IT Tech Startup Business Today! Melbourne - Cloud - DevOps - Workshop - Bootcamp - Virtual Class - Seminar - Training - Lecture - Webinar - Conference',\n",
       "    'text': 'Develop a Successful IT Tech Startup Business Today! Melbourne - Cloud - DevOps - Workshop - Bootcamp - Virtual Class - Seminar - Training - Lecture - Webinar - Conference'},\n",
       "   'online_event': False,\n",
       "   'organization_id': '233567016891',\n",
       "   'organizer_id': '15646132597',\n",
       "   'privacy_setting': 'unlocked',\n",
       "   'resource_uri': 'https://www.eventbriteapi.com/v3/events/54257076376/',\n",
       "   'series_id': '43702302764',\n",
       "   'shareable': True,\n",
       "   'show_colors_in_seatmap_thumbnail': False,\n",
       "   'show_pick_a_seat': False,\n",
       "   'show_seatmap_thumbnail': False,\n",
       "   'source': 'create_2.0',\n",
       "   'start': {'local': '2019-02-25T13:00:00',\n",
       "    'timezone': 'Australia/Melbourne',\n",
       "    'utc': '2019-02-25T02:00:00Z'},\n",
       "   'status': 'live',\n",
       "   'subcategory_id': '1001',\n",
       "   'tx_time_limit': 600,\n",
       "   'url': 'https://www.eventbrite.com/e/develop-a-successful-it-tech-startup-business-today-melbourne-cloud-devops-workshop-bootcamp-tickets-54257076376?aff=ebapi',\n",
       "   'venue_id': '26940246',\n",
       "   'version': '3.0.0'},\n",
       "  {'capacity': None,\n",
       "   'capacity_is_custom': None,\n",
       "   'category_id': '101',\n",
       "   'changed': '2019-01-30T15:37:58Z',\n",
       "   'created': '2018-11-18T16:46:25Z',\n",
       "   'currency': 'USD',\n",
       "   'description': {'html': '<H2><IMG SRC=\"https://cdn.evbuc.com/eventlogos/231943413/iot2.jpg\"></H2>\\n<H2>Learn to Develop a Successful\\xa0Internet of Things Startup Company Today!</H2>\\n<P>Always wanted to start an Tech Startup? Want to become the next Steve Jobs or Elon Musk? With Our tech startup program you will boost your tech, innovater, startup, mangement, investment and entrepreneurship skills. Now we have a complete blueprint\\xa0for you start your own Internet of Things Tech Startup.\\xa0During our tech startup program you will learn and navigate through\\xa0tools, software, hardware, platforms, resources, projects, processes, methods and strategies\\xa0to penetrate your own Internet of Things Tech Startup into the market.<BR><BR></P>\\n<H3>During this Internet of Things Startup workshop we will cover:</H3>\\n<H3><BR></H3>\\n<P><STRONG>Session 1: Internet of Things Basics</STRONG></P>\\n<P>During this session we will explore the very foundation and the basic systems\\xa0and platforms for you to integrate into your own tech startup process.\\xa0<BR></P>\\n<UL>\\n<LI>Internet of Things Hardware</LI>\\n<LI>Internet of Things Software</LI>\\n<LI>Internet of Things\\xa0Platforms</LI>\\n<LI>Internet of Things Projects</LI>\\n<LI>Internet of Things Systems</LI>\\n<LI>Internet of Things Blueprint</LI>\\n<LI>Internet of Things\\xa0Tools</LI>\\n<LI>Internet of Things Resources<BR><BR><BR></LI>\\n</UL>\\n<P><BR><STRONG>Session 2:\\xa0Tech Startup Ideas</STRONG><BR>During this session we will explore tech startup ideas for you\\xa0to implement and integrate into your own tech startup or\\xa0use them as an inspirational source for developing your own\\xa0products, projects, prototypes or services in your tech startup<BR></P>\\n<UL>\\n<LI>GeoIoT</LI>\\n<LI>EcoIoT</LI>\\n<LI>AgriIoT</LI>\\n<LI>Industrial IoT</LI>\\n<LI>Retail IoT</LI>\\n<LI>Bio IoT</LI>\\n<LI>Medical Devices</LI>\\n<LI>Sensor Monitoring</LI>\\n<LI>IoT Analytics</LI>\\n<LI>Home Automation</LI>\\n<LI>Garden Automation</LI>\\n<LI>Airport Connectivity</LI>\\n<LI>Traffic Management</LI>\\n<LI>Mall Platform</LI>\\n<LI>Wearables Connectivity</LI>\\n<LI>and much more<BR><BR><BR></LI>\\n</UL>\\n<P>\\xa0</P>\\n<P><STRONG>Session 3: R&D</STRONG><BR>During this session we will explore the research process,\\xa0how you can research a specific niche industry, the market and tech trends.<BR></P>\\n<UL>\\n<LI>R&D/Research</LI>\\n<LI>R&D Tools</LI>\\n<LI>Startup Tools</LI>\\n<LI>Market Research</LI>\\n<LI>Surveys</LI>\\n<LI>Consumer Analytics</LI>\\n<LI>Market Analytics</LI>\\n<LI>Industry Analytics</LI>\\n<LI>Trends Researching<BR><BR><BR></LI>\\n</UL>\\n<P>\\xa0</P>\\n<P><STRONG>Session 4: Creativity</STRONG></P>\\n<P>During this session we will explore the creativity process,\\xa0how to increase your own creativity intelligence and implement\\xa0quality tech ideas into your own tech startup process.<BR></P>\\n<UL>\\n<LI>Creativity Tools</LI>\\n<LI>Creativity Techniques</LI>\\n<LI>Creativity Strategy</LI>\\n<LI>Mind mapping</LI>\\n<LI>Brainstorming</LI>\\n<LI>Meditation</LI>\\n<LI>Idea Exploring</LI>\\n<LI>Idea Blender</LI>\\n<LI>Key-Point System</LI>\\n<LI>Problem Solving Strategy</LI>\\n<LI>Incubation</LI>\\n<LI>Creative intelligence</LI>\\n<LI>Outside the Box Thinking</LI>\\n<LI>Lateral Thinking</LI>\\n<LI>Productivity Tools</LI>\\n<LI>Mind Relaxation</LI>\\n<LI>Meditation</LI>\\n<LI>Higher Consciousnesses</LI>\\n<LI>Inspiration Tools</LI>\\n<LI>Idea Storage<BR><BR></LI>\\n</UL>\\n<P>\\xa0</P>\\n<P><STRONG>Session 5: Capital/Funding</STRONG><BR>During this session we will explore the capital and funding process\\xa0of your tech startup. How to raise capital and make systematic\\xa0attempts to penetrate into the market.<BR></P>\\n<UL>\\n<LI>Capital/Funding</LI>\\n<LI>Capital/Funding Tools</LI>\\n<LI>Capital/Funding Strategy</LI>\\n<LI>Venture Capitalists</LI>\\n<LI>Angel Investors</LI>\\n<LI>Seed Funding</LI>\\n<LI>Incubators</LI>\\n<LI>Accelerator Programs</LI>\\n<LI>Co-Founder</LI>\\n<LI>Capitalization Table</LI>\\n<LI>Crowdfunding</LI>\\n<LI>Business Trade Fairs<BR><BR></LI>\\n</UL>\\n<P>\\xa0</P>\\n<P><STRONG><IMG SRC=\"https://cdn.evbuc.com/eventlogos/231943413/capitalx4.jpg\"></STRONG></P>\\n<P><BR></P>\\n<P><STRONG>Session 6: Clients/Customers</STRONG><BR>During this session we will explore the client acquisition process.\\xa0Find your first clients and customers for your tech startup and\\xa0implement the right tools, methods and strategies for creating\\xa0an successful sale system for your specific niche industry/technology.<BR></P>\\n<UL>\\n<LI>Clients</LI>\\n<LI>Client Acquisition Strategy</LI>\\n<LI>Client Acquisition Process</LI>\\n<LI>PR Strategies</LI>\\n<LI>Social Media Marketing</LI>\\n<LI>Competitive Analysis</LI>\\n<LI>E-Mail Marketing</LI>\\n<LI>Newsletters</LI>\\n<LI>Analytics</LI>\\n<LI>SEO</LI>\\n<LI>Digital Marketing</LI>\\n<LI>Ad Systems</LI>\\n<LI>Competitor Research</LI>\\n<LI>Sale System</LI>\\n<LI>Sale Strategy</LI>\\n<LI>Growth Hacking</LI>\\n<LI>Sales Funnel</LI>\\n<LI>Email Hunting<BR><BR></LI>\\n</UL>\\n<P>\\xa0</P>\\n<P><STRONG>Session 7: Business Platform</STRONG><BR>During this session we will explore the business organizing process.\\xa0How to implement an organized and professional platform for your\\xa0tech startup for creating efficient workflow.<BR><BR></P>\\n<UL>\\n<LI>Business Automation</LI>\\n<LI>Business Process</LI>\\n<LI>Business Strategy</LI>\\n<LI>Business Model</LI>\\n<LI>Business Management</LI>\\n<LI>ERP</LI>\\n<LI>CRM</LI>\\n<LI>Human Resources (HR)</LI>\\n<LI>Recruitment</LI>\\n<LI>Intranet</LI>\\n<LI>Collaboration</LI>\\n<LI>Project Management</LI>\\n<LI>Document Management</LI>\\n<LI>Customer Support</LI>\\n<LI>Business Automation Tools<BR><BR></LI>\\n</UL>\\n<P>\\xa0</P>\\n<P><STRONG>Session 8:\\xa0<STRONG>Business Formation</STRONG></STRONG><BR>During this session we will explore the business formation process.\\xa0Which platforms, models and tools to integrate into your tech startup\\xa0formation for creating an successful launch process.<BR>Business Formation<BR></P>\\n<UL>\\n<LI>Legal</LI>\\n<LI>Contracts</LI>\\n<LI>Business Model</LI>\\n<LI>Corporate Structure</LI>\\n<LI>Payment Platforms</LI>\\n<LI>Payment Gateway</LI>\\n<LI>Invoicing System</LI>\\n<LI>Credit Cards/Payments</LI>\\n<LI>Pricing Strategies</LI>\\n<LI>Accounting</LI>\\n<LI>Subscriptions</LI>\\n<LI>Office Space</LI>\\n<LI>Virtual Address</LI>\\n<LI>Virtual Phone</LI>\\n<LI>Virtual Office</LI>\\n<LI>Remote Office</LI>\\n<LI>Virtual Assistant</LI>\\n<LI>Virtual Receptionist</LI>\\n<LI>Virtual Support</LI>\\n<LI>Outsourcing</LI>\\n<LI>Product Demo</LI>\\n<LI>Product Launch<BR><BR></LI>\\n</UL>\\n<P>\\xa0</P>\\n<P><STRONG>Session 9: Startup Coding</STRONG><BR>During this session we will explore the coding process of your tech startup.<BR>Coding/Programming<BR></P>\\n<UL>\\n<LI>IDE</LI>\\n<LI>API</LI>\\n<LI>SDK</LI>\\n<LI>GUI</LI>\\n<LI>Code Analysis</LI>\\n<LI>Data Visualization</LI>\\n<LI>Python</LI>\\n<LI>C#</LI>\\n<LI>Forms</LI>\\n<LI>Wireframing</LI>\\n<LI>Front-End</LI>\\n<LI>Back-End</LI>\\n<LI>Library</LI>\\n<LI>Frameworks</LI>\\n<LI>Testing</LI>\\n<LI>Programming Platforms</LI>\\n<LI>Programming Tools</LI>\\n<LI>Agile Development</LI>\\n<LI>Software Code Management<BR><BR></LI>\\n</UL>\\n<P>\\xa0</P>\\n<P><STRONG>Session 10: Startup\\xa0Hardware/Prototyping</STRONG><BR>During this session we will explore the hardware and prototyping process\\xa0of your tech startup. Using different tools and platform to innovate\\xa0and integrate your own tech startup projects.<BR><BR></P>\\n<UL>\\n<LI>Electronics</LI>\\n<LI>IoT</LI>\\n<LI>Raspberry Pi</LI>\\n<LI>Arduino</LI>\\n<LI>Microcontrollers</LI>\\n<LI>Sensors</LI>\\n<LI>Projects</LI>\\n<LI>Microchips</LI>\\n<LI>Hardware Boards</LI>\\n<LI>Hardware Tools</LI>\\n<LI>Hardware Platform</LI>\\n<LI>PCB</LI>\\n<LI>3D Design</LI>\\n<LI>3D Models</LI>\\n<LI>3D Printing</LI>\\n<LI>DIY Tech</LI>\\n<LI>Tech Lab</LI>\\n<LI>Embedded Systems<BR><BR><BR></LI>\\n</UL>\\n<P>\\xa0</P>\\n<P><STRONG>Session 11 : Startup IT Operations</STRONG><BR>During this session we will explore the IT infrastructure process of your tech startup.\\xa0Which platforms to use for setup an organized database system, cloud system and\\xa0other technical solutions for your tech startup to work efficiently<BR></P>\\n<UL>\\n<LI>IT Infrastructure</LI>\\n<LI>Cloud</LI>\\n<LI>Servers</LI>\\n<LI>Database</LI>\\n<LI>DevOps</LI>\\n<LI>Monitoring</LI>\\n<LI>Remote Access</LI>\\n<LI>Backup</LI>\\n<LI>Technical Documentation</LI>\\n<LI>Data Recovery</LI>\\n<LI>Encryption</LI>\\n<LI>Security</LI>\\n<LI>FTP</LI>\\n<LI>NAS</LI>\\n<LI>Deployment</LI>\\n<LI>VPN</LI>\\n<LI>VPS</LI>\\n<LI>Automation</LI>\\n<LI>Log Management</LI>\\n<LI>Networking</LI>\\n<LI>Virtualization<BR><BR></LI>\\n</UL>\\n<P>\\xa0</P>\\n<P><STRONG>Session 12 : Startup Consulting</STRONG><BR>During this session we will explore the consulting process for your tech startup.\\xa0An strategic approach, where you can receive more experience before you launch\\xa0your own specific products/projects.<BR></P>\\n<UL>\\n<LI>Tech Startup Consulting</LI>\\n<LI>Tech Consulting Services</LI>\\n<LI>Tech Consulting Structure</LI>\\n<LI>Tech Consulting Approach</LI>\\n<LI>Tech Consulting Strategy</LI>\\n<LI>Tech Consulting Contracts</LI>\\n<LI>Tech Consulting Referrals</LI>\\n<LI>Tech Consulting Portfolio</LI>\\n<LI>Tech Consulting ISO</LI>\\n<LI>Tech Consulting Integration</LI>\\n<LI>Tech Consulting Projects<BR><BR><BR></LI>\\n</UL>\\n<P>\\xa0</P>\\n<P><STRONG><IMG SRC=\"https://cdn.evbuc.com/eventlogos/231943413/startupscience.jpg\"></STRONG></P>\\n<P><BR></P>\\n<P><STRONG>Session 13 : Startup Management</STRONG><BR>During this session we will explore management process of your tech startup.\\xa0How to manage your internal and external environments for increasing the\\xa0probability of your tech startup to succeed.<BR></P>\\n<UL>\\n<LI>Tech Startup Management</LI>\\n<LI>Motivational Skills</LI>\\n<LI>Time Management</LI>\\n<LI>Team Management</LI>\\n<LI>Leadership Skills</LI>\\n<LI>Learning Skills</LI>\\n<LI>Goal Setting Skills</LI>\\n<LI>Decision Making Skills</LI>\\n<LI>Stress Management</LI>\\n<LI>Communication Skills</LI>\\n<LI>Procrastination Hacks</LI>\\n<LI>Productivity Hacks</LI>\\n<LI>Confidence Hacks</LI>\\n<LI>Growth Mindset Skills</LI>\\n<LI>Problem Solving Skills</LI>\\n<LI>Analytical Skills</LI>\\n<LI>Strategic Thinking Skills</LI>\\n<LI>Learning Management<BR><BR></LI>\\n</UL>\\n<P><STRONG>Session 14: Tech Workshops<BR></STRONG>During this session we will explore tech trends, emerging markets and disruptive technologies and future workshops</P>\\n<UL>\\n<LI>Future Workshops</LI>\\n<LI>Disruptive Technologies</LI>\\n<LI>Emerging Markets</LI>\\n<LI>Emerging Industries</LI>\\n<LI>Tech Trends<BR><BR></LI>\\n</UL>\\n<H3><BR></H3>\\n<P><BR></P>\\n<P><IMG SRC=\"https://cdn.evbuc.com/eventlogos/231943413/entrepreneurship.jpg\"></P>\\n<P><STRONG><BR></STRONG></P>\\n<DIV CLASS=\"g-group l-lg-mar-bot-6 l-md-mar-bot-4 l-pad-bot-6\">\\n<DIV CLASS=\"g-cell g-cell-10-12 g-cell-md-1-1\">\\n<DIV CLASS=\"has-user-generated-content js-d-read-more read-more js-read-more read-more--medium-down read-more--expanded\">\\n<DIV CLASS=\"js-xd-read-more-toggle-view read-more__toggle-view\">\\n<DIV CLASS=\"js-xd-read-more-contents l-mar-top-3\">\\n<P><STRONG>For more detailed information go to our website\\xa0<A HREF=\"https://www.atechup.com/\" TARGET=\"_blank\" REL=\"nofollow noopener noreferrer\">Atechup.com</A></STRONG><BR></P>\\n<P><STRONG>[This is an Online Web Workshop]<BR><BR></STRONG></P>\\n</DIV>\\n</DIV>\\n</DIV>\\n</DIV>\\n</DIV>\\n<H2><STRONG><BR>Workshop Curriculum</STRONG></H2>\\n<DIV><BR></DIV>\\n<UL>\\n<LI><STRONG>Basic Edition:</STRONG>\\xa0Tech Tools/System, Tech Startup Ideas, R&D, Startup Creativity, Startup Formation, Startup Automation.\\xa0Session 1-5.<BR>4 Hour Tech Startup Workshop<BR><BR></LI>\\n<LI><STRONG>Business Edition:</STRONG>\\xa0Tech Tools/System, Tech Startup Ideas, R&D, Startup Creativity, Startup Formation, Startup Automation, Startup Capital/Funding, Startup Clients/Marketing, Startup Programming, Startup Prototyping/Hardware, Startup IT Operations<BR>Session 1-12.<BR>12+ Hours of Tech Startup Workshops,<BR>On-Demand 30 Days\\xa0Streaming Access</LI>\\n</UL>\\n<UL>\\n<LI>\\n<P><STRONG>Premium Edition:</STRONG>\\xa0Tech Tools/System, Tech Startup Ideas, R&D, Startup Creativity, Startup Formation, Startup Automation, Startup Capital/Funding, Startup Clients/Marketing, Startup Coding/Programming, Startup Prototyping/Hardware, Startup IT Operations, Startup Management, Startup Consulting, Startup Workshops.<BR>Session 1-14. ALL Sessions.<BR>16+ Hours\\xa0of Tech Startup Workshops,<BR>On-Demand 6 Months Streaming Access<BR>24/7 VIP Support<BR>Certification/Diploma<BR>Tech Entrepreneurship Bonus Material<BR><BR></P>\\n</LI>\\n<LI>\\n<P><STRONG>Gold Edition:\\xa0</STRONG>Everything included in the Premium Edition +\\xa0\\xa0<SPAN CLASS=\"oneComWebmail-font\">Entrepreneur Starter Kit (</SPAN><SPAN CLASS=\"oneComWebmail-font\">1000+ PR Contact List PDF,\\xa0</SPAN>1000+ Journalists/Tech Blogs Contact List PDF,\\xa01000+ Tech/Startup Slack Communities\\xa0List\\xa0PDF,\\xa02500+ Potential Customers/Clients Contact List PDF,\\xa02000+ Venture Capital/Startup Funding\\xa0List\\xa0PDF,\\xa01700+ Startup Accelerators\\xa0List\\xa0PDF)</P>\\n<P><BR><BR><IMG SRC=\"https://cdn.evbuc.com/eventlogos/231943413/testimonial.jpg\"><STRONG><BR>Testimonials:</STRONG></P>\\n</LI>\\n<LI>\\n<P><I>\"Atechup Startup Workshops is the most valuable business workshop we have\\xa0<STRONG>EVER</STRONG>\\xa0purchased.\"\\xa0- Johnny M.<BR><BR></I></P>\\n</LI>\\n<LI>\\n<P><I>\"Not able to tell you how\\xa0<STRONG>HAPPY</STRONG>\\xa0I am with Atechup Startup Workshops.\"\\xa0</I><I><I>-\\xa0</I>Elisabeth F. T.<BR><BR></I></P>\\n</LI>\\n<LI>\\n<P><I>\"Atechup Startup Workshops, is a visionary product, shaping\\xa0<STRONG>FUTURE</STRONG>\\xa0tomorrow\"\\xa0</I><I>- Cohen. A<BR><BR></I></P>\\n</LI>\\n<LI>\\n<P>\"<I>I am completely blown away by the\\xa0<STRONG>QUALITY</STRONG>\\xa0and generous material. Thank you very much\" -\\xa0</I><I>Steven\\xa0 D.<BR><BR></I></P>\\n</LI>\\n<LI>\\n<P><I>\"Your company is\\xa0<STRONG>TRULY</STRONG>\\xa0upstanding and\\xa0<STRONG>UNIQUE</STRONG>. I have gotten at least 50 times the\\xa0<STRONG>VALUE</STRONG>\\xa0from your Workshops.\" - Xinye T.<BR><BR></I></P>\\n</LI>\\n<LI>\\n<P><I>\"I have\\xa0<STRONG>FUNDED</STRONG>\\xa0my Startup with Series A for the first time and its all\\xa0<STRONG>THANKS</STRONG>\\xa0to Atechup workshops\" - F. Martinez</I></P>\\n</LI>\\n</UL>\\n<P><I><BR></I></P>\\n<P><I><IMG ALT=\"\" SRC=\"https://cdn.evbuc.com/eventlogos/231943413/1-2.jpg\"></I></P>\\n<P><STRONG>For more detailed information go to our website\\xa0<A HREF=\"https://www.atechup.com/\" TARGET=\"_blank\" REL=\"nofollow noopener noreferrer\">Atechup.com<BR></A></STRONG><STRONG></STRONG></P>\\n<P><STRONG>[This is an Online Web Workshop]</STRONG></P>',\n",
       "    'text': '\\nLearn to Develop a Successful\\xa0Internet of Things Startup Company Today!\\nAlways wanted to start an Tech Startup? Want to become the next Steve Jobs or Elon Musk? With Our tech startup program you will boost your tech, innovater, startup, mangement, investment and entrepreneurship skills. Now we have a complete blueprint\\xa0for you start your own Internet of Things Tech Startup.\\xa0During our tech startup program you will learn and navigate through\\xa0tools, software, hardware, platforms, resources, projects, processes, methods and strategies\\xa0to penetrate your own Internet of Things Tech Startup into the market.\\nDuring this Internet of Things Startup workshop we will cover:\\n\\nSession 1: Internet of Things Basics\\nDuring this session we will explore the very foundation and the basic systems\\xa0and platforms for you to integrate into your own tech startup process.\\xa0\\n\\nInternet of Things Hardware\\nInternet of Things Software\\nInternet of Things\\xa0Platforms\\nInternet of Things Projects\\nInternet of Things Systems\\nInternet of Things Blueprint\\nInternet of Things\\xa0Tools\\nInternet of Things Resources\\n\\nSession 2:\\xa0Tech Startup IdeasDuring this session we will explore tech startup ideas for you\\xa0to implement and integrate into your own tech startup or\\xa0use them as an inspirational source for developing your own\\xa0products, projects, prototypes or services in your tech startup\\n\\nGeoIoT\\nEcoIoT\\nAgriIoT\\nIndustrial IoT\\nRetail IoT\\nBio IoT\\nMedical Devices\\nSensor Monitoring\\nIoT Analytics\\nHome Automation\\nGarden Automation\\nAirport Connectivity\\nTraffic Management\\nMall Platform\\nWearables Connectivity\\nand much more\\n\\n\\xa0\\nSession 3: R&DDuring this session we will explore the research process,\\xa0how you can research a specific niche industry, the market and tech trends.\\n\\nR&D/Research\\nR&D Tools\\nStartup Tools\\nMarket Research\\nSurveys\\nConsumer Analytics\\nMarket Analytics\\nIndustry Analytics\\nTrends Researching\\n\\n\\xa0\\nSession 4: Creativity\\nDuring this session we will explore the creativity process,\\xa0how to increase your own creativity intelligence and implement\\xa0quality tech ideas into your own tech startup process.\\n\\nCreativity Tools\\nCreativity Techniques\\nCreativity Strategy\\nMind mapping\\nBrainstorming\\nMeditation\\nIdea Exploring\\nIdea Blender\\nKey-Point System\\nProblem Solving Strategy\\nIncubation\\nCreative intelligence\\nOutside the Box Thinking\\nLateral Thinking\\nProductivity Tools\\nMind Relaxation\\nMeditation\\nHigher Consciousnesses\\nInspiration Tools\\nIdea Storage\\n\\n\\xa0\\nSession 5: Capital/FundingDuring this session we will explore the capital and funding process\\xa0of your tech startup. How to raise capital and make systematic\\xa0attempts to penetrate into the market.\\n\\nCapital/Funding\\nCapital/Funding Tools\\nCapital/Funding Strategy\\nVenture Capitalists\\nAngel Investors\\nSeed Funding\\nIncubators\\nAccelerator Programs\\nCo-Founder\\nCapitalization Table\\nCrowdfunding\\nBusiness Trade Fairs\\n\\n\\xa0\\n\\n\\nSession 6: Clients/CustomersDuring this session we will explore the client acquisition process.\\xa0Find your first clients and customers for your tech startup and\\xa0implement the right tools, methods and strategies for creating\\xa0an successful sale system for your specific niche industry/technology.\\n\\nClients\\nClient Acquisition Strategy\\nClient Acquisition Process\\nPR Strategies\\nSocial Media Marketing\\nCompetitive Analysis\\nE-Mail Marketing\\nNewsletters\\nAnalytics\\nSEO\\nDigital Marketing\\nAd Systems\\nCompetitor Research\\nSale System\\nSale Strategy\\nGrowth Hacking\\nSales Funnel\\nEmail Hunting\\n\\n\\xa0\\nSession 7: Business PlatformDuring this session we will explore the business organizing process.\\xa0How to implement an organized and professional platform for your\\xa0tech startup for creating efficient workflow.\\n\\nBusiness Automation\\nBusiness Process\\nBusiness Strategy\\nBusiness Model\\nBusiness Management\\nERP\\nCRM\\nHuman Resources (HR)\\nRecruitment\\nIntranet\\nCollaboration\\nProject Management\\nDocument Management\\nCustomer Support\\nBusiness Automation Tools\\n\\n\\xa0\\nSession 8:\\xa0Business FormationDuring this session we will explore the business formation process.\\xa0Which platforms, models and tools to integrate into your tech startup\\xa0formation for creating an successful launch process.Business Formation\\n\\nLegal\\nContracts\\nBusiness Model\\nCorporate Structure\\nPayment Platforms\\nPayment Gateway\\nInvoicing System\\nCredit Cards/Payments\\nPricing Strategies\\nAccounting\\nSubscriptions\\nOffice Space\\nVirtual Address\\nVirtual Phone\\nVirtual Office\\nRemote Office\\nVirtual Assistant\\nVirtual Receptionist\\nVirtual Support\\nOutsourcing\\nProduct Demo\\nProduct Launch\\n\\n\\xa0\\nSession 9: Startup CodingDuring this session we will explore the coding process of your tech startup.Coding/Programming\\n\\nIDE\\nAPI\\nSDK\\nGUI\\nCode Analysis\\nData Visualization\\nPython\\nC#\\nForms\\nWireframing\\nFront-End\\nBack-End\\nLibrary\\nFrameworks\\nTesting\\nProgramming Platforms\\nProgramming Tools\\nAgile Development\\nSoftware Code Management\\n\\n\\xa0\\nSession 10: Startup\\xa0Hardware/PrototypingDuring this session we will explore the hardware and prototyping process\\xa0of your tech startup. Using different tools and platform to innovate\\xa0and integrate your own tech startup projects.\\n\\nElectronics\\nIoT\\nRaspberry Pi\\nArduino\\nMicrocontrollers\\nSensors\\nProjects\\nMicrochips\\nHardware Boards\\nHardware Tools\\nHardware Platform\\nPCB\\n3D Design\\n3D Models\\n3D Printing\\nDIY Tech\\nTech Lab\\nEmbedded Systems\\n\\n\\xa0\\nSession 11 : Startup IT OperationsDuring this session we will explore the IT infrastructure process of your tech startup.\\xa0Which platforms to use for setup an organized database system, cloud system and\\xa0other technical solutions for your tech startup to work efficiently\\n\\nIT Infrastructure\\nCloud\\nServers\\nDatabase\\nDevOps\\nMonitoring\\nRemote Access\\nBackup\\nTechnical Documentation\\nData Recovery\\nEncryption\\nSecurity\\nFTP\\nNAS\\nDeployment\\nVPN\\nVPS\\nAutomation\\nLog Management\\nNetworking\\nVirtualization\\n\\n\\xa0\\nSession 12 : Startup ConsultingDuring this session we will explore the consulting process for your tech startup.\\xa0An strategic approach, where you can receive more experience before you launch\\xa0your own specific products/projects.\\n\\nTech Startup Consulting\\nTech Consulting Services\\nTech Consulting Structure\\nTech Consulting Approach\\nTech Consulting Strategy\\nTech Consulting Contracts\\nTech Consulting Referrals\\nTech Consulting Portfolio\\nTech Consulting ISO\\nTech Consulting Integration\\nTech Consulting Projects\\n\\n\\xa0\\n\\n\\nSession 13 : Startup ManagementDuring this session we will explore management process of your tech startup.\\xa0How to manage your internal and external environments for increasing the\\xa0probability of your tech startup to succeed.\\n\\nTech Startup Management\\nMotivational Skills\\nTime Management\\nTeam Management\\nLeadership Skills\\nLearning Skills\\nGoal Setting Skills\\nDecision Making Skills\\nStress Management\\nCommunication Skills\\nProcrastination Hacks\\nProductivity Hacks\\nConfidence Hacks\\nGrowth Mindset Skills\\nProblem Solving Skills\\nAnalytical Skills\\nStrategic Thinking Skills\\nLearning Management\\n\\nSession 14: Tech WorkshopsDuring this session we will explore tech trends, emerging markets and disruptive technologies and future workshops\\n\\nFuture Workshops\\nDisruptive Technologies\\nEmerging Markets\\nEmerging Industries\\nTech Trends\\n\\n\\n\\n\\n\\n\\n\\n\\n\\n\\nFor more detailed information go to our website\\xa0Atechup.com\\n[This is an Online Web Workshop]\\n\\n\\n\\n\\n\\nWorkshop Curriculum\\n\\n\\nBasic Edition:\\xa0Tech Tools/System, Tech Startup Ideas, R&D, Startup Creativity, Startup Formation, Startup Automation.\\xa0Session 1-5.4 Hour Tech Startup Workshop\\nBusiness Edition:\\xa0Tech Tools/System, Tech Startup Ideas, R&D, Startup Creativity, Startup Formation, Startup Automation, Startup Capital/Funding, Startup Clients/Marketing, Startup Programming, Startup Prototyping/Hardware, Startup IT OperationsSession 1-12.12+ Hours of Tech Startup Workshops,On-Demand 30 Days\\xa0Streaming Access\\n\\n\\n\\nPremium Edition:\\xa0Tech Tools/System, Tech Startup Ideas, R&D, Startup Creativity, Startup Formation, Startup Automation, Startup Capital/Funding, Startup Clients/Marketing, Startup Coding/Programming, Startup Prototyping/Hardware, Startup IT Operations, Startup Management, Startup Consulting, Startup Workshops.Session 1-14. ALL Sessions.16+ Hours\\xa0of Tech Startup Workshops,On-Demand 6 Months Streaming Access24/7 VIP SupportCertification/DiplomaTech Entrepreneurship Bonus Material\\n\\n\\nGold Edition:\\xa0Everything included in the Premium Edition +\\xa0\\xa0Entrepreneur Starter Kit (1000+ PR Contact List PDF,\\xa01000+ Journalists/Tech Blogs Contact List PDF,\\xa01000+ Tech/Startup Slack Communities\\xa0List\\xa0PDF,\\xa02500+ Potential Customers/Clients Contact List PDF,\\xa02000+ Venture Capital/Startup Funding\\xa0List\\xa0PDF,\\xa01700+ Startup Accelerators\\xa0List\\xa0PDF)\\nTestimonials:\\n\\n\\n\"Atechup Startup Workshops is the most valuable business workshop we have\\xa0EVER\\xa0purchased.\"\\xa0- Johnny M.\\n\\n\\n\"Not able to tell you how\\xa0HAPPY\\xa0I am with Atechup Startup Workshops.\"\\xa0-\\xa0Elisabeth F. T.\\n\\n\\n\"Atechup Startup Workshops, is a visionary product, shaping\\xa0FUTURE\\xa0tomorrow\"\\xa0- Cohen. A\\n\\n\\n\"I am completely blown away by the\\xa0QUALITY\\xa0and generous material. Thank you very much\" -\\xa0Steven\\xa0 D.\\n\\n\\n\"Your company is\\xa0TRULY\\xa0upstanding and\\xa0UNIQUE. I have gotten at least 50 times the\\xa0VALUE\\xa0from your Workshops.\" - Xinye T.\\n\\n\\n\"I have\\xa0FUNDED\\xa0my Startup with Series A for the first time and its all\\xa0THANKS\\xa0to Atechup workshops\" - F. Martinez\\n\\n\\n\\n\\nFor more detailed information go to our website\\xa0Atechup.com\\n[This is an Online Web Workshop]'},\n",
       "   'end': {'local': '2019-02-26T17:30:00',\n",
       "    'timezone': 'Australia/Melbourne',\n",
       "    'utc': '2019-02-26T06:30:00Z'},\n",
       "   'format_id': '9',\n",
       "   'hide_end_date': False,\n",
       "   'hide_start_date': False,\n",
       "   'id': '52783547010',\n",
       "   'inventory_type': 'limited',\n",
       "   'is_externally_ticketed': False,\n",
       "   'is_free': False,\n",
       "   'is_locked': False,\n",
       "   'is_reserved_seating': False,\n",
       "   'is_series': True,\n",
       "   'is_series_parent': False,\n",
       "   'listed': True,\n",
       "   'locale': 'en_US',\n",
       "   'logo': {'aspect_ratio': '2',\n",
       "    'crop_mask': {'height': 2400,\n",
       "     'top_left': {'x': 0, 'y': 399},\n",
       "     'width': 4800},\n",
       "    'edge_color': '#9c9590',\n",
       "    'edge_color_set': True,\n",
       "    'id': '52234261',\n",
       "    'original': {'height': 3200,\n",
       "     'url': 'https://img.evbuc.com/https%3A%2F%2Fcdn.evbuc.com%2Fimages%2F52234261%2F233567016891%2F1%2Foriginal.jpg?auto=compress&s=3660a58df9b14ba8e64bb72a3611accb',\n",
       "     'width': 4800},\n",
       "    'url': 'https://img.evbuc.com/https%3A%2F%2Fcdn.evbuc.com%2Fimages%2F52234261%2F233567016891%2F1%2Foriginal.jpg?h=200&w=450&auto=compress&rect=0%2C399%2C4800%2C2400&s=9c2e8669e2034f7f95e45d7fd33d2fb4'},\n",
       "   'logo_id': '52234261',\n",
       "   'name': {'html': 'Develop a Successful Internet Of Things IoT Tech Startup Business! Melbourne - Entrepreneur - Workshop - Hackathon - Bootcamp - Virtual Class - Seminar - Training - Lecture - Webinar - Conference - Course',\n",
       "    'text': 'Develop a Successful Internet Of Things IoT Tech Startup Business! Melbourne - Entrepreneur - Workshop - Hackathon - Bootcamp - Virtual Class - Seminar - Training - Lecture - Webinar - Conference - Course'},\n",
       "   'online_event': False,\n",
       "   'organization_id': '233567016891',\n",
       "   'organizer_id': '15646132597',\n",
       "   'privacy_setting': 'unlocked',\n",
       "   'resource_uri': 'https://www.eventbriteapi.com/v3/events/52783547010/',\n",
       "   'series_id': '43836143084',\n",
       "   'shareable': True,\n",
       "   'show_colors_in_seatmap_thumbnail': False,\n",
       "   'show_pick_a_seat': False,\n",
       "   'show_seatmap_thumbnail': False,\n",
       "   'source': 'create_2.0',\n",
       "   'start': {'local': '2019-02-26T13:00:00',\n",
       "    'timezone': 'Australia/Melbourne',\n",
       "    'utc': '2019-02-26T02:00:00Z'},\n",
       "   'status': 'live',\n",
       "   'subcategory_id': '1001',\n",
       "   'tx_time_limit': 600,\n",
       "   'url': 'https://www.eventbrite.com/e/develop-a-successful-internet-of-things-iot-tech-startup-business-melbourne-entrepreneur-workshop-tickets-52783547010?aff=ebapi',\n",
       "   'venue_id': '26940246',\n",
       "   'version': '3.0.0'}],\n",
       " 'location': {'address': 'Melbourne',\n",
       "  'augmented_location': {'city': 'Melbourne',\n",
       "   'country': 'Australia',\n",
       "   'region': 'Victoria'},\n",
       "  'latitude': '-37.813628',\n",
       "  'longitude': '144.963058',\n",
       "  'within': '50.0'},\n",
       " 'pagination': {'has_more_items': False,\n",
       "  'object_count': 9,\n",
       "  'page_count': 1,\n",
       "  'page_number': 1,\n",
       "  'page_size': 50}}"
      ]
     },
     "execution_count": 30,
     "metadata": {},
     "output_type": "execute_result"
    }
   ],
   "source": [
    "call.json()"
   ]
  },
  {
   "cell_type": "code",
   "execution_count": 33,
   "metadata": {},
   "outputs": [
    {
     "name": "stdout",
     "output_type": "stream",
     "text": [
      "{'html': 'Introduction to Python for Data Analysis: Melbourne, 5–6 March 2019', 'text': 'Introduction to Python for Data Analysis: Melbourne, 5–6 March 2019'}\n",
      "{'timezone': 'Australia/Melbourne', 'utc': '2019-03-04T22:30:00Z', 'local': '2019-03-05T09:30:00'}\n",
      "\n",
      "\n",
      "{'html': 'Makers, Coders, Creators Unite - CoderDojo Altona North', 'text': 'Makers, Coders, Creators Unite - CoderDojo Altona North'}\n",
      "{'timezone': 'Australia/Melbourne', 'utc': '2019-02-22T23:00:00Z', 'local': '2019-02-23T10:00:00'}\n",
      "\n",
      "\n",
      "{'html': 'Machine Learning, Deep Learning and Data visualization Summit in Melbourne ', 'text': 'Machine Learning, Deep Learning and Data visualization Summit in Melbourne '}\n",
      "{'timezone': 'Australia/Melbourne', 'utc': '2019-03-05T21:30:00Z', 'local': '2019-03-06T08:30:00'}\n",
      "\n",
      "\n",
      "{'html': 'Introduction to R and Data Visualisation: Melbourne, 25–26 February 2019', 'text': 'Introduction to R and Data Visualisation: Melbourne, 25–26 February 2019'}\n",
      "{'timezone': 'Australia/Melbourne', 'utc': '2019-02-24T22:30:00Z', 'local': '2019-02-25T09:30:00'}\n",
      "\n",
      "\n",
      "{'html': 'Quantum Computing: Melbourne, 7–8 March 2019', 'text': 'Quantum Computing: Melbourne, 7–8 March 2019'}\n",
      "{'timezone': 'Australia/Melbourne', 'utc': '2019-03-06T22:30:00Z', 'local': '2019-03-07T09:30:00'}\n",
      "\n",
      "\n",
      "{'html': 'Develop a Successful Smart Nursing Tech Startup Business! Melbourne - Entrepreneur - Workshop - Hackathon - Bootcamp - Virtual Class - Seminar - Training - Lecture - Webinar - Conference - Course', 'text': 'Develop a Successful Smart Nursing Tech Startup Business! Melbourne - Entrepreneur - Workshop - Hackathon - Bootcamp - Virtual Class - Seminar - Training - Lecture - Webinar - Conference - Course'}\n",
      "{'timezone': 'Australia/Melbourne', 'utc': '2019-02-24T02:00:00Z', 'local': '2019-02-24T13:00:00'}\n",
      "\n",
      "\n",
      "{'html': 'Develop a Successful Drone Tech Startup Business! Melbourne - Entrepreneur - Workshop - Hackathon - Bootcamp - Virtual Class - Seminar - Training - Lecture - Webinar - Conference - Course', 'text': 'Develop a Successful Drone Tech Startup Business! Melbourne - Entrepreneur - Workshop - Hackathon - Bootcamp - Virtual Class - Seminar - Training - Lecture - Webinar - Conference - Course'}\n",
      "{'timezone': 'Australia/Melbourne', 'utc': '2019-02-26T02:00:00Z', 'local': '2019-02-26T13:00:00'}\n",
      "\n",
      "\n",
      "{'html': 'Develop a Successful IT Tech Startup Business Today! Melbourne - Cloud - DevOps - Workshop - Bootcamp - Virtual Class - Seminar - Training - Lecture - Webinar - Conference', 'text': 'Develop a Successful IT Tech Startup Business Today! Melbourne - Cloud - DevOps - Workshop - Bootcamp - Virtual Class - Seminar - Training - Lecture - Webinar - Conference'}\n",
      "{'timezone': 'Australia/Melbourne', 'utc': '2019-02-25T02:00:00Z', 'local': '2019-02-25T13:00:00'}\n",
      "\n",
      "\n",
      "{'html': 'Develop a Successful Internet Of Things IoT Tech Startup Business! Melbourne - Entrepreneur - Workshop - Hackathon - Bootcamp - Virtual Class - Seminar - Training - Lecture - Webinar - Conference - Course', 'text': 'Develop a Successful Internet Of Things IoT Tech Startup Business! Melbourne - Entrepreneur - Workshop - Hackathon - Bootcamp - Virtual Class - Seminar - Training - Lecture - Webinar - Conference - Course'}\n",
      "{'timezone': 'Australia/Melbourne', 'utc': '2019-02-26T02:00:00Z', 'local': '2019-02-26T13:00:00'}\n",
      "\n",
      "\n"
     ]
    }
   ],
   "source": [
    "## list all of the courses that were returned in our search\n",
    "resp = call.json()\n",
    "for i in range(len(resp['events'])):\n",
    "    print(\"{0}\\n{1}\\n\\n\".format(resp['events'][i]['name'], resp['events'][i]['start']))"
   ]
  },
  {
   "cell_type": "code",
   "execution_count": null,
   "metadata": {
    "collapsed": true
   },
   "outputs": [],
   "source": [
    "## Let's create another \n",
    "\n",
    "def safely_call_eb(url, headers):\n",
    "    ## use try except to catch any connection or timeout errors\n",
    "    try: \n",
    "        call = requests.get(url, headers=headers)\n",
    "        print(\"Succesful connection\", url)\n",
    "    except requests.exceptions.RequestException as err: ## for if there is some sort of connection error\n",
    "        print(\"Ooops: Something went wrong\",err)\n",
    "    ## other possible requests exceptions: HTTPError, ConnectionError, Timeout\n",
    "\n",
    "    ## use another catch in case it hasn't authenticated properly or the query is wrong\n",
    "    if call.status_code != 200:\n",
    "        print(\"Something went wrong:\", call.json()['error_description'])\n",
    "    else:\n",
    "        print(\"Successful call! You're good to go\")\n",
    "    return(call)"
   ]
  },
  {
   "cell_type": "code",
   "execution_count": 41,
   "metadata": {},
   "outputs": [
    {
     "name": "stdout",
     "output_type": "stream",
     "text": [
      "Succesful connection https://www.eventbriteapi.com/v3/events/54325394718/\n",
      "Successful call! You're good to go\n"
     ]
    }
   ],
   "source": [
    "## Let's search for our event today\n",
    "event_id = \"54325394718\" ## Our event id\n",
    "\n",
    "## build the query url\n",
    "url = build_url(event_id)\n",
    "## Does it work??\n",
    "call = safely_call_eb(url, headers)"
   ]
  },
  {
   "cell_type": "code",
   "execution_count": 42,
   "metadata": {},
   "outputs": [
    {
     "name": "stdout",
     "output_type": "stream",
     "text": [
      "Programming with Python  at Deakin Geelong Waterfront\n",
      "{'timezone': 'Australia/Sydney', 'utc': '2019-02-19T22:30:00Z', 'local': '2019-02-20T09:30:00'}\n"
     ]
    }
   ],
   "source": [
    "## what does the response say?\n",
    "resp = call.json()\n",
    "\n",
    "## retrieving the title of today's event event\n",
    "print(resp['name']['text'])\n",
    "print(resp['start'])"
   ]
  },
  {
   "cell_type": "markdown",
   "metadata": {},
   "source": [
    "### `Get` orders information"
   ]
  },
  {
   "cell_type": "code",
   "execution_count": 43,
   "metadata": {
    "scrolled": true
   },
   "outputs": [
    {
     "name": "stdout",
     "output_type": "stream",
     "text": [
      "Succesful connection https://www.eventbriteapi.com/v3/events/54325394718/orders/\n",
      "Something went wrong: You do not have permission to access the resource you requested.\n"
     ]
    }
   ],
   "source": [
    "## GET https://www.eventbriteapi.com/v3/events/event_id/orders\n",
    "## are we authorised to get this information?\n",
    "\n",
    "url=build_url(event_id, second=\"orders\")\n",
    "\n",
    "## calling the api\n",
    "call = safely_call_eb(url, headers)\n"
   ]
  },
  {
   "cell_type": "markdown",
   "metadata": {},
   "source": [
    "### Let's create / `post` our own event"
   ]
  },
  {
   "cell_type": "code",
   "execution_count": 71,
   "metadata": {
    "collapsed": true
   },
   "outputs": [],
   "source": [
    "event_name = \"<p>Python course for Networks/AV 2</p>\"\n",
    "description = \"<p>This course is run by Paddy Tobias</p>\"\n",
    "start_time = \"2019-02-13T01:00:00Z\"\n",
    "end_time = \"2019-02-13T02:00:00Z\"\n",
    "tz = \"Australia/Melbourne\"\n",
    "currency = \"AUD\"\n",
    "capacity = 10\n",
    "\n",
    "## json entry\n",
    "details = {\n",
    "\"event\":{\n",
    "    \"name\":{\n",
    "        \"html\":event_name\n",
    "    }, \n",
    "       \"description\":{\n",
    "        \"html\":description\n",
    "    }, \n",
    "       \"start\":{\n",
    "        \"timezone\": tz, \n",
    "        \"utc\":start_time\n",
    "    }, \n",
    "       \"end\":{\n",
    "        \"timezone\":tz, \n",
    "        \"utc\":end_time\n",
    "    }, \n",
    "      \"currency\": currency, \n",
    "     \"capacity\": capacity\n",
    "    }\n",
    "}"
   ]
  },
  {
   "cell_type": "code",
   "execution_count": 72,
   "metadata": {},
   "outputs": [
    {
     "name": "stdout",
     "output_type": "stream",
     "text": [
      "https://www.eventbriteapi.com/v3/organizations/156166045374/events/\n"
     ]
    }
   ],
   "source": [
    "## constructing URL. org_id is required\n",
    "url =  build_url(first=\"organizations\", id = org_id, second = \"events\")\n",
    "print(url)"
   ]
  },
  {
   "cell_type": "markdown",
   "metadata": {},
   "source": [
    "Using Post, there is a third argument we need to pass to our safely_call_eb() function. \n",
    "We have to pass it the thing that we want to post; `details`. \n",
    "\n",
    "So let's modify our `safely_call_eb()` function, adding a third argument.\n"
   ]
  },
  {
   "cell_type": "code",
   "execution_count": 74,
   "metadata": {
    "collapsed": true
   },
   "outputs": [],
   "source": [
    "def safely_call_eb(url, headers, post=\"\"):\n",
    "    ## use try except to catch any connection or timeout errors\n",
    "    try: \n",
    "        if post==\"\": ## when using get\n",
    "            call = requests.get(url, headers=headers) \n",
    "        else: ## when using post\n",
    "            call = requests.post(url, json=post, headers=headers)\n",
    "        print(\"Succesful connection\", url)  \n",
    "    except requests.exceptions.RequestException as err: ## for if there is some sort of connection error\n",
    "        print(\"Ooops: Something went wrong\",err)\n",
    "    ## other possible requests exceptions: HTTPError, ConnectionError, Timeout\n",
    "\n",
    "    ## use another catch in case it hasn't authenticated properly or the query is wrong\n",
    "    if call.status_code != 200:\n",
    "        print(\"Something went wrong:\", call.json()['error_description'])\n",
    "    else:\n",
    "        print(\"Successful call! You're good to go\")\n",
    "    return(call)"
   ]
  },
  {
   "cell_type": "code",
   "execution_count": 75,
   "metadata": {
    "scrolled": false
   },
   "outputs": [
    {
     "name": "stdout",
     "output_type": "stream",
     "text": [
      "Succesful connection https://www.eventbriteapi.com/v3/organizations/156166045374/events/\n",
      "Successful call! You're good to go\n"
     ]
    }
   ],
   "source": [
    "## creating the event, using POST\n",
    "\n",
    "call = safely_call_eb(url, headers, post= details)\n",
    "\n"
   ]
  },
  {
   "cell_type": "code",
   "execution_count": 79,
   "metadata": {
    "collapsed": true
   },
   "outputs": [],
   "source": [
    "resp=call.json()"
   ]
  },
  {
   "cell_type": "code",
   "execution_count": 80,
   "metadata": {},
   "outputs": [
    {
     "name": "stdout",
     "output_type": "stream",
     "text": [
      "56456390584\n"
     ]
    }
   ],
   "source": [
    "## let's save the event_id\n",
    "event_id = resp['id']\n",
    "print(event_id)"
   ]
  },
  {
   "cell_type": "markdown",
   "metadata": {},
   "source": [
    "### What about updating?"
   ]
  },
  {
   "cell_type": "code",
   "execution_count": 84,
   "metadata": {
    "collapsed": true
   },
   "outputs": [],
   "source": [
    "## We want to give out event a new name\n",
    "new_event_name = \"<p>Python course for Networks/AV and everyone else!</p>\"\n",
    "## update the event\n",
    "details = {\n",
    "    \"event\":{\n",
    "        \"name\":{\n",
    "            \"html\":new_event_name\n",
    "        }\n",
    "    }\n",
    "}\n"
   ]
  },
  {
   "cell_type": "code",
   "execution_count": 85,
   "metadata": {},
   "outputs": [
    {
     "name": "stdout",
     "output_type": "stream",
     "text": [
      "https://www.eventbriteapi.com/v3/events/56456390584/\n",
      "Succesful connection https://www.eventbriteapi.com/v3/events/56456390584/\n",
      "Successful call! You're good to go\n"
     ]
    },
    {
     "data": {
      "text/plain": [
       "{'capacity': 10,\n",
       " 'capacity_is_custom': True,\n",
       " 'category_id': None,\n",
       " 'changed': '2019-02-13T00:57:33Z',\n",
       " 'created': '2019-02-13T00:53:53Z',\n",
       " 'currency': 'AUD',\n",
       " 'description': {'html': '<P>This course is run by Paddy Tobias</P>',\n",
       "  'text': 'This course is run by Paddy Tobias'},\n",
       " 'end': {'local': '2019-02-13T13:00:00',\n",
       "  'timezone': 'Australia/Melbourne',\n",
       "  'utc': '2019-02-13T02:00:00Z'},\n",
       " 'format_id': None,\n",
       " 'hide_end_date': None,\n",
       " 'hide_start_date': None,\n",
       " 'id': '56456390584',\n",
       " 'inventory_type': 'limited',\n",
       " 'invite_only': False,\n",
       " 'is_externally_ticketed': False,\n",
       " 'is_free': True,\n",
       " 'is_locked': False,\n",
       " 'is_reserved_seating': False,\n",
       " 'is_series': False,\n",
       " 'is_series_parent': False,\n",
       " 'listed': True,\n",
       " 'locale': 'en_US',\n",
       " 'logo': None,\n",
       " 'logo_id': None,\n",
       " 'name': {'html': 'Python course for Networks/AV and everyone else! ',\n",
       "  'text': 'Python course for Networks/AV and everyone else! '},\n",
       " 'online_event': False,\n",
       " 'organization_id': '156166045374',\n",
       " 'organizer_id': '18794506013',\n",
       " 'privacy_setting': 'unlocked',\n",
       " 'resource_uri': 'https://www.eventbriteapi.com/v3/events/56456390584/',\n",
       " 'shareable': False,\n",
       " 'show_colors_in_seatmap_thumbnail': False,\n",
       " 'show_pick_a_seat': False,\n",
       " 'show_remaining': False,\n",
       " 'show_seatmap_thumbnail': False,\n",
       " 'source': 'api',\n",
       " 'start': {'local': '2019-02-13T12:00:00',\n",
       "  'timezone': 'Australia/Melbourne',\n",
       "  'utc': '2019-02-13T01:00:00Z'},\n",
       " 'status': 'draft',\n",
       " 'subcategory_id': None,\n",
       " 'tx_time_limit': 480,\n",
       " 'url': 'https://www.eventbrite.com.au/e/python-course-for-networksav-and-everyone-else-tickets-56456390584',\n",
       " 'venue_id': None,\n",
       " 'version': '3.0.0'}"
      ]
     },
     "execution_count": 85,
     "metadata": {},
     "output_type": "execute_result"
    }
   ],
   "source": [
    "\n",
    "url = build_url(event_id)\n",
    "print(url)\n",
    "\n",
    "call= safely_call_eb(url, headers, post=details)\n",
    "call.json()"
   ]
  },
  {
   "cell_type": "code",
   "execution_count": 90,
   "metadata": {
    "collapsed": true
   },
   "outputs": [],
   "source": [
    "def safely_call_eb(url, headers, action=\"get\", post=\"\"):\n",
    "    assert action in (\"get\", \"post\"), \"action needs equal 'get' or 'post'\"\n",
    "    ## use try except to catch any connection or timeout errors\n",
    "    try: \n",
    "        if action==\"get\": ## when using get\n",
    "            call = requests.get(url, headers=headers) \n",
    "        elif action==\"post\" and post != \"\": ## when using post to post something\n",
    "            call = requests.post(url, json=post, headers=headers)\n",
    "        elif action==\"post\" and post == \"\": ## when using post for other reasons\n",
    "            call = requests.post(url, headers=headers)\n",
    "        print(\"Succesful connection\", url)\n",
    "    except requests.exceptions.RequestException as err: ## for if there is some sort of connection error\n",
    "        print(\"Ooops: Something went wrong\",err)\n",
    "    ## other possible requests exceptions: HTTPError, ConnectionError, Timeout\n",
    "\n",
    "    ## use another catch in case it hasn't authenticated properly or the query is wrong\n",
    "    if call.status_code != 200:\n",
    "        print(\"Something went wrong:\", call.json()['error_description'])\n",
    "    else:\n",
    "        print(\"Successful call! You're good to go\")\n",
    "    return(call)"
   ]
  },
  {
   "cell_type": "code",
   "execution_count": 91,
   "metadata": {},
   "outputs": [
    {
     "name": "stdout",
     "output_type": "stream",
     "text": [
      "https://www.eventbriteapi.com/v3/events/56456390584/cancel/\n"
     ]
    },
    {
     "ename": "AssertionError",
     "evalue": "action needs equal 'get' or 'post'",
     "output_type": "error",
     "traceback": [
      "\u001b[1;31m---------------------------------------------------------------------------\u001b[0m",
      "\u001b[1;31mAssertionError\u001b[0m                            Traceback (most recent call last)",
      "\u001b[1;32m<ipython-input-91-c37e93e168b3>\u001b[0m in \u001b[0;36m<module>\u001b[1;34m()\u001b[0m\n\u001b[0;32m      3\u001b[0m \u001b[0mprint\u001b[0m\u001b[1;33m(\u001b[0m\u001b[0murl\u001b[0m\u001b[1;33m)\u001b[0m\u001b[1;33m\u001b[0m\u001b[0m\n\u001b[0;32m      4\u001b[0m \u001b[1;33m\u001b[0m\u001b[0m\n\u001b[1;32m----> 5\u001b[1;33m \u001b[0mcall\u001b[0m \u001b[1;33m=\u001b[0m \u001b[0msafely_call_eb\u001b[0m\u001b[1;33m(\u001b[0m\u001b[0murl\u001b[0m\u001b[1;33m,\u001b[0m \u001b[0maction\u001b[0m\u001b[1;33m=\u001b[0m\u001b[1;34m\"p\"\u001b[0m\u001b[1;33m,\u001b[0m \u001b[0mheaders\u001b[0m\u001b[1;33m=\u001b[0m\u001b[0mheaders\u001b[0m\u001b[1;33m)\u001b[0m\u001b[1;33m\u001b[0m\u001b[0m\n\u001b[0m",
      "\u001b[1;32m<ipython-input-90-a1a187699307>\u001b[0m in \u001b[0;36msafely_call_eb\u001b[1;34m(url, headers, action, post)\u001b[0m\n\u001b[0;32m      1\u001b[0m \u001b[1;32mdef\u001b[0m \u001b[0msafely_call_eb\u001b[0m\u001b[1;33m(\u001b[0m\u001b[0murl\u001b[0m\u001b[1;33m,\u001b[0m \u001b[0mheaders\u001b[0m\u001b[1;33m,\u001b[0m \u001b[0maction\u001b[0m\u001b[1;33m=\u001b[0m\u001b[1;34m\"get\"\u001b[0m\u001b[1;33m,\u001b[0m \u001b[0mpost\u001b[0m\u001b[1;33m=\u001b[0m\u001b[1;34m\"\"\u001b[0m\u001b[1;33m)\u001b[0m\u001b[1;33m:\u001b[0m\u001b[1;33m\u001b[0m\u001b[0m\n\u001b[1;32m----> 2\u001b[1;33m     \u001b[1;32massert\u001b[0m \u001b[0maction\u001b[0m \u001b[1;32min\u001b[0m \u001b[1;33m(\u001b[0m\u001b[1;34m\"get\"\u001b[0m\u001b[1;33m,\u001b[0m \u001b[1;34m\"post\"\u001b[0m\u001b[1;33m)\u001b[0m\u001b[1;33m,\u001b[0m \u001b[1;34m\"action needs equal 'get' or 'post'\"\u001b[0m\u001b[1;33m\u001b[0m\u001b[0m\n\u001b[0m\u001b[0;32m      3\u001b[0m     \u001b[1;31m## use try except to catch any connection or timeout errors\u001b[0m\u001b[1;33m\u001b[0m\u001b[1;33m\u001b[0m\u001b[0m\n\u001b[0;32m      4\u001b[0m     \u001b[1;32mtry\u001b[0m\u001b[1;33m:\u001b[0m\u001b[1;33m\u001b[0m\u001b[0m\n\u001b[0;32m      5\u001b[0m         \u001b[1;32mif\u001b[0m \u001b[0maction\u001b[0m\u001b[1;33m==\u001b[0m\u001b[1;34m\"get\"\u001b[0m\u001b[1;33m:\u001b[0m \u001b[1;31m## when using get\u001b[0m\u001b[1;33m\u001b[0m\u001b[0m\n",
      "\u001b[1;31mAssertionError\u001b[0m: action needs equal 'get' or 'post'"
     ]
    }
   ],
   "source": [
    "## cancel the event\n",
    "url = build_url(event_id, action=\"cancel\")\n",
    "print(url)\n",
    "\n",
    "call = safely_call_eb(url, action=\"p\", headers=headers)"
   ]
  },
  {
   "cell_type": "code",
   "execution_count": 88,
   "metadata": {},
   "outputs": [
    {
     "data": {
      "text/plain": [
       "200"
      ]
     },
     "execution_count": 88,
     "metadata": {},
     "output_type": "execute_result"
    }
   ],
   "source": [
    "## was it successful??\n",
    "call.status_code"
   ]
  },
  {
   "cell_type": "code",
   "execution_count": 92,
   "metadata": {
    "collapsed": true
   },
   "outputs": [],
   "source": [
    "def safely_call_eb(url, headers, action=\"get\", post=\"\"):\n",
    "    assert action in (\"get\", \"post\", \"delete\"), \"action needs equal 'get', 'post', delete'\"\n",
    "    ## use try except to catch any connection or timeout errors\n",
    "    try: \n",
    "        if action==\"get\": ## when using get\n",
    "            call = requests.get(url, headers=headers) \n",
    "        elif action==\"post\" and post != \"\": ## when using post to post something\n",
    "            call = requests.post(url, json=post, headers=headers)\n",
    "        elif action==\"post\" and post == \"\": ## when using post for other reasons\n",
    "            call = requests.post(url, headers=headers)\n",
    "        elif action==\"delete\": ## when deleting\n",
    "            call = requests.delete(url, headers=headers)\n",
    "        print(\"Succesful connection\", url)\n",
    "    except requests.exceptions.RequestException as err: ## for if there is some sort of connection error\n",
    "        print(\"Ooops: Something went wrong\",err)\n",
    "    ## other possible requests exceptions: HTTPError, ConnectionError, Timeout\n",
    "\n",
    "    ## use another catch in case it hasn't authenticated properly or the query is wrong\n",
    "    if call.status_code != 200:\n",
    "        print(\"Something went wrong:\", call.json()['error_description'])\n",
    "    else:\n",
    "        print(\"Successful call! You're good to go\")\n",
    "    return(call)"
   ]
  },
  {
   "cell_type": "code",
   "execution_count": 93,
   "metadata": {},
   "outputs": [
    {
     "name": "stdout",
     "output_type": "stream",
     "text": [
      "https://www.eventbriteapi.com/v3/events/56456390584/\n",
      "Succesful connection https://www.eventbriteapi.com/v3/events/56456390584/\n",
      "Successful call! You're good to go\n"
     ]
    },
    {
     "data": {
      "text/plain": [
       "200"
      ]
     },
     "execution_count": 93,
     "metadata": {},
     "output_type": "execute_result"
    }
   ],
   "source": [
    "## delete eventbrite\n",
    "url = build_url(event_id)\n",
    "print(url)\n",
    "call = safely_call_eb(url, headers=headers, action=\"delete\")\n",
    "call.status_code\n"
   ]
  },
  {
   "cell_type": "markdown",
   "metadata": {},
   "source": [
    "## Left overs"
   ]
  },
  {
   "cell_type": "code",
   "execution_count": 122,
   "metadata": {
    "scrolled": false
   },
   "outputs": [
    {
     "name": "stdout",
     "output_type": "stream",
     "text": [
      "Darwin Panela:    dj_peelow@yahoo.com\n",
      "Kimberly Gumahini:    kimgumahin@gmail.com\n",
      "Ruby Shaira Panela:    shaipanela7@gmail.com\n",
      "David Rhodes:    drhodes@deakin.edu.au\n",
      "joe zhou:    yexing@deakin.edu.au\n",
      "Joy Gin:    joy.gin@deakin.edu.au\n",
      "Megan Mathers:    megan.mathers@deakin.edu.au\n",
      "Jarrod Beavis:    jarrod.beavis@deakin.edu.au\n",
      "Astride Loigom:    astride.loigom@deakin.edu.au\n",
      "Stephen Davis:    stephen.davis@deakin.edu.au\n",
      "Paul Crick:    p.crick@deakin.edu.au\n",
      "eric shen:    eric.shen@deakin.edu.au\n",
      "Stephen Maurer:    stephen.maurer@deakin.edu.au\n",
      "Derek Tsai:    derek.tsai@deakin.edu.au\n",
      "Roger McLean:    roger.mclean@deakin.edu.au\n",
      "Daniel Reynolds:    danny@deakin.edu.au\n"
     ]
    }
   ],
   "source": [
    "for i in range(len(resp[second])):\n",
    "    print(\"{0} {1}:    {2}\".format(resp[second][i]['first_name'], resp[second][i]['last_name'], resp[second][i][\"email\"]))"
   ]
  },
  {
   "cell_type": "code",
   "execution_count": 164,
   "metadata": {},
   "outputs": [
    {
     "name": "stdout",
     "output_type": "stream",
     "text": [
      "{'fname': ['Darwin', 'Kimberly', 'Ruby Shaira', 'David', 'joe', 'Joy', 'Megan', 'Jarrod', 'Astride', 'Stephen', 'Paul', 'eric', 'Stephen', 'Derek', 'Roger', 'Daniel'], 'email': ['dj_peelow@yahoo.com', 'kimgumahin@gmail.com', 'shaipanela7@gmail.com', 'drhodes@deakin.edu.au', 'yexing@deakin.edu.au', 'joy.gin@deakin.edu.au', 'megan.mathers@deakin.edu.au', 'jarrod.beavis@deakin.edu.au', 'astride.loigom@deakin.edu.au', 'stephen.davis@deakin.edu.au', 'p.crick@deakin.edu.au', 'eric.shen@deakin.edu.au', 'stephen.maurer@deakin.edu.au', 'derek.tsai@deakin.edu.au', 'roger.mclean@deakin.edu.au', 'danny@deakin.edu.au'], 'lname': ['Panela', 'Gumahini', 'Panela', 'Rhodes', 'zhou', 'Gin', 'Mathers', 'Beavis', 'Loigom', 'Davis', 'Crick', 'shen', 'Maurer', 'Tsai', 'McLean', 'Reynolds']}\n"
     ]
    }
   ],
   "source": [
    "dictionary = {\"fname\":[], \"lname\":[], \"email\":[]}\n",
    "\n",
    "for i in range(len(resp[second])):\n",
    "    dictionary[\"fname\"].append(resp[second][i]['first_name'])\n",
    "    dictionary[\"lname\"].append(resp[second][i]['last_name'])\n",
    "    dictionary[\"email\"].append(resp[second][i][\"email\"])\n",
    "\n",
    "\n",
    "print(dictionary)"
   ]
  },
  {
   "cell_type": "code",
   "execution_count": 217,
   "metadata": {
    "scrolled": true
   },
   "outputs": [
    {
     "name": "stdout",
     "output_type": "stream",
     "text": [
      "Call successful\n",
      "\n",
      "There are 0 orders for the event: 56314871296\n"
     ]
    },
    {
     "data": {
      "text/plain": [
       "0"
      ]
     },
     "execution_count": 217,
     "metadata": {},
     "output_type": "execute_result"
    }
   ],
   "source": [
    "get_event_details(\"orders\", event_id, params)"
   ]
  }
 ],
 "metadata": {
  "kernelspec": {
   "display_name": "Python 3",
   "language": "python",
   "name": "python3"
  },
  "language_info": {
   "codemirror_mode": {
    "name": "ipython",
    "version": 3
   },
   "file_extension": ".py",
   "mimetype": "text/x-python",
   "name": "python",
   "nbconvert_exporter": "python",
   "pygments_lexer": "ipython3",
   "version": "3.7.1"
  }
 },
 "nbformat": 4,
 "nbformat_minor": 1
}
